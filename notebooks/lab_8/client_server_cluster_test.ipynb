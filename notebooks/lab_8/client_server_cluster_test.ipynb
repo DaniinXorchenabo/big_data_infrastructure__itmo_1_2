{
 "cells": [
  {
   "cell_type": "code",
   "execution_count": null,
   "id": "initial_id",
   "metadata": {
    "collapsed": true
   },
   "outputs": [],
   "source": [
    "!wsl -d <Distributive-Name>\n",
    "!kubectl create namespace spark\n",
    "!kubectl apply -f ./docker/kubernetes/deprecated/no-auth-spark-master.yaml -n spark\n",
    "!kubectl apply -f ./docker/kubernetes/deprecated/no-auth-spark-master.yaml -n spark\n",
    "\n",
    "# Into everyone kubernetes spark container\n",
    "!pip install flask aiohttp"
   ]
  },
  {
   "metadata": {},
   "cell_type": "markdown",
   "source": "# Code for worker deploying",
   "id": "d43a094ac99b5001"
  },
  {
   "metadata": {},
   "cell_type": "code",
   "outputs": [],
   "execution_count": null,
   "source": [
    "from flask import Flask, request, jsonify\n",
    "\n",
    "app = Flask(__name__)\n",
    "\"deprecated\"\n",
    "\n",
    "def sum_fibonacci(n: int) -> int:\n",
    "    total = 0\n",
    "    for _ in range(n):\n",
    "        total += 1\n",
    "    return total\n",
    "\n",
    "@app.route(\"/fib_sum\", methods=[\"GET\"])\n",
    "def fib_sum():\n",
    "    n_str = request.args.get(\"n\", None)\n",
    "    if n_str is None:\n",
    "        return jsonify({\"error\": \"Не задан параметр 'n'\"}), 400\n",
    "    try:\n",
    "        n = int(n_str)\n",
    "        if n < 0:\n",
    "            raise ValueError\n",
    "    except ValueError:\n",
    "        return jsonify({\"error\": \"Параметр 'n' должен быть целым числом >= 0\"}), 400\n",
    "    result = sum_fibonacci(n)\n",
    "    response = {\n",
    "        \"n\": n,\n",
    "        \"fib_sum\": result,\n",
    "        \"note\": f\"Сумма первых {n} чисел Фибоначчи (F₁…Fₙ)\"\n",
    "    }\n",
    "    return jsonify(response), 200\n",
    "\n",
    "if __name__ == \"__main__\":\n",
    "    app.run(host=\"0.0.0.0\", port=11111)\n"
   ],
   "id": "50f672150c4eb298"
  },
  {
   "metadata": {},
   "cell_type": "markdown",
   "source": "# Code for master deploying",
   "id": "eb7dccb8bbf703ed"
  },
  {
   "metadata": {},
   "cell_type": "code",
   "outputs": [],
   "execution_count": null,
   "source": [
    "import asyncio\n",
    "import aiohttp\n",
    "from time import time_ns\n",
    "\n",
    "async def get_fib_sum_async(n: int, base_url: str = \"http://spark-worker:11111\") -> int:\n",
    "    if n < 0:\n",
    "        raise ValueError(\"n должен быть целым числом >= 0\")\n",
    "    url = f\"{base_url.rstrip('/')}/fib_sum\"\n",
    "    params = {\"n\": n}\n",
    "    timeout = aiohttp.ClientTimeout(total=60)\n",
    "    async with aiohttp.ClientSession(timeout=timeout) as session:\n",
    "        try:\n",
    "            async with session.get(url, params=params) as resp:\n",
    "                if resp.status != 200:\n",
    "                    text = await resp.text()\n",
    "                    raise ValueError(f\"Сервер вернул статус {resp.status}: {text}\")\n",
    "                data = await resp.json()\n",
    "        except aiohttp.ClientError as e:\n",
    "            raise e from e\n",
    "    if \"fib_sum\" not in data:\n",
    "        raise ValueError(f\"Непредвиденный ответ сервера: {data}\")\n",
    "    return data[\"fib_sum\"]\n",
    "\n",
    "\n",
    "# Пример использования:\n",
    "async def run_q(n):\n",
    "    try:\n",
    "        start = time_ns()\n",
    "        result = await get_fib_sum_async(n)\n",
    "        print(f\"{(time_ns() - start) / 1_000_000_000}: Сумма первых {n} чисел Фибоначчи: {result}\")\n",
    "    except ValueError as ve:\n",
    "        print(f\"Ошибка валидации или ответ сервера: {ve}\")\n",
    "    except aiohttp.ClientError as ce:\n",
    "        print(f\"Сетевая ошибка при запросе: {ce}\")\n",
    "\n",
    "async def main(nums):\n",
    "    tasks = [asyncio.create_task(run_q(i)) for i in nums]\n",
    "    await asyncio.wait(tasks)\n",
    "\n",
    "# asyncio.run(main(10))\n",
    "asyncio.run(main([100_000_000, 100_000_000, 100_000_000, 100_000_000, 100_000_000]))"
   ],
   "id": "f45ff0111529811a"
  }
 ],
 "metadata": {
  "kernelspec": {
   "display_name": "Python 3",
   "language": "python",
   "name": "python3"
  },
  "language_info": {
   "codemirror_mode": {
    "name": "ipython",
    "version": 2
   },
   "file_extension": ".py",
   "mimetype": "text/x-python",
   "name": "python",
   "nbconvert_exporter": "python",
   "pygments_lexer": "ipython2",
   "version": "2.7.6"
  }
 },
 "nbformat": 4,
 "nbformat_minor": 5
}
