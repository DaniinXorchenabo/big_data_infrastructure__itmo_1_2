{
 "cells": [
  {
   "cell_type": "code",
   "id": "initial_id",
   "metadata": {
    "ExecuteTime": {
     "end_time": "2025-04-15T19:32:01.703018Z",
     "start_time": "2025-04-15T19:32:00.304919Z"
    }
   },
   "source": [
    "# %load_ext autoreload\n",
    "# %autoreload 2\n",
    "# %reload_ext autoreload\n",
    "\n",
    "import os\n",
    "ROOT_DIR = '/workspace/NN'\n",
    "os.chdir(ROOT_DIR)\n",
    "\n",
    "import shutil\n",
    "import kagglehub\n",
    "import torch\n",
    "from pyspark.sql import SparkSession\n",
    "import socket\n",
    "\n",
    "dataset_path = os.path.join(ROOT_DIR, 'neural', 'datasets', 'spark', 'test_1')\n",
    "os.makedirs(dataset_path, exist_ok=True)\n",
    "device = torch.device('cuda' if torch.cuda.is_available() else 'cpu')\n",
    "\n",
    "\n",
    "\n",
    "print(socket.gethostbyname(\"spark-master\"))\n",
    "driver_host = socket.gethostbyname(socket.gethostname())\n",
    "print(driver_host)\n",
    "driver_host = socket.gethostbyname(\"spark-master\")\n",
    "print(driver_host)\n",
    "driver_host = \"producer\"\n",
    "os.environ[\"PYSPARK_SUBMIT_ARGS\"] = f\"\"\"\n",
    "--master spark://spark-master:7077\n",
    "--conf spark.driver.host={driver_host}\n",
    "--conf spark.driver.port=45555\n",
    "--conf spark.executor.memory=1G\n",
    "--conf spark.executor.cores=1\n",
    "pyspark-shell\n",
    "\"\"\"\n",
    "os.environ[\"JAVA_HOME\"] = \"/usr/lib/jvm/java-11-openjdk-amd64\"\n",
    "# os.environ['PYSPARK_PYTHON'] = '/usr/bin/python3'  # путь к Python в контейнере\n",
    "# os.environ['SPARK_HOME'] = '/opt/spark'            # путь к Spark, укажи реальный\n",
    "# os.environ['PYSPARK_DRIVER_PYTHON'] = 'jupyter'\n",
    "\n",
    "MONGO_USER = \"admin\"\n",
    "MONGO_PASS = \"password\"\n",
    "MONGO_ADDR = f\"{MONGO_USER}:{MONGO_PASS}@mongodb:27017\"  # :27017\n",
    "\n",
    "def spark_app_generator(name):\n",
    "    spark = SparkSession.builder \\\n",
    "        .master(\"spark://spark-master:7077\") \\\n",
    "        .appName(name) \\\n",
    "         .config(\"spark.driver.bindAddress\", \"0.0.0.0\") \\\n",
    "        .config(\"spark.executor.memory\", \"1g\") \\\n",
    "        .config(\"spark.driver.memory\", \"1g\") \\\n",
    "    .config(\"spark.jars.packages\", \"org.mongodb.spark:mongo-spark-connector_2.12:10.3.0\") \\\n",
    "    .config(\"spark.mongodb.read.connection.uri\", f\"mongodb://{MONGO_ADDR}\") \\\n",
    "    .config(\"spark.mongodb.write.connection.uri\", f\"mongodb://{MONGO_ADDR}\") \\\n",
    "        .getOrCreate()\n",
    "    return spark  # /openfoodfacts.products\n"
   ],
   "outputs": [
    {
     "name": "stdout",
     "output_type": "stream",
     "text": [
      "172.21.0.2\n",
      "172.21.0.5\n",
      "172.21.0.2\n"
     ]
    }
   ],
   "execution_count": 2
  },
  {
   "cell_type": "code",
   "id": "8452b8cf4a07aad2",
   "metadata": {
    "scrolled": true,
    "ExecuteTime": {
     "end_time": "2025-04-15T19:35:54.704828Z",
     "start_time": "2025-04-15T19:35:47.723216Z"
    }
   },
   "source": [
    "from pyspark.sql.types import StructType, StructField, StringType, IntegerType, MapType\n",
    "\n",
    "# Пример определения схемы. Настройте схему под структуру ваших данных.\n",
    "custom_schema = StructType([\n",
    "    StructField(\"_id\", StringType(), True),\n",
    "    StructField(\"product_name\", StringType(), True),\n",
    "    # Если nutriments представляет собой динамические поля, лучше сохранить его как MapType.\n",
    "    StructField(\"nutriments\", MapType(StringType(), StringType()), True),\n",
    "    # Если есть другие поля, укажите их типы.\n",
    "    StructField(\"quantity\", StringType(), True)\n",
    "])\n",
    "\n",
    "spark = spark_app_generator('test_mongo_reading')\n",
    "df = spark.read.schema(custom_schema).format(\"mongodb\") \\\n",
    "  .options(host=\"mongo:27017\", database=\"off\", collection='products').load()  # , database=\"off\", collection='products'\n",
    "\n",
    "# Просмотр схемы и первых строк\n",
    "df.printSchema()\n",
    "df.show(50)\n"
   ],
   "outputs": [
    {
     "name": "stdout",
     "output_type": "stream",
     "text": [
      "root\n",
      " |-- _id: string (nullable = true)\n",
      " |-- product_name: string (nullable = true)\n",
      " |-- nutriments: map (nullable = true)\n",
      " |    |-- key: string\n",
      " |    |-- value: string (valueContainsNull = true)\n",
      " |-- quantity: string (nullable = true)\n",
      "\n",
      "+------------+--------------------+--------------------+--------------------+\n",
      "|         _id|        product_name|          nutriments|            quantity|\n",
      "+------------+--------------------+--------------------+--------------------+\n",
      "|            |                NULL|                  {}|                NULL|\n",
      "|    00000000|           erytritol|{potassium_servin...|            150 gram|\n",
      "|000000000054|Limonade artisana...|                  {}|                NULL|\n",
      "|000000000063|Mozzarella Schnit...|{fat_100g -> 25, ...|                NULL|\n",
      "|000000000114|       Chocolate n 3|{fat_100g -> 44, ...|                80 g|\n",
      "|    00000001|Wild Norwegian El...|{potassium_servin...|  280gr. 320 Kapseln|\n",
      "|  0000000105|Paleta gran reser...|{fruits-vegetable...|               750ml|\n",
      "|    00000002|Filets de poulet ...|{carbohydrates_10...|           240-400 g|\n",
      "|    00000003|    Creatine Gummies|{proteins_unit ->...|               700ml|\n",
      "|    00000004|               Oreos|{carbohydrates_10...|                500g|\n",
      "|  0000000475|Confiture extra c...|{fat_100g -> 0, p...|               230 g|\n",
      "|    00000005|6K Protein White ...|{carbohydrates_10...|              1000ml|\n",
      "|    00000006|                NULL|{alcohol_serving ...|                500g|\n",
      "| 00000006666|      Gemüse - Gurke|                  {}|                1pcs|\n",
      "|    00000007|  Ah Mini-maiswafels|{carbohydrates_10...|                450g|\n",
      "|    00000008|                    |{potassium_servin...|               700ml|\n",
      "|    00000009|Mission Carb Bala...|{fat_100g -> 0.5,...|               700ml|\n",
      "|    00000010| Natual Energy Boost|{magnesium_servin...|               700ml|\n",
      "|    00000011|                    |                  {}|                1pcs|\n",
      "|    00000012|HIGH PROTEIN ICED...|{proteins_unit ->...|                    |\n",
      "|    00000013|Powdered peanut b...|{fat_100g -> 13, ...|               300 g|\n",
      "|    00000015|Madeleines ChocoLait|{alcohol_serving ...|              1000 g|\n",
      "|    00000016|    Desiccated liver|{fruits-vegetable...|                NULL|\n",
      "|    00000017|    Collagen For Her|{carbohydrates_10...|              1.0 kg|\n",
      "|    00000018|Chocolate peanut ...|{fat_100g -> 5.36...|                NULL|\n",
      "|    00000019|           Erdbeeren|{fat_100g -> 6.9,...|                250g|\n",
      "|    00000020|  Peanut Butter Chip|{potassium_servin...|1080 g / 50 madel...|\n",
      "|    00000021|Inulin Prebiotic ...|{saturated-fat_va...|                NULL|\n",
      "|    00000022|Farandole de made...|{carbohydrates_10...|               590 g|\n",
      "|    00000023|           Mezzo Mix|{carbohydrates_10...|               260 g|\n",
      "|    00000024| Magnesium Glycinate|{fruits-vegetable...|                    |\n",
      "|    00000025|Frog Fuel Power P...|{energy_unit -> k...|               610 g|\n",
      "|    00000026| The Smartest Cookie|{carbohydrates_10...|                    |\n",
      "|    00000027|                    |{fruits-vegetable...|               700ml|\n",
      "|    00000028|trader Joe's Hemp...|{alcohol_serving ...|               700ml|\n",
      "|    00000029|Anthony's Organic...|{potassium_servin...|                NULL|\n",
      "|    00000030|   Valeriana System®|{fruits-vegetable...|               900 g|\n",
      "|    00000031|10 chicken stock ...|{carbohydrates_10...|                100g|\n",
      "|    00000032|Hydrolyzed Bone B...|{carbohydrates_10...|                0.5l|\n",
      "|    00000033|Vegan Protein 3k ...|{proteins_unit ->...|                    |\n",
      "|    00000034|     Graines de Chia|{saturated-fat_va...|                 1kg|\n",
      "|    00000035|         Cardiofitmd|{energy_unit -> k...|               600 g|\n",
      "|    00000036|                NULL|{carbohydrates_10...|               490 g|\n",
      "|    00000037|             seletor|{carbohydrates_10...|              1.5 kg|\n",
      "|    00000038|          Madeleines|                  {}|                NULL|\n",
      "|    00000039|          Yerba Mate|{proteins_unit ->...|                1 kg|\n",
      "|    00000040|        Greens blend|{proteins_unit ->...|                NULL|\n",
      "|    00000041|         Egg Noodles|{fat_100g -> 6.1,...|                    |\n",
      "|    00000042|Multivitamins & M...|{carbohydrates_10...|       180 comprimés|\n",
      "|    00000043|pão cereais e queijo|{salt_prepared ->...|        30 compresse|\n",
      "+------------+--------------------+--------------------+--------------------+\n",
      "only showing top 50 rows\n",
      "\n"
     ]
    }
   ],
   "execution_count": 6
  },
  {
   "cell_type": "code",
   "id": "593e4532f56fb43c",
   "metadata": {
    "ExecuteTime": {
     "end_time": "2025-04-15T19:01:56.811784Z",
     "start_time": "2025-04-15T19:01:56.710626Z"
    }
   },
   "source": [
    "# Не забудьте остановить SparkSession по завершении работы\n",
    "spark.stop()"
   ],
   "outputs": [],
   "execution_count": 13
  },
  {
   "metadata": {
    "ExecuteTime": {
     "end_time": "2025-04-15T19:18:31.782142Z",
     "start_time": "2025-04-15T19:18:24.998019Z"
    }
   },
   "cell_type": "code",
   "source": "!pip install pymongo pymongo-schema",
   "id": "595f8fd24aefadcd",
   "outputs": [
    {
     "name": "stdout",
     "output_type": "stream",
     "text": [
      "Requirement already satisfied: pymongo in /usr/local/lib/python3.12/site-packages (4.12.0)\r\n",
      "Collecting pymongo-schema\r\n",
      "  Downloading pymongo_schema-0.4.1-py3-none-any.whl.metadata (16 kB)\r\n",
      "Requirement already satisfied: dnspython<3.0.0,>=1.16.0 in /usr/local/lib/python3.12/site-packages (from pymongo) (2.7.0)\r\n",
      "Requirement already satisfied: pyyaml in /usr/local/lib/python3.12/site-packages (from pymongo-schema) (6.0.2)\r\n",
      "Collecting docopt (from pymongo-schema)\r\n",
      "  Downloading docopt-0.6.2.tar.gz (25 kB)\r\n",
      "  Preparing metadata (setup.py) ... \u001B[?25ldone\r\n",
      "\u001B[?25hCollecting ete3 (from pymongo-schema)\r\n",
      "  Downloading ete3-3.1.3.tar.gz (4.8 MB)\r\n",
      "\u001B[2K     \u001B[90m━━━━━━━━━━━━━━━━━━━━━━━━━━━━━━━━━━━━━━━━\u001B[0m \u001B[32m4.8/4.8 MB\u001B[0m \u001B[31m15.6 MB/s\u001B[0m eta \u001B[36m0:00:00\u001B[0ma \u001B[36m0:00:01\u001B[0m\r\n",
      "\u001B[?25h  Preparing metadata (setup.py) ... \u001B[?25ldone\r\n",
      "\u001B[?25hRequirement already satisfied: pandas in /usr/local/lib/python3.12/site-packages (from pymongo-schema) (2.2.3)\r\n",
      "Collecting xlwt (from pymongo-schema)\r\n",
      "  Downloading xlwt-1.3.0-py2.py3-none-any.whl.metadata (3.5 kB)\r\n",
      "Collecting xlsxwriter (from pymongo-schema)\r\n",
      "  Downloading XlsxWriter-3.2.2-py3-none-any.whl.metadata (2.8 kB)\r\n",
      "Collecting openpyxl (from pymongo-schema)\r\n",
      "  Downloading openpyxl-3.1.5-py2.py3-none-any.whl.metadata (2.5 kB)\r\n",
      "Requirement already satisfied: jinja2 in /usr/local/lib/python3.12/site-packages (from pymongo-schema) (3.1.6)\r\n",
      "Collecting future>=0.18.0 (from pymongo-schema)\r\n",
      "  Downloading future-1.0.0-py3-none-any.whl.metadata (4.0 kB)\r\n",
      "Requirement already satisfied: scipy in /usr/local/lib/python3.12/site-packages (from pymongo-schema) (1.15.2)\r\n",
      "Requirement already satisfied: MarkupSafe>=2.0 in /usr/local/lib/python3.12/site-packages (from jinja2->pymongo-schema) (3.0.2)\r\n",
      "Collecting et-xmlfile (from openpyxl->pymongo-schema)\r\n",
      "  Downloading et_xmlfile-2.0.0-py3-none-any.whl.metadata (2.7 kB)\r\n",
      "Requirement already satisfied: numpy>=1.26.0 in /usr/local/lib/python3.12/site-packages (from pandas->pymongo-schema) (1.26.4)\r\n",
      "Requirement already satisfied: python-dateutil>=2.8.2 in /usr/local/lib/python3.12/site-packages (from pandas->pymongo-schema) (2.9.0.post0)\r\n",
      "Requirement already satisfied: pytz>=2020.1 in /usr/local/lib/python3.12/site-packages (from pandas->pymongo-schema) (2025.2)\r\n",
      "Requirement already satisfied: tzdata>=2022.7 in /usr/local/lib/python3.12/site-packages (from pandas->pymongo-schema) (2025.2)\r\n",
      "Requirement already satisfied: six>=1.5 in /usr/local/lib/python3.12/site-packages (from python-dateutil>=2.8.2->pandas->pymongo-schema) (1.17.0)\r\n",
      "Downloading pymongo_schema-0.4.1-py3-none-any.whl (29 kB)\r\n",
      "Downloading future-1.0.0-py3-none-any.whl (491 kB)\r\n",
      "Downloading openpyxl-3.1.5-py2.py3-none-any.whl (250 kB)\r\n",
      "Downloading XlsxWriter-3.2.2-py3-none-any.whl (165 kB)\r\n",
      "Downloading xlwt-1.3.0-py2.py3-none-any.whl (99 kB)\r\n",
      "Downloading et_xmlfile-2.0.0-py3-none-any.whl (18 kB)\r\n",
      "Building wheels for collected packages: docopt, ete3\r\n",
      "  Building wheel for docopt (setup.py) ... \u001B[?25ldone\r\n",
      "\u001B[?25h  Created wheel for docopt: filename=docopt-0.6.2-py2.py3-none-any.whl size=13781 sha256=b965c4697c6834a41a51e831b94d2b5b06c8f6a3dcf86b61b0e77cbb3f8263a9\r\n",
      "  Stored in directory: /root/.cache/pip/wheels/1a/bf/a1/4cee4f7678c68c5875ca89eaccf460593539805c3906722228\r\n",
      "  Building wheel for ete3 (setup.py) ... \u001B[?25ldone\r\n",
      "\u001B[?25h  Created wheel for ete3: filename=ete3-3.1.3-py3-none-any.whl size=2273900 sha256=9f785fd387570447067240dab5c04a3f0bbb108b2cbdefc188716048f94eb210\r\n",
      "  Stored in directory: /root/.cache/pip/wheels/4f/18/8d/3800b8b1dc7a8c1954eaa48424f639b2cfc760922cc3cee479\r\n",
      "Successfully built docopt ete3\r\n",
      "Installing collected packages: xlwt, ete3, docopt, xlsxwriter, future, et-xmlfile, openpyxl, pymongo-schema\r\n",
      "Successfully installed docopt-0.6.2 et-xmlfile-2.0.0 ete3-3.1.3 future-1.0.0 openpyxl-3.1.5 pymongo-schema-0.4.1 xlsxwriter-3.2.2 xlwt-1.3.0\r\n",
      "\u001B[33mWARNING: Running pip as the 'root' user can result in broken permissions and conflicting behaviour with the system package manager, possibly rendering your system unusable. It is recommended to use a virtual environment instead: https://pip.pypa.io/warnings/venv. Use the --root-user-action option if you know what you are doing and want to suppress this warning.\u001B[0m\u001B[33m\r\n",
      "\u001B[0m"
     ]
    }
   ],
   "execution_count": 10
  },
  {
   "cell_type": "code",
   "id": "e1c26009-d4fe-4f6d-a0b3-dd1f5b827156",
   "metadata": {
    "ExecuteTime": {
     "end_time": "2025-04-15T19:14:23.598170Z",
     "start_time": "2025-04-15T19:14:23.490065Z"
    }
   },
   "source": [
    "import pymongo\n",
    "maxSevSelDelay = 1 # Assume 1ms maximum server selection\n",
    "client = pymongo.MongoClient(f\"mongodb://{MONGO_ADDR}\",\n",
    "                                 serverSelectionTimeoutMS=maxSevSelDelay)\n",
    "\n",
    "client.server_info()"
   ],
   "outputs": [
    {
     "data": {
      "text/plain": [
       "{'version': '6.0.22',\n",
       " 'gitVersion': 'ee527360b84c6798535ee0895de3c7186b3522f9',\n",
       " 'modules': [],\n",
       " 'allocator': 'tcmalloc',\n",
       " 'javascriptEngine': 'mozjs',\n",
       " 'sysInfo': 'deprecated',\n",
       " 'versionArray': [6, 0, 22, 0],\n",
       " 'openssl': {'running': 'OpenSSL 3.0.2 15 Mar 2022',\n",
       "  'compiled': 'OpenSSL 3.0.2 15 Mar 2022'},\n",
       " 'buildEnvironment': {'distmod': 'ubuntu2204',\n",
       "  'distarch': 'x86_64',\n",
       "  'cc': '/opt/mongodbtoolchain/v3/bin/gcc: gcc (GCC) 8.5.0',\n",
       "  'ccflags': '-Werror -include mongo/platform/basic.h -ffp-contract=off -fasynchronous-unwind-tables -ggdb -Wall -Wsign-compare -Wno-unknown-pragmas -Winvalid-pch -fno-omit-frame-pointer -fno-strict-aliasing -O2 -march=sandybridge -mtune=generic -mprefer-vector-width=128 -Wno-unused-local-typedefs -Wno-unused-function -Wno-deprecated-declarations -Wno-unused-const-variable -Wno-unused-but-set-variable -Wno-missing-braces -fstack-protector-strong -fdebug-types-section -Wa,--nocompress-debug-sections -fno-builtin-memcmp',\n",
       "  'cxx': '/opt/mongodbtoolchain/v3/bin/g++: g++ (GCC) 8.5.0',\n",
       "  'cxxflags': '-Woverloaded-virtual -Wno-maybe-uninitialized -fsized-deallocation -std=c++17',\n",
       "  'linkflags': '-Wl,--fatal-warnings -pthread -Wl,-z,now -fuse-ld=gold -fstack-protector-strong -fdebug-types-section -Wl,--no-threads -Wl,--build-id -Wl,--hash-style=gnu -Wl,-z,noexecstack -Wl,--warn-execstack -Wl,-z,relro -Wl,--compress-debug-sections=none -Wl,-z,origin -Wl,--enable-new-dtags',\n",
       "  'target_arch': 'x86_64',\n",
       "  'target_os': 'linux',\n",
       "  'cppdefines': 'SAFEINT_USE_INTRINSICS 0 PCRE_STATIC NDEBUG _XOPEN_SOURCE 700 _GNU_SOURCE _FORTIFY_SOURCE 2 BOOST_THREAD_VERSION 5 BOOST_THREAD_USES_DATETIME BOOST_SYSTEM_NO_DEPRECATED BOOST_MATH_NO_LONG_DOUBLE_MATH_FUNCTIONS BOOST_ENABLE_ASSERT_DEBUG_HANDLER BOOST_LOG_NO_SHORTHAND_NAMES BOOST_LOG_USE_NATIVE_SYSLOG BOOST_LOG_WITHOUT_THREAD_ATTR ABSL_FORCE_ALIGNED_ACCESS'},\n",
       " 'bits': 64,\n",
       " 'debug': False,\n",
       " 'maxBsonObjectSize': 16777216,\n",
       " 'storageEngines': ['devnull', 'ephemeralForTest', 'wiredTiger'],\n",
       " 'ok': 1.0}"
      ]
     },
     "execution_count": 5,
     "metadata": {},
     "output_type": "execute_result"
    }
   ],
   "execution_count": 5
  },
  {
   "metadata": {
    "ExecuteTime": {
     "end_time": "2025-04-15T19:15:35.642616Z",
     "start_time": "2025-04-15T19:15:35.633605Z"
    }
   },
   "cell_type": "code",
   "source": [
    "client.list_database_names()\n",
    "client.off.list_collection_names()"
   ],
   "id": "1d870a4824260e75",
   "outputs": [
    {
     "data": {
      "text/plain": [
       "['products']"
      ]
     },
     "execution_count": 7,
     "metadata": {},
     "output_type": "execute_result"
    }
   ],
   "execution_count": 7
  },
  {
   "metadata": {
    "ExecuteTime": {
     "end_time": "2025-04-15T19:18:38.913981Z",
     "start_time": "2025-04-15T19:18:37.841386Z"
    }
   },
   "cell_type": "code",
   "source": [
    "import pymongo\n",
    "from pymongo_schema.extract import extract_pymongo_client_schema\n",
    "schema = extract_pymongo_client_schema(client)\n",
    "schema"
   ],
   "id": "19364738b3ab18c9",
   "outputs": [
    {
     "ename": "OperationFailure",
     "evalue": "not authorized on config to execute command { count: \"system.sessions\", lsid: { id: UUID(\"beed8ced-129d-4cee-9761-49a81d635588\") }, $db: \"config\" }, full error: {'ok': 0.0, 'errmsg': 'not authorized on config to execute command { count: \"system.sessions\", lsid: { id: UUID(\"beed8ced-129d-4cee-9761-49a81d635588\") }, $db: \"config\" }', 'code': 13, 'codeName': 'Unauthorized'}",
     "output_type": "error",
     "traceback": [
      "\u001B[31m---------------------------------------------------------------------------\u001B[39m",
      "\u001B[31mOperationFailure\u001B[39m                          Traceback (most recent call last)",
      "\u001B[36mCell\u001B[39m\u001B[36m \u001B[39m\u001B[32mIn[11]\u001B[39m\u001B[32m, line 3\u001B[39m\n\u001B[32m      1\u001B[39m \u001B[38;5;28;01mimport\u001B[39;00m\u001B[38;5;250m \u001B[39m\u001B[34;01mpymongo\u001B[39;00m\n\u001B[32m      2\u001B[39m \u001B[38;5;28;01mfrom\u001B[39;00m\u001B[38;5;250m \u001B[39m\u001B[34;01mpymongo_schema\u001B[39;00m\u001B[34;01m.\u001B[39;00m\u001B[34;01mextract\u001B[39;00m\u001B[38;5;250m \u001B[39m\u001B[38;5;28;01mimport\u001B[39;00m extract_pymongo_client_schema \n\u001B[32m----> \u001B[39m\u001B[32m3\u001B[39m schema = \u001B[43mextract_pymongo_client_schema\u001B[49m\u001B[43m(\u001B[49m\u001B[43mclient\u001B[49m\u001B[43m)\u001B[49m\n\u001B[32m      4\u001B[39m schema\n",
      "\u001B[36mFile \u001B[39m\u001B[32m/usr/local/lib/python3.12/site-packages/pymongo_schema/extract.py:77\u001B[39m, in \u001B[36mextract_pymongo_client_schema\u001B[39m\u001B[34m(pymongo_client, database_names, collection_names, sample_size)\u001B[39m\n\u001B[32m     75\u001B[39m logger.info(\u001B[33m'\u001B[39m\u001B[33mExtract schema of database \u001B[39m\u001B[38;5;132;01m%s\u001B[39;00m\u001B[33m'\u001B[39m, database)\n\u001B[32m     76\u001B[39m pymongo_database = pymongo_client[database]\n\u001B[32m---> \u001B[39m\u001B[32m77\u001B[39m database_schema = \u001B[43mextract_database_schema\u001B[49m\u001B[43m(\u001B[49m\u001B[43mpymongo_database\u001B[49m\u001B[43m,\u001B[49m\u001B[43m \u001B[49m\u001B[43mcollection_names\u001B[49m\u001B[43m,\u001B[49m\u001B[43m \u001B[49m\u001B[43msample_size\u001B[49m\u001B[43m)\u001B[49m\n\u001B[32m     78\u001B[39m \u001B[38;5;28;01mif\u001B[39;00m database_schema:  \u001B[38;5;66;03m# Do not add a schema if it is empty\u001B[39;00m\n\u001B[32m     79\u001B[39m     mongo_schema[database] = database_schema\n",
      "\u001B[36mFile \u001B[39m\u001B[32m/usr/local/lib/python3.12/site-packages/pymongo_schema/extract.py:105\u001B[39m, in \u001B[36mextract_database_schema\u001B[39m\u001B[34m(pymongo_database, collection_names, sample_size)\u001B[39m\n\u001B[32m    103\u001B[39m     logger.info(\u001B[33m'\u001B[39m\u001B[33m...collection \u001B[39m\u001B[38;5;132;01m%s\u001B[39;00m\u001B[33m'\u001B[39m, collection)\n\u001B[32m    104\u001B[39m     pymongo_collection = pymongo_database[collection]\n\u001B[32m--> \u001B[39m\u001B[32m105\u001B[39m     database_schema[collection] = \u001B[43mextract_collection_schema\u001B[49m\u001B[43m(\u001B[49m\u001B[43mpymongo_collection\u001B[49m\u001B[43m,\u001B[49m\u001B[43m \u001B[49m\u001B[43msample_size\u001B[49m\u001B[43m)\u001B[49m\n\u001B[32m    107\u001B[39m \u001B[38;5;28;01mreturn\u001B[39;00m database_schema\n",
      "\u001B[36mFile \u001B[39m\u001B[32m/usr/local/lib/python3.12/site-packages/pymongo_schema/extract.py:126\u001B[39m, in \u001B[36mextract_collection_schema\u001B[39m\u001B[34m(pymongo_collection, sample_size)\u001B[39m\n\u001B[32m    111\u001B[39m \u001B[38;5;250m\u001B[39m\u001B[33;03m\"\"\" Iterate through all document of a collection to create its schema\u001B[39;00m\n\u001B[32m    112\u001B[39m \n\u001B[32m    113\u001B[39m \u001B[33;03m- Init collection schema\u001B[39;00m\n\u001B[32m   (...)\u001B[39m\u001B[32m    119\u001B[39m \u001B[33;03m:return collection_schema: dict\u001B[39;00m\n\u001B[32m    120\u001B[39m \u001B[33;03m\"\"\"\u001B[39;00m\n\u001B[32m    121\u001B[39m collection_schema = {\n\u001B[32m    122\u001B[39m     \u001B[33m'\u001B[39m\u001B[33mcount\u001B[39m\u001B[33m'\u001B[39m: \u001B[32m0\u001B[39m,\n\u001B[32m    123\u001B[39m     \u001B[33m\"\u001B[39m\u001B[33mobject\u001B[39m\u001B[33m\"\u001B[39m: init_empty_object_schema()\n\u001B[32m    124\u001B[39m }\n\u001B[32m--> \u001B[39m\u001B[32m126\u001B[39m n = \u001B[43mpymongo_collection\u001B[49m\u001B[43m.\u001B[49m\u001B[43mestimated_document_count\u001B[49m\u001B[43m(\u001B[49m\u001B[43m)\u001B[49m\n\u001B[32m    127\u001B[39m collection_schema[\u001B[33m'\u001B[39m\u001B[33mcount\u001B[39m\u001B[33m'\u001B[39m] = n\n\u001B[32m    128\u001B[39m \u001B[38;5;28;01mif\u001B[39;00m sample_size:\n",
      "\u001B[36mFile \u001B[39m\u001B[32m/usr/local/lib/python3.12/site-packages/pymongo/synchronous/collection.py:2065\u001B[39m, in \u001B[36mCollection.estimated_document_count\u001B[39m\u001B[34m(self, comment, **kwargs)\u001B[39m\n\u001B[32m   2062\u001B[39m     cmd.update(kwargs)\n\u001B[32m   2063\u001B[39m     \u001B[38;5;28;01mreturn\u001B[39;00m \u001B[38;5;28mself\u001B[39m._count_cmd(session, conn, read_preference, cmd, collation=\u001B[38;5;28;01mNone\u001B[39;00m)\n\u001B[32m-> \u001B[39m\u001B[32m2065\u001B[39m \u001B[38;5;28;01mreturn\u001B[39;00m \u001B[38;5;28;43mself\u001B[39;49m\u001B[43m.\u001B[49m\u001B[43m_retryable_non_cursor_read\u001B[49m\u001B[43m(\u001B[49m\u001B[43m_cmd\u001B[49m\u001B[43m,\u001B[49m\u001B[43m \u001B[49m\u001B[38;5;28;43;01mNone\u001B[39;49;00m\u001B[43m,\u001B[49m\u001B[43m \u001B[49m\u001B[43moperation\u001B[49m\u001B[43m=\u001B[49m\u001B[43m_Op\u001B[49m\u001B[43m.\u001B[49m\u001B[43mCOUNT\u001B[49m\u001B[43m)\u001B[49m\n",
      "\u001B[36mFile \u001B[39m\u001B[32m/usr/local/lib/python3.12/site-packages/pymongo/synchronous/collection.py:2168\u001B[39m, in \u001B[36mCollection._retryable_non_cursor_read\u001B[39m\u001B[34m(self, func, session, operation)\u001B[39m\n\u001B[32m   2166\u001B[39m client = \u001B[38;5;28mself\u001B[39m._database.client\n\u001B[32m   2167\u001B[39m \u001B[38;5;28;01mwith\u001B[39;00m client._tmp_session(session) \u001B[38;5;28;01mas\u001B[39;00m s:\n\u001B[32m-> \u001B[39m\u001B[32m2168\u001B[39m     \u001B[38;5;28;01mreturn\u001B[39;00m \u001B[43mclient\u001B[49m\u001B[43m.\u001B[49m\u001B[43m_retryable_read\u001B[49m\u001B[43m(\u001B[49m\u001B[43mfunc\u001B[49m\u001B[43m,\u001B[49m\u001B[43m \u001B[49m\u001B[38;5;28;43mself\u001B[39;49m\u001B[43m.\u001B[49m\u001B[43m_read_preference_for\u001B[49m\u001B[43m(\u001B[49m\u001B[43ms\u001B[49m\u001B[43m)\u001B[49m\u001B[43m,\u001B[49m\u001B[43m \u001B[49m\u001B[43ms\u001B[49m\u001B[43m,\u001B[49m\u001B[43m \u001B[49m\u001B[43moperation\u001B[49m\u001B[43m)\u001B[49m\n",
      "\u001B[36mFile \u001B[39m\u001B[32m/usr/local/lib/python3.12/site-packages/pymongo/synchronous/mongo_client.py:2005\u001B[39m, in \u001B[36mMongoClient._retryable_read\u001B[39m\u001B[34m(self, func, read_pref, session, operation, address, retryable, operation_id)\u001B[39m\n\u001B[32m   2000\u001B[39m \u001B[38;5;66;03m# Ensure that the client supports retrying on reads and there is no session in\u001B[39;00m\n\u001B[32m   2001\u001B[39m \u001B[38;5;66;03m# transaction, otherwise, we will not support retry behavior for this call.\u001B[39;00m\n\u001B[32m   2002\u001B[39m retryable = \u001B[38;5;28mbool\u001B[39m(\n\u001B[32m   2003\u001B[39m     retryable \u001B[38;5;129;01mand\u001B[39;00m \u001B[38;5;28mself\u001B[39m.options.retry_reads \u001B[38;5;129;01mand\u001B[39;00m \u001B[38;5;129;01mnot\u001B[39;00m (session \u001B[38;5;129;01mand\u001B[39;00m session.in_transaction)\n\u001B[32m   2004\u001B[39m )\n\u001B[32m-> \u001B[39m\u001B[32m2005\u001B[39m \u001B[38;5;28;01mreturn\u001B[39;00m \u001B[38;5;28;43mself\u001B[39;49m\u001B[43m.\u001B[49m\u001B[43m_retry_internal\u001B[49m\u001B[43m(\u001B[49m\n\u001B[32m   2006\u001B[39m \u001B[43m    \u001B[49m\u001B[43mfunc\u001B[49m\u001B[43m,\u001B[49m\n\u001B[32m   2007\u001B[39m \u001B[43m    \u001B[49m\u001B[43msession\u001B[49m\u001B[43m,\u001B[49m\n\u001B[32m   2008\u001B[39m \u001B[43m    \u001B[49m\u001B[38;5;28;43;01mNone\u001B[39;49;00m\u001B[43m,\u001B[49m\n\u001B[32m   2009\u001B[39m \u001B[43m    \u001B[49m\u001B[43moperation\u001B[49m\u001B[43m,\u001B[49m\n\u001B[32m   2010\u001B[39m \u001B[43m    \u001B[49m\u001B[43mis_read\u001B[49m\u001B[43m=\u001B[49m\u001B[38;5;28;43;01mTrue\u001B[39;49;00m\u001B[43m,\u001B[49m\n\u001B[32m   2011\u001B[39m \u001B[43m    \u001B[49m\u001B[43maddress\u001B[49m\u001B[43m=\u001B[49m\u001B[43maddress\u001B[49m\u001B[43m,\u001B[49m\n\u001B[32m   2012\u001B[39m \u001B[43m    \u001B[49m\u001B[43mread_pref\u001B[49m\u001B[43m=\u001B[49m\u001B[43mread_pref\u001B[49m\u001B[43m,\u001B[49m\n\u001B[32m   2013\u001B[39m \u001B[43m    \u001B[49m\u001B[43mretryable\u001B[49m\u001B[43m=\u001B[49m\u001B[43mretryable\u001B[49m\u001B[43m,\u001B[49m\n\u001B[32m   2014\u001B[39m \u001B[43m    \u001B[49m\u001B[43moperation_id\u001B[49m\u001B[43m=\u001B[49m\u001B[43moperation_id\u001B[49m\u001B[43m,\u001B[49m\n\u001B[32m   2015\u001B[39m \u001B[43m\u001B[49m\u001B[43m)\u001B[49m\n",
      "\u001B[36mFile \u001B[39m\u001B[32m/usr/local/lib/python3.12/site-packages/pymongo/_csot.py:119\u001B[39m, in \u001B[36mapply.<locals>.csot_wrapper\u001B[39m\u001B[34m(self, *args, **kwargs)\u001B[39m\n\u001B[32m    117\u001B[39m         \u001B[38;5;28;01mwith\u001B[39;00m _TimeoutContext(timeout):\n\u001B[32m    118\u001B[39m             \u001B[38;5;28;01mreturn\u001B[39;00m func(\u001B[38;5;28mself\u001B[39m, *args, **kwargs)\n\u001B[32m--> \u001B[39m\u001B[32m119\u001B[39m \u001B[38;5;28;01mreturn\u001B[39;00m \u001B[43mfunc\u001B[49m\u001B[43m(\u001B[49m\u001B[38;5;28;43mself\u001B[39;49m\u001B[43m,\u001B[49m\u001B[43m \u001B[49m\u001B[43m*\u001B[49m\u001B[43margs\u001B[49m\u001B[43m,\u001B[49m\u001B[43m \u001B[49m\u001B[43m*\u001B[49m\u001B[43m*\u001B[49m\u001B[43mkwargs\u001B[49m\u001B[43m)\u001B[49m\n",
      "\u001B[36mFile \u001B[39m\u001B[32m/usr/local/lib/python3.12/site-packages/pymongo/synchronous/mongo_client.py:1972\u001B[39m, in \u001B[36mMongoClient._retry_internal\u001B[39m\u001B[34m(self, func, session, bulk, operation, is_read, address, read_pref, retryable, operation_id)\u001B[39m\n\u001B[32m   1935\u001B[39m \u001B[38;5;129m@_csot\u001B[39m.apply\n\u001B[32m   1936\u001B[39m \u001B[38;5;28;01mdef\u001B[39;00m\u001B[38;5;250m \u001B[39m\u001B[34m_retry_internal\u001B[39m(\n\u001B[32m   1937\u001B[39m     \u001B[38;5;28mself\u001B[39m,\n\u001B[32m   (...)\u001B[39m\u001B[32m   1946\u001B[39m     operation_id: Optional[\u001B[38;5;28mint\u001B[39m] = \u001B[38;5;28;01mNone\u001B[39;00m,\n\u001B[32m   1947\u001B[39m ) -> T:\n\u001B[32m   1948\u001B[39m \u001B[38;5;250m    \u001B[39m\u001B[33;03m\"\"\"Internal retryable helper for all client transactions.\u001B[39;00m\n\u001B[32m   1949\u001B[39m \n\u001B[32m   1950\u001B[39m \u001B[33;03m    :param func: Callback function we want to retry\u001B[39;00m\n\u001B[32m   (...)\u001B[39m\u001B[32m   1959\u001B[39m \u001B[33;03m    :return: Output of the calling func()\u001B[39;00m\n\u001B[32m   1960\u001B[39m \u001B[33;03m    \"\"\"\u001B[39;00m\n\u001B[32m   1961\u001B[39m     \u001B[38;5;28;01mreturn\u001B[39;00m \u001B[43m_ClientConnectionRetryable\u001B[49m\u001B[43m(\u001B[49m\n\u001B[32m   1962\u001B[39m \u001B[43m        \u001B[49m\u001B[43mmongo_client\u001B[49m\u001B[43m=\u001B[49m\u001B[38;5;28;43mself\u001B[39;49m\u001B[43m,\u001B[49m\n\u001B[32m   1963\u001B[39m \u001B[43m        \u001B[49m\u001B[43mfunc\u001B[49m\u001B[43m=\u001B[49m\u001B[43mfunc\u001B[49m\u001B[43m,\u001B[49m\n\u001B[32m   1964\u001B[39m \u001B[43m        \u001B[49m\u001B[43mbulk\u001B[49m\u001B[43m=\u001B[49m\u001B[43mbulk\u001B[49m\u001B[43m,\u001B[49m\n\u001B[32m   1965\u001B[39m \u001B[43m        \u001B[49m\u001B[43moperation\u001B[49m\u001B[43m=\u001B[49m\u001B[43moperation\u001B[49m\u001B[43m,\u001B[49m\n\u001B[32m   1966\u001B[39m \u001B[43m        \u001B[49m\u001B[43mis_read\u001B[49m\u001B[43m=\u001B[49m\u001B[43mis_read\u001B[49m\u001B[43m,\u001B[49m\n\u001B[32m   1967\u001B[39m \u001B[43m        \u001B[49m\u001B[43msession\u001B[49m\u001B[43m=\u001B[49m\u001B[43msession\u001B[49m\u001B[43m,\u001B[49m\n\u001B[32m   1968\u001B[39m \u001B[43m        \u001B[49m\u001B[43mread_pref\u001B[49m\u001B[43m=\u001B[49m\u001B[43mread_pref\u001B[49m\u001B[43m,\u001B[49m\n\u001B[32m   1969\u001B[39m \u001B[43m        \u001B[49m\u001B[43maddress\u001B[49m\u001B[43m=\u001B[49m\u001B[43maddress\u001B[49m\u001B[43m,\u001B[49m\n\u001B[32m   1970\u001B[39m \u001B[43m        \u001B[49m\u001B[43mretryable\u001B[49m\u001B[43m=\u001B[49m\u001B[43mretryable\u001B[49m\u001B[43m,\u001B[49m\n\u001B[32m   1971\u001B[39m \u001B[43m        \u001B[49m\u001B[43moperation_id\u001B[49m\u001B[43m=\u001B[49m\u001B[43moperation_id\u001B[49m\u001B[43m,\u001B[49m\n\u001B[32m-> \u001B[39m\u001B[32m1972\u001B[39m \u001B[43m    \u001B[49m\u001B[43m)\u001B[49m\u001B[43m.\u001B[49m\u001B[43mrun\u001B[49m\u001B[43m(\u001B[49m\u001B[43m)\u001B[49m\n",
      "\u001B[36mFile \u001B[39m\u001B[32m/usr/local/lib/python3.12/site-packages/pymongo/synchronous/mongo_client.py:2709\u001B[39m, in \u001B[36m_ClientConnectionRetryable.run\u001B[39m\u001B[34m(self)\u001B[39m\n\u001B[32m   2707\u001B[39m \u001B[38;5;28mself\u001B[39m._check_last_error(check_csot=\u001B[38;5;28;01mTrue\u001B[39;00m)\n\u001B[32m   2708\u001B[39m \u001B[38;5;28;01mtry\u001B[39;00m:\n\u001B[32m-> \u001B[39m\u001B[32m2709\u001B[39m     \u001B[38;5;28;01mreturn\u001B[39;00m \u001B[38;5;28;43mself\u001B[39;49m\u001B[43m.\u001B[49m\u001B[43m_read\u001B[49m\u001B[43m(\u001B[49m\u001B[43m)\u001B[49m \u001B[38;5;28;01mif\u001B[39;00m \u001B[38;5;28mself\u001B[39m._is_read \u001B[38;5;28;01melse\u001B[39;00m \u001B[38;5;28mself\u001B[39m._write()\n\u001B[32m   2710\u001B[39m \u001B[38;5;28;01mexcept\u001B[39;00m ServerSelectionTimeoutError:\n\u001B[32m   2711\u001B[39m     \u001B[38;5;66;03m# The application may think the write was never attempted\u001B[39;00m\n\u001B[32m   2712\u001B[39m     \u001B[38;5;66;03m# if we raise ServerSelectionTimeoutError on the retry\u001B[39;00m\n\u001B[32m   2713\u001B[39m     \u001B[38;5;66;03m# attempt. Raise the original exception instead.\u001B[39;00m\n\u001B[32m   2714\u001B[39m     \u001B[38;5;28mself\u001B[39m._check_last_error()\n",
      "\u001B[36mFile \u001B[39m\u001B[32m/usr/local/lib/python3.12/site-packages/pymongo/synchronous/mongo_client.py:2870\u001B[39m, in \u001B[36m_ClientConnectionRetryable._read\u001B[39m\u001B[34m(self)\u001B[39m\n\u001B[32m   2862\u001B[39m \u001B[38;5;28;01mif\u001B[39;00m \u001B[38;5;28mself\u001B[39m._retrying:\n\u001B[32m   2863\u001B[39m     _debug_log(\n\u001B[32m   2864\u001B[39m         _COMMAND_LOGGER,\n\u001B[32m   2865\u001B[39m         message=\u001B[33mf\u001B[39m\u001B[33m\"\u001B[39m\u001B[33mRetrying read attempt number \u001B[39m\u001B[38;5;132;01m{\u001B[39;00m\u001B[38;5;28mself\u001B[39m._attempt_number\u001B[38;5;132;01m}\u001B[39;00m\u001B[33m\"\u001B[39m,\n\u001B[32m   (...)\u001B[39m\u001B[32m   2868\u001B[39m         operationId=\u001B[38;5;28mself\u001B[39m._operation_id,\n\u001B[32m   2869\u001B[39m     )\n\u001B[32m-> \u001B[39m\u001B[32m2870\u001B[39m \u001B[38;5;28;01mreturn\u001B[39;00m \u001B[38;5;28;43mself\u001B[39;49m\u001B[43m.\u001B[49m\u001B[43m_func\u001B[49m\u001B[43m(\u001B[49m\u001B[38;5;28;43mself\u001B[39;49m\u001B[43m.\u001B[49m\u001B[43m_session\u001B[49m\u001B[43m,\u001B[49m\u001B[43m \u001B[49m\u001B[38;5;28;43mself\u001B[39;49m\u001B[43m.\u001B[49m\u001B[43m_server\u001B[49m\u001B[43m,\u001B[49m\u001B[43m \u001B[49m\u001B[43mconn\u001B[49m\u001B[43m,\u001B[49m\u001B[43m \u001B[49m\u001B[43mread_pref\u001B[49m\u001B[43m)\u001B[49m\n",
      "\u001B[36mFile \u001B[39m\u001B[32m/usr/local/lib/python3.12/site-packages/pymongo/synchronous/collection.py:2063\u001B[39m, in \u001B[36mCollection.estimated_document_count.<locals>._cmd\u001B[39m\u001B[34m(session, _server, conn, read_preference)\u001B[39m\n\u001B[32m   2061\u001B[39m cmd: \u001B[38;5;28mdict\u001B[39m[\u001B[38;5;28mstr\u001B[39m, Any] = {\u001B[33m\"\u001B[39m\u001B[33mcount\u001B[39m\u001B[33m\"\u001B[39m: \u001B[38;5;28mself\u001B[39m._name}\n\u001B[32m   2062\u001B[39m cmd.update(kwargs)\n\u001B[32m-> \u001B[39m\u001B[32m2063\u001B[39m \u001B[38;5;28;01mreturn\u001B[39;00m \u001B[38;5;28;43mself\u001B[39;49m\u001B[43m.\u001B[49m\u001B[43m_count_cmd\u001B[49m\u001B[43m(\u001B[49m\u001B[43msession\u001B[49m\u001B[43m,\u001B[49m\u001B[43m \u001B[49m\u001B[43mconn\u001B[49m\u001B[43m,\u001B[49m\u001B[43m \u001B[49m\u001B[43mread_preference\u001B[49m\u001B[43m,\u001B[49m\u001B[43m \u001B[49m\u001B[43mcmd\u001B[49m\u001B[43m,\u001B[49m\u001B[43m \u001B[49m\u001B[43mcollation\u001B[49m\u001B[43m=\u001B[49m\u001B[38;5;28;43;01mNone\u001B[39;49;00m\u001B[43m)\u001B[49m\n",
      "\u001B[36mFile \u001B[39m\u001B[32m/usr/local/lib/python3.12/site-packages/pymongo/synchronous/collection.py:1987\u001B[39m, in \u001B[36mCollection._count_cmd\u001B[39m\u001B[34m(self, session, conn, read_preference, cmd, collation)\u001B[39m\n\u001B[32m   1978\u001B[39m \u001B[38;5;28;01mdef\u001B[39;00m\u001B[38;5;250m \u001B[39m\u001B[34m_count_cmd\u001B[39m(\n\u001B[32m   1979\u001B[39m     \u001B[38;5;28mself\u001B[39m,\n\u001B[32m   1980\u001B[39m     session: Optional[ClientSession],\n\u001B[32m   (...)\u001B[39m\u001B[32m   1984\u001B[39m     collation: Optional[Collation],\n\u001B[32m   1985\u001B[39m ) -> \u001B[38;5;28mint\u001B[39m:\n\u001B[32m   1986\u001B[39m \u001B[38;5;250m    \u001B[39m\u001B[33;03m\"\"\"Internal count command helper.\"\"\"\u001B[39;00m\n\u001B[32m-> \u001B[39m\u001B[32m1987\u001B[39m     res = \u001B[38;5;28;43mself\u001B[39;49m\u001B[43m.\u001B[49m\u001B[43m_command\u001B[49m\u001B[43m(\u001B[49m\n\u001B[32m   1988\u001B[39m \u001B[43m        \u001B[49m\u001B[43mconn\u001B[49m\u001B[43m,\u001B[49m\n\u001B[32m   1989\u001B[39m \u001B[43m        \u001B[49m\u001B[43mcmd\u001B[49m\u001B[43m,\u001B[49m\n\u001B[32m   1990\u001B[39m \u001B[43m        \u001B[49m\u001B[43mread_preference\u001B[49m\u001B[43m=\u001B[49m\u001B[43mread_preference\u001B[49m\u001B[43m,\u001B[49m\n\u001B[32m   1991\u001B[39m \u001B[43m        \u001B[49m\u001B[43mcodec_options\u001B[49m\u001B[43m=\u001B[49m\u001B[38;5;28;43mself\u001B[39;49m\u001B[43m.\u001B[49m\u001B[43m_write_response_codec_options\u001B[49m\u001B[43m,\u001B[49m\n\u001B[32m   1992\u001B[39m \u001B[43m        \u001B[49m\u001B[43mread_concern\u001B[49m\u001B[43m=\u001B[49m\u001B[38;5;28;43mself\u001B[39;49m\u001B[43m.\u001B[49m\u001B[43mread_concern\u001B[49m\u001B[43m,\u001B[49m\n\u001B[32m   1993\u001B[39m \u001B[43m        \u001B[49m\u001B[43mcollation\u001B[49m\u001B[43m=\u001B[49m\u001B[43mcollation\u001B[49m\u001B[43m,\u001B[49m\n\u001B[32m   1994\u001B[39m \u001B[43m        \u001B[49m\u001B[43msession\u001B[49m\u001B[43m=\u001B[49m\u001B[43msession\u001B[49m\u001B[43m,\u001B[49m\n\u001B[32m   1995\u001B[39m \u001B[43m    \u001B[49m\u001B[43m)\u001B[49m\n\u001B[32m   1996\u001B[39m     \u001B[38;5;28;01mreturn\u001B[39;00m \u001B[38;5;28mint\u001B[39m(res[\u001B[33m\"\u001B[39m\u001B[33mn\u001B[39m\u001B[33m\"\u001B[39m])\n",
      "\u001B[36mFile \u001B[39m\u001B[32m/usr/local/lib/python3.12/site-packages/pymongo/synchronous/collection.py:621\u001B[39m, in \u001B[36mCollection._command\u001B[39m\u001B[34m(self, conn, command, read_preference, codec_options, check, allowable_errors, read_concern, write_concern, collation, session, retryable_write, user_fields)\u001B[39m\n\u001B[32m    595\u001B[39m \u001B[38;5;250m\u001B[39m\u001B[33;03m\"\"\"Internal command helper.\u001B[39;00m\n\u001B[32m    596\u001B[39m \n\u001B[32m    597\u001B[39m \u001B[33;03m:param conn` - A Connection instance.\u001B[39;00m\n\u001B[32m   (...)\u001B[39m\u001B[32m    618\u001B[39m \u001B[33;03m:return: The result document.\u001B[39;00m\n\u001B[32m    619\u001B[39m \u001B[33;03m\"\"\"\u001B[39;00m\n\u001B[32m    620\u001B[39m \u001B[38;5;28;01mwith\u001B[39;00m \u001B[38;5;28mself\u001B[39m._database.client._tmp_session(session) \u001B[38;5;28;01mas\u001B[39;00m s:\n\u001B[32m--> \u001B[39m\u001B[32m621\u001B[39m     \u001B[38;5;28;01mreturn\u001B[39;00m \u001B[43mconn\u001B[49m\u001B[43m.\u001B[49m\u001B[43mcommand\u001B[49m\u001B[43m(\u001B[49m\n\u001B[32m    622\u001B[39m \u001B[43m        \u001B[49m\u001B[38;5;28;43mself\u001B[39;49m\u001B[43m.\u001B[49m\u001B[43m_database\u001B[49m\u001B[43m.\u001B[49m\u001B[43mname\u001B[49m\u001B[43m,\u001B[49m\n\u001B[32m    623\u001B[39m \u001B[43m        \u001B[49m\u001B[43mcommand\u001B[49m\u001B[43m,\u001B[49m\n\u001B[32m    624\u001B[39m \u001B[43m        \u001B[49m\u001B[43mread_preference\u001B[49m\u001B[43m \u001B[49m\u001B[38;5;129;43;01mor\u001B[39;49;00m\u001B[43m \u001B[49m\u001B[38;5;28;43mself\u001B[39;49m\u001B[43m.\u001B[49m\u001B[43m_read_preference_for\u001B[49m\u001B[43m(\u001B[49m\u001B[43msession\u001B[49m\u001B[43m)\u001B[49m\u001B[43m,\u001B[49m\n\u001B[32m    625\u001B[39m \u001B[43m        \u001B[49m\u001B[43mcodec_options\u001B[49m\u001B[43m \u001B[49m\u001B[38;5;129;43;01mor\u001B[39;49;00m\u001B[43m \u001B[49m\u001B[38;5;28;43mself\u001B[39;49m\u001B[43m.\u001B[49m\u001B[43mcodec_options\u001B[49m\u001B[43m,\u001B[49m\n\u001B[32m    626\u001B[39m \u001B[43m        \u001B[49m\u001B[43mcheck\u001B[49m\u001B[43m,\u001B[49m\n\u001B[32m    627\u001B[39m \u001B[43m        \u001B[49m\u001B[43mallowable_errors\u001B[49m\u001B[43m,\u001B[49m\n\u001B[32m    628\u001B[39m \u001B[43m        \u001B[49m\u001B[43mread_concern\u001B[49m\u001B[43m=\u001B[49m\u001B[43mread_concern\u001B[49m\u001B[43m,\u001B[49m\n\u001B[32m    629\u001B[39m \u001B[43m        \u001B[49m\u001B[43mwrite_concern\u001B[49m\u001B[43m=\u001B[49m\u001B[43mwrite_concern\u001B[49m\u001B[43m,\u001B[49m\n\u001B[32m    630\u001B[39m \u001B[43m        \u001B[49m\u001B[43mparse_write_concern_error\u001B[49m\u001B[43m=\u001B[49m\u001B[38;5;28;43;01mTrue\u001B[39;49;00m\u001B[43m,\u001B[49m\n\u001B[32m    631\u001B[39m \u001B[43m        \u001B[49m\u001B[43mcollation\u001B[49m\u001B[43m=\u001B[49m\u001B[43mcollation\u001B[49m\u001B[43m,\u001B[49m\n\u001B[32m    632\u001B[39m \u001B[43m        \u001B[49m\u001B[43msession\u001B[49m\u001B[43m=\u001B[49m\u001B[43ms\u001B[49m\u001B[43m,\u001B[49m\n\u001B[32m    633\u001B[39m \u001B[43m        \u001B[49m\u001B[43mclient\u001B[49m\u001B[43m=\u001B[49m\u001B[38;5;28;43mself\u001B[39;49m\u001B[43m.\u001B[49m\u001B[43m_database\u001B[49m\u001B[43m.\u001B[49m\u001B[43mclient\u001B[49m\u001B[43m,\u001B[49m\n\u001B[32m    634\u001B[39m \u001B[43m        \u001B[49m\u001B[43mretryable_write\u001B[49m\u001B[43m=\u001B[49m\u001B[43mretryable_write\u001B[49m\u001B[43m,\u001B[49m\n\u001B[32m    635\u001B[39m \u001B[43m        \u001B[49m\u001B[43muser_fields\u001B[49m\u001B[43m=\u001B[49m\u001B[43muser_fields\u001B[49m\u001B[43m,\u001B[49m\n\u001B[32m    636\u001B[39m \u001B[43m    \u001B[49m\u001B[43m)\u001B[49m\n",
      "\u001B[36mFile \u001B[39m\u001B[32m/usr/local/lib/python3.12/site-packages/pymongo/synchronous/helpers.py:47\u001B[39m, in \u001B[36m_handle_reauth.<locals>.inner\u001B[39m\u001B[34m(*args, **kwargs)\u001B[39m\n\u001B[32m     44\u001B[39m \u001B[38;5;28;01mfrom\u001B[39;00m\u001B[38;5;250m \u001B[39m\u001B[34;01mpymongo\u001B[39;00m\u001B[34;01m.\u001B[39;00m\u001B[34;01msynchronous\u001B[39;00m\u001B[34;01m.\u001B[39;00m\u001B[34;01mpool\u001B[39;00m\u001B[38;5;250m \u001B[39m\u001B[38;5;28;01mimport\u001B[39;00m Connection\n\u001B[32m     46\u001B[39m \u001B[38;5;28;01mtry\u001B[39;00m:\n\u001B[32m---> \u001B[39m\u001B[32m47\u001B[39m     \u001B[38;5;28;01mreturn\u001B[39;00m \u001B[43mfunc\u001B[49m\u001B[43m(\u001B[49m\u001B[43m*\u001B[49m\u001B[43margs\u001B[49m\u001B[43m,\u001B[49m\u001B[43m \u001B[49m\u001B[43m*\u001B[49m\u001B[43m*\u001B[49m\u001B[43mkwargs\u001B[49m\u001B[43m)\u001B[49m\n\u001B[32m     48\u001B[39m \u001B[38;5;28;01mexcept\u001B[39;00m OperationFailure \u001B[38;5;28;01mas\u001B[39;00m exc:\n\u001B[32m     49\u001B[39m     \u001B[38;5;28;01mif\u001B[39;00m no_reauth:\n",
      "\u001B[36mFile \u001B[39m\u001B[32m/usr/local/lib/python3.12/site-packages/pymongo/synchronous/pool.py:410\u001B[39m, in \u001B[36mConnection.command\u001B[39m\u001B[34m(self, dbname, spec, read_preference, codec_options, check, allowable_errors, read_concern, write_concern, parse_write_concern_error, collation, session, client, retryable_write, publish_events, user_fields, exhaust_allowed)\u001B[39m\n\u001B[32m    408\u001B[39m     \u001B[38;5;28mself\u001B[39m._raise_if_not_writable(unacknowledged)\n\u001B[32m    409\u001B[39m \u001B[38;5;28;01mtry\u001B[39;00m:\n\u001B[32m--> \u001B[39m\u001B[32m410\u001B[39m     \u001B[38;5;28;01mreturn\u001B[39;00m \u001B[43mcommand\u001B[49m\u001B[43m(\u001B[49m\n\u001B[32m    411\u001B[39m \u001B[43m        \u001B[49m\u001B[38;5;28;43mself\u001B[39;49m\u001B[43m,\u001B[49m\n\u001B[32m    412\u001B[39m \u001B[43m        \u001B[49m\u001B[43mdbname\u001B[49m\u001B[43m,\u001B[49m\n\u001B[32m    413\u001B[39m \u001B[43m        \u001B[49m\u001B[43mspec\u001B[49m\u001B[43m,\u001B[49m\n\u001B[32m    414\u001B[39m \u001B[43m        \u001B[49m\u001B[38;5;28;43mself\u001B[39;49m\u001B[43m.\u001B[49m\u001B[43mis_mongos\u001B[49m\u001B[43m,\u001B[49m\n\u001B[32m    415\u001B[39m \u001B[43m        \u001B[49m\u001B[43mread_preference\u001B[49m\u001B[43m,\u001B[49m\n\u001B[32m    416\u001B[39m \u001B[43m        \u001B[49m\u001B[43mcodec_options\u001B[49m\u001B[43m,\u001B[49m\n\u001B[32m    417\u001B[39m \u001B[43m        \u001B[49m\u001B[43msession\u001B[49m\u001B[43m,\u001B[49m\n\u001B[32m    418\u001B[39m \u001B[43m        \u001B[49m\u001B[43mclient\u001B[49m\u001B[43m,\u001B[49m\n\u001B[32m    419\u001B[39m \u001B[43m        \u001B[49m\u001B[43mcheck\u001B[49m\u001B[43m,\u001B[49m\n\u001B[32m    420\u001B[39m \u001B[43m        \u001B[49m\u001B[43mallowable_errors\u001B[49m\u001B[43m,\u001B[49m\n\u001B[32m    421\u001B[39m \u001B[43m        \u001B[49m\u001B[38;5;28;43mself\u001B[39;49m\u001B[43m.\u001B[49m\u001B[43maddress\u001B[49m\u001B[43m,\u001B[49m\n\u001B[32m    422\u001B[39m \u001B[43m        \u001B[49m\u001B[43mlisteners\u001B[49m\u001B[43m,\u001B[49m\n\u001B[32m    423\u001B[39m \u001B[43m        \u001B[49m\u001B[38;5;28;43mself\u001B[39;49m\u001B[43m.\u001B[49m\u001B[43mmax_bson_size\u001B[49m\u001B[43m,\u001B[49m\n\u001B[32m    424\u001B[39m \u001B[43m        \u001B[49m\u001B[43mread_concern\u001B[49m\u001B[43m,\u001B[49m\n\u001B[32m    425\u001B[39m \u001B[43m        \u001B[49m\u001B[43mparse_write_concern_error\u001B[49m\u001B[43m=\u001B[49m\u001B[43mparse_write_concern_error\u001B[49m\u001B[43m,\u001B[49m\n\u001B[32m    426\u001B[39m \u001B[43m        \u001B[49m\u001B[43mcollation\u001B[49m\u001B[43m=\u001B[49m\u001B[43mcollation\u001B[49m\u001B[43m,\u001B[49m\n\u001B[32m    427\u001B[39m \u001B[43m        \u001B[49m\u001B[43mcompression_ctx\u001B[49m\u001B[43m=\u001B[49m\u001B[38;5;28;43mself\u001B[39;49m\u001B[43m.\u001B[49m\u001B[43mcompression_context\u001B[49m\u001B[43m,\u001B[49m\n\u001B[32m    428\u001B[39m \u001B[43m        \u001B[49m\u001B[43muse_op_msg\u001B[49m\u001B[43m=\u001B[49m\u001B[38;5;28;43mself\u001B[39;49m\u001B[43m.\u001B[49m\u001B[43mop_msg_enabled\u001B[49m\u001B[43m,\u001B[49m\n\u001B[32m    429\u001B[39m \u001B[43m        \u001B[49m\u001B[43munacknowledged\u001B[49m\u001B[43m=\u001B[49m\u001B[43munacknowledged\u001B[49m\u001B[43m,\u001B[49m\n\u001B[32m    430\u001B[39m \u001B[43m        \u001B[49m\u001B[43muser_fields\u001B[49m\u001B[43m=\u001B[49m\u001B[43muser_fields\u001B[49m\u001B[43m,\u001B[49m\n\u001B[32m    431\u001B[39m \u001B[43m        \u001B[49m\u001B[43mexhaust_allowed\u001B[49m\u001B[43m=\u001B[49m\u001B[43mexhaust_allowed\u001B[49m\u001B[43m,\u001B[49m\n\u001B[32m    432\u001B[39m \u001B[43m        \u001B[49m\u001B[43mwrite_concern\u001B[49m\u001B[43m=\u001B[49m\u001B[43mwrite_concern\u001B[49m\u001B[43m,\u001B[49m\n\u001B[32m    433\u001B[39m \u001B[43m    \u001B[49m\u001B[43m)\u001B[49m\n\u001B[32m    434\u001B[39m \u001B[38;5;28;01mexcept\u001B[39;00m (OperationFailure, NotPrimaryError):\n\u001B[32m    435\u001B[39m     \u001B[38;5;28;01mraise\u001B[39;00m\n",
      "\u001B[36mFile \u001B[39m\u001B[32m/usr/local/lib/python3.12/site-packages/pymongo/synchronous/network.py:212\u001B[39m, in \u001B[36mcommand\u001B[39m\u001B[34m(conn, dbname, spec, is_mongos, read_preference, codec_options, session, client, check, allowable_errors, address, listeners, max_bson_size, read_concern, parse_write_concern_error, collation, compression_ctx, use_op_msg, unacknowledged, user_fields, exhaust_allowed, write_concern)\u001B[39m\n\u001B[32m    210\u001B[39m             client._process_response(response_doc, session)\n\u001B[32m    211\u001B[39m         \u001B[38;5;28;01mif\u001B[39;00m check:\n\u001B[32m--> \u001B[39m\u001B[32m212\u001B[39m             \u001B[43mhelpers_shared\u001B[49m\u001B[43m.\u001B[49m\u001B[43m_check_command_response\u001B[49m\u001B[43m(\u001B[49m\n\u001B[32m    213\u001B[39m \u001B[43m                \u001B[49m\u001B[43mresponse_doc\u001B[49m\u001B[43m,\u001B[49m\n\u001B[32m    214\u001B[39m \u001B[43m                \u001B[49m\u001B[43mconn\u001B[49m\u001B[43m.\u001B[49m\u001B[43mmax_wire_version\u001B[49m\u001B[43m,\u001B[49m\n\u001B[32m    215\u001B[39m \u001B[43m                \u001B[49m\u001B[43mallowable_errors\u001B[49m\u001B[43m,\u001B[49m\n\u001B[32m    216\u001B[39m \u001B[43m                \u001B[49m\u001B[43mparse_write_concern_error\u001B[49m\u001B[43m=\u001B[49m\u001B[43mparse_write_concern_error\u001B[49m\u001B[43m,\u001B[49m\n\u001B[32m    217\u001B[39m \u001B[43m            \u001B[49m\u001B[43m)\u001B[49m\n\u001B[32m    218\u001B[39m \u001B[38;5;28;01mexcept\u001B[39;00m \u001B[38;5;167;01mException\u001B[39;00m \u001B[38;5;28;01mas\u001B[39;00m exc:\n\u001B[32m    219\u001B[39m     duration = datetime.datetime.now() - start\n",
      "\u001B[36mFile \u001B[39m\u001B[32m/usr/local/lib/python3.12/site-packages/pymongo/helpers_shared.py:250\u001B[39m, in \u001B[36m_check_command_response\u001B[39m\u001B[34m(response, max_wire_version, allowable_errors, parse_write_concern_error)\u001B[39m\n\u001B[32m    247\u001B[39m \u001B[38;5;28;01melif\u001B[39;00m code == \u001B[32m43\u001B[39m:\n\u001B[32m    248\u001B[39m     \u001B[38;5;28;01mraise\u001B[39;00m CursorNotFound(errmsg, code, response, max_wire_version)\n\u001B[32m--> \u001B[39m\u001B[32m250\u001B[39m \u001B[38;5;28;01mraise\u001B[39;00m OperationFailure(errmsg, code, response, max_wire_version)\n",
      "\u001B[31mOperationFailure\u001B[39m: not authorized on config to execute command { count: \"system.sessions\", lsid: { id: UUID(\"beed8ced-129d-4cee-9761-49a81d635588\") }, $db: \"config\" }, full error: {'ok': 0.0, 'errmsg': 'not authorized on config to execute command { count: \"system.sessions\", lsid: { id: UUID(\"beed8ced-129d-4cee-9761-49a81d635588\") }, $db: \"config\" }', 'code': 13, 'codeName': 'Unauthorized'}"
     ]
    }
   ],
   "execution_count": 11
  },
  {
   "metadata": {
    "ExecuteTime": {
     "end_time": "2025-04-15T19:29:21.473664Z",
     "start_time": "2025-04-15T19:29:21.469581Z"
    }
   },
   "cell_type": "code",
   "source": [
    "import pyspark\n",
    "pyspark.__version__"
   ],
   "id": "4f020fb27ed33da6",
   "outputs": [
    {
     "data": {
      "text/plain": [
       "'3.5.5'"
      ]
     },
     "execution_count": 18,
     "metadata": {},
     "output_type": "execute_result"
    }
   ],
   "execution_count": 18
  },
  {
   "metadata": {},
   "cell_type": "code",
   "outputs": [],
   "execution_count": null,
   "source": "",
   "id": "dfb962b51bbe172"
  }
 ],
 "metadata": {
  "kernelspec": {
   "display_name": "Python 3 (ipykernel)",
   "language": "python",
   "name": "python3"
  },
  "language_info": {
   "codemirror_mode": {
    "name": "ipython",
    "version": 3
   },
   "file_extension": ".py",
   "mimetype": "text/x-python",
   "name": "python",
   "nbconvert_exporter": "python",
   "pygments_lexer": "ipython3",
   "version": "3.12.10"
  }
 },
 "nbformat": 4,
 "nbformat_minor": 5
}
