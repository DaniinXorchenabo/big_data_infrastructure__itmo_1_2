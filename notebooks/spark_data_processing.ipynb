{
 "cells": [
  {
   "metadata": {
    "ExecuteTime": {
     "end_time": "2025-04-22T15:53:04.111993Z",
     "start_time": "2025-04-22T15:53:02.792005Z"
    }
   },
   "cell_type": "code",
   "source": "!pip install pyspark==3.5.5",
   "id": "7b9b6cb37ac18a19",
   "outputs": [
    {
     "name": "stdout",
     "output_type": "stream",
     "text": [
      "Requirement already satisfied: pyspark==3.5.5 in /usr/local/lib/python3.12/site-packages (3.5.5)\r\n",
      "Requirement already satisfied: py4j==0.10.9.7 in /usr/local/lib/python3.12/site-packages (from pyspark==3.5.5) (0.10.9.7)\r\n",
      "\u001B[33mWARNING: Running pip as the 'root' user can result in broken permissions and conflicting behaviour with the system package manager, possibly rendering your system unusable. It is recommended to use a virtual environment instead: https://pip.pypa.io/warnings/venv. Use the --root-user-action option if you know what you are doing and want to suppress this warning.\u001B[0m\u001B[33m\r\n",
      "\u001B[0m"
     ]
    }
   ],
   "execution_count": 1
  },
  {
   "cell_type": "code",
   "id": "initial_id",
   "metadata": {
    "ExecuteTime": {
     "end_time": "2025-04-22T15:53:08.748587Z",
     "start_time": "2025-04-22T15:53:06.885841Z"
    }
   },
   "source": [
    "# %load_ext autoreload\n",
    "# %autoreload 2\n",
    "# %reload_ext autoreload\n",
    "\n",
    "import os\n",
    "ROOT_DIR = '/workspace/NN'\n",
    "os.chdir(ROOT_DIR)\n",
    "\n",
    "import shutil\n",
    "import kagglehub\n",
    "import torch\n",
    "from pyspark.sql import SparkSession\n",
    "import socket\n",
    "\n",
    "dataset_path = os.path.join(ROOT_DIR, 'neural', 'datasets', 'spark', 'test_1')\n",
    "weight_path = os.path.join(ROOT_DIR, 'neural', 'weights', 'lab_5', 'kmeans')\n",
    "os.makedirs(dataset_path, exist_ok=True)\n",
    "device = torch.device('cuda' if torch.cuda.is_available() else 'cpu')\n",
    "\n",
    "\n",
    "\n",
    "print(socket.gethostbyname(\"spark-master\"))\n",
    "driver_host = socket.gethostbyname(socket.gethostname())\n",
    "print(driver_host)\n",
    "driver_host = socket.gethostbyname(\"spark-master\")\n",
    "print(driver_host)\n",
    "driver_host = \"producer\"\n",
    "os.environ[\"PYSPARK_SUBMIT_ARGS\"] = f\"\"\"\n",
    "--master spark://spark-master:7077\n",
    "--conf spark.driver.host={driver_host}\n",
    "--conf spark.driver.port=45555\n",
    "--conf spark.executor.memory=1G\n",
    "--conf spark.executor.cores=1\n",
    "pyspark-shell\n",
    "\"\"\"\n",
    "os.environ[\"JAVA_HOME\"] = \"/usr/lib/jvm/java-11-openjdk-amd64\"\n",
    "# os.environ['PYSPARK_PYTHON'] = '/usr/bin/python3'  # путь к Python в контейнере\n",
    "# os.environ['SPARK_HOME'] = '/opt/spark'            # путь к Spark, укажи реальный\n",
    "# os.environ['PYSPARK_DRIVER_PYTHON'] = 'jupyter'\n",
    "\n",
    "MONGO_USER = os.environ[\"MONGO_USER\"]\n",
    "MONGO_PASS = os.environ[\"MONGO_PASSWORD\"]\n",
    "MONGO_ADDR = f\"{MONGO_USER}:{MONGO_PASS}@mongodb:27017\"  # :27017\n",
    "\n",
    "def spark_app_generator(name):\n",
    "    spark = SparkSession.builder \\\n",
    "        .master(\"spark://spark-master:7077\") \\\n",
    "        .appName(name) \\\n",
    "         .config(\"spark.driver.bindAddress\", \"0.0.0.0\") \\\n",
    "        .config(\"spark.executor.memory\", \"1g\") \\\n",
    "        .config(\"spark.driver.memory\", \"1g\") \\\n",
    "    .config(\"spark.jars.packages\", \"org.mongodb.spark:mongo-spark-connector_2.12:10.3.0\") \\\n",
    "    .config(\"spark.mongodb.read.connection.uri\", f\"mongodb://{MONGO_ADDR}\") \\\n",
    "    .config(\"spark.mongodb.write.connection.uri\", f\"mongodb://{MONGO_ADDR}\") \\\n",
    "        .getOrCreate()\n",
    "\n",
    "        # .config(\"spark.hadoop.hadoop.home.dir\", \"/hadoop/dfs/name\") \\\n",
    "    # .config(\"spark.hadoop.fs.defaultFS\", \"hdfs://namenode:9000\") \\\n",
    "    # .config(\"spark.hadoop.dfs.client.use.namenode.hostname\", \"true\") \\\n",
    "    return spark  # /openfoodfacts.products\n"
   ],
   "outputs": [
    {
     "name": "stdout",
     "output_type": "stream",
     "text": [
      "172.20.0.5\n",
      "172.21.0.2\n",
      "172.20.0.5\n"
     ]
    }
   ],
   "execution_count": 2
  },
  {
   "metadata": {
    "ExecuteTime": {
     "end_time": "2025-04-22T15:53:21.453546Z",
     "start_time": "2025-04-22T15:53:08.755787Z"
    }
   },
   "cell_type": "code",
   "source": [
    "\n",
    "# spark.stop()\n",
    "spark = spark_app_generator('test_mongo_reading')\n",
    "# Проверка: записать и прочитать файл\n",
    "# Создать директорию в HDFS\n",
    "# spark._jsc.hadoopConfiguration().set(\"dfs.client.block.write.replace-datanode-on-failure.enable\", \"true\")\n",
    "# spark._jsc.hadoopConfiguration().set(\"dfs.client.use.namenode.hostname\", \"true\")\n",
    "\n",
    "# Запись простого DataFrame\n",
    "df = spark.createDataFrame([(\"hello\",),(\"world\",), ('fdf',)], [\"value45\",])\n",
    "# df.write.mode(\"overwrite\").text(\"hdfs://namenode:9000/tmp/hadoop-root/dfs/name\")\n",
    "df.write.mode(\"overwrite\").text(\"/opt/bitnami/spark/work/labs/lab_5/some.txt\")\n",
    "\n",
    "# Чтение назад\n",
    "\n",
    "df2 = spark.read.text(\"/opt/bitnami/spark/work/labs/lab_5/some.txt\")\n",
    "df2.show()\n",
    "\n",
    "# spark.stop()\n",
    "# df = spark.read.text(\"hdfs://datanode:9000/user/root/input/sample.txt\")\n",
    "# df.show()\n",
    "\n",
    "# spark.stop()"
   ],
   "id": "ec761f622b4362df",
   "outputs": [
    {
     "name": "stdout",
     "output_type": "stream",
     "text": [
      ":: loading settings :: url = jar:file:/usr/local/lib/python3.12/site-packages/pyspark/jars/ivy-2.5.1.jar!/org/apache/ivy/core/settings/ivysettings.xml\n"
     ]
    },
    {
     "name": "stderr",
     "output_type": "stream",
     "text": [
      "Ivy Default Cache set to: /root/.ivy2/cache\n",
      "The jars for the packages stored in: /root/.ivy2/jars\n",
      "org.mongodb.spark#mongo-spark-connector_2.12 added as a dependency\n",
      ":: resolving dependencies :: org.apache.spark#spark-submit-parent-e8109d23-93c9-4836-bfc3-ee9d18fd9ccd;1.0\n",
      "\tconfs: [default]\n",
      "\tfound org.mongodb.spark#mongo-spark-connector_2.12;10.3.0 in central\n",
      "\tfound org.mongodb#mongodb-driver-sync;4.8.2 in central\n",
      "\t[4.8.2] org.mongodb#mongodb-driver-sync;[4.8.1,4.8.99)\n",
      "\tfound org.mongodb#bson;4.8.2 in central\n",
      "\tfound org.mongodb#mongodb-driver-core;4.8.2 in central\n",
      "\tfound org.mongodb#bson-record-codec;4.8.2 in central\n",
      "downloading https://repo1.maven.org/maven2/org/mongodb/spark/mongo-spark-connector_2.12/10.3.0/mongo-spark-connector_2.12-10.3.0.jar ...\n",
      "\t[SUCCESSFUL ] org.mongodb.spark#mongo-spark-connector_2.12;10.3.0!mongo-spark-connector_2.12.jar (222ms)\n",
      "downloading https://repo1.maven.org/maven2/org/mongodb/mongodb-driver-sync/4.8.2/mongodb-driver-sync-4.8.2.jar ...\n",
      "\t[SUCCESSFUL ] org.mongodb#mongodb-driver-sync;4.8.2!mongodb-driver-sync.jar (125ms)\n",
      "downloading https://repo1.maven.org/maven2/org/mongodb/bson/4.8.2/bson-4.8.2.jar ...\n",
      "\t[SUCCESSFUL ] org.mongodb#bson;4.8.2!bson.jar (175ms)\n",
      "downloading https://repo1.maven.org/maven2/org/mongodb/mongodb-driver-core/4.8.2/mongodb-driver-core-4.8.2.jar ...\n",
      "\t[SUCCESSFUL ] org.mongodb#mongodb-driver-core;4.8.2!mongodb-driver-core.jar (219ms)\n",
      "downloading https://repo1.maven.org/maven2/org/mongodb/bson-record-codec/4.8.2/bson-record-codec-4.8.2.jar ...\n",
      "\t[SUCCESSFUL ] org.mongodb#bson-record-codec;4.8.2!bson-record-codec.jar (170ms)\n",
      ":: resolution report :: resolve 3780ms :: artifacts dl 915ms\n",
      "\t:: modules in use:\n",
      "\torg.mongodb#bson;4.8.2 from central in [default]\n",
      "\torg.mongodb#bson-record-codec;4.8.2 from central in [default]\n",
      "\torg.mongodb#mongodb-driver-core;4.8.2 from central in [default]\n",
      "\torg.mongodb#mongodb-driver-sync;4.8.2 from central in [default]\n",
      "\torg.mongodb.spark#mongo-spark-connector_2.12;10.3.0 from central in [default]\n",
      "\t---------------------------------------------------------------------\n",
      "\t|                  |            modules            ||   artifacts   |\n",
      "\t|       conf       | number| search|dwnlded|evicted|| number|dwnlded|\n",
      "\t---------------------------------------------------------------------\n",
      "\t|      default     |   5   |   5   |   5   |   0   ||   5   |   5   |\n",
      "\t---------------------------------------------------------------------\n",
      ":: retrieving :: org.apache.spark#spark-submit-parent-e8109d23-93c9-4836-bfc3-ee9d18fd9ccd\n",
      "\tconfs: [default]\n",
      "\t5 artifacts copied, 0 already retrieved (2389kB/8ms)\n",
      "25/04/22 15:53:15 WARN NativeCodeLoader: Unable to load native-hadoop library for your platform... using builtin-java classes where applicable\n",
      "Setting default log level to \"WARN\".\n",
      "To adjust logging level use sc.setLogLevel(newLevel). For SparkR, use setLogLevel(newLevel).\n",
      "                                                                                \r"
     ]
    },
    {
     "name": "stdout",
     "output_type": "stream",
     "text": [
      "+-----+\n",
      "|value|\n",
      "+-----+\n",
      "+-----+\n",
      "\n"
     ]
    }
   ],
   "execution_count": 3
  },
  {
   "metadata": {
    "ExecuteTime": {
     "end_time": "2025-04-22T15:53:33.122086Z",
     "start_time": "2025-04-22T15:53:21.483748Z"
    }
   },
   "cell_type": "code",
   "source": [
    "from pyspark.sql.types import (StructType, StructField,\n",
    "                               StringType, IntegerType, MapType,\n",
    "                               DoubleType\n",
    "                               )\n",
    "\n",
    "# Пример определения схемы. Настройте схему под структуру ваших данных.\n",
    "custom_schema = StructType([\n",
    "    StructField(\"_id\", StringType(), True),\n",
    "    StructField(\"product_name\", StringType(), True),\n",
    "    # Если nutriments представляет собой динамические поля, лучше сохранить его как MapType.\n",
    "    StructField(\"nutriments\", MapType(StringType(), StringType()), True),\n",
    "    # Если есть другие поля, укажите их типы.\n",
    "    StructField(\"quantity\", StringType(), True),\n",
    "     StructField(\"ingredients_sweeteners_n\", IntegerType(), True),\n",
    "     StructField(\"ingredients_percent_analysis\", IntegerType(), True),\n",
    "     StructField(\"ingredients_non_nutritive_sweeteners_n\", IntegerType(), True),\n",
    "     StructField(\"ingredients_n\", IntegerType(), True),\n",
    "    StructField(\"ingredients_from_palm_oil_n\", IntegerType(), True),\n",
    "    StructField(\"ingredients_from_or_that_may_be_from_palm_oil_n\", IntegerType(), True),\n",
    "    StructField(\"additives_n\", IntegerType(), True),\n",
    "    StructField(\"unique_scans_n\", IntegerType(), True),\n",
    "    StructField(\"scans_n\", IntegerType(), True),\n",
    "    StructField(\"rev\", IntegerType(), True),\n",
    "    StructField(\"popularity_key\", IntegerType(), True),\n",
    "    StructField(\"packagings_n\", IntegerType(), True),\n",
    "    StructField(\"packagings_complete\", IntegerType(), True),\n",
    "    StructField(\"nutrition_score_warning_no_fiber\", IntegerType(), True),\n",
    "    StructField(\"nutrition_score_warning_fruits_vegetables_nuts_estimate\", IntegerType(), True),\n",
    "    StructField(\"nutrition_score_beverage\", IntegerType(), True),\n",
    "    StructField(\"nutriscore_score_opposite\", IntegerType(), True),\n",
    "    StructField(\"nutriscore_score\", IntegerType(), True),\n",
    "    StructField(\"environmental_score_score\", IntegerType(), True),\n",
    "    StructField(\"completeness\", DoubleType(), True),\n",
    "    StructField(\"complete\", IntegerType(), True),\n",
    "\n",
    "])\n",
    "\n",
    "spark = spark_app_generator('test_mongo_reading')\n",
    "df = spark.read.schema(custom_schema).format(\"mongodb\") \\\n",
    "  .options(host=\"mongo:27017\", database=\"off\", collection='products').load()  # , database=\"off\", collection='products'\n",
    "\n",
    "# Просмотр схемы и первых строк\n",
    "df.printSchema()\n",
    "df.show(20)\n"
   ],
   "id": "4893b1c50680e696",
   "outputs": [
    {
     "name": "stdout",
     "output_type": "stream",
     "text": [
      "root\n",
      " |-- _id: string (nullable = true)\n",
      " |-- product_name: string (nullable = true)\n",
      " |-- nutriments: map (nullable = true)\n",
      " |    |-- key: string\n",
      " |    |-- value: string (valueContainsNull = true)\n",
      " |-- quantity: string (nullable = true)\n",
      " |-- ingredients_sweeteners_n: integer (nullable = true)\n",
      " |-- ingredients_percent_analysis: integer (nullable = true)\n",
      " |-- ingredients_non_nutritive_sweeteners_n: integer (nullable = true)\n",
      " |-- ingredients_n: integer (nullable = true)\n",
      " |-- ingredients_from_palm_oil_n: integer (nullable = true)\n",
      " |-- ingredients_from_or_that_may_be_from_palm_oil_n: integer (nullable = true)\n",
      " |-- additives_n: integer (nullable = true)\n",
      " |-- unique_scans_n: integer (nullable = true)\n",
      " |-- scans_n: integer (nullable = true)\n",
      " |-- rev: integer (nullable = true)\n",
      " |-- popularity_key: integer (nullable = true)\n",
      " |-- packagings_n: integer (nullable = true)\n",
      " |-- packagings_complete: integer (nullable = true)\n",
      " |-- nutrition_score_warning_no_fiber: integer (nullable = true)\n",
      " |-- nutrition_score_warning_fruits_vegetables_nuts_estimate: integer (nullable = true)\n",
      " |-- nutrition_score_beverage: integer (nullable = true)\n",
      " |-- nutriscore_score_opposite: integer (nullable = true)\n",
      " |-- nutriscore_score: integer (nullable = true)\n",
      " |-- environmental_score_score: integer (nullable = true)\n",
      " |-- completeness: double (nullable = true)\n",
      " |-- complete: integer (nullable = true)\n",
      "\n"
     ]
    },
    {
     "name": "stderr",
     "output_type": "stream",
     "text": [
      "                                                                                \r"
     ]
    },
    {
     "name": "stdout",
     "output_type": "stream",
     "text": [
      "+------------+--------------------+--------------------+------------------+------------------------+----------------------------+--------------------------------------+-------------+---------------------------+-----------------------------------------------+-----------+--------------+-------+---+--------------+------------+-------------------+--------------------------------+-------------------------------------------------------+------------------------+-------------------------+----------------+-------------------------+------------------+--------+\n",
      "|         _id|        product_name|          nutriments|          quantity|ingredients_sweeteners_n|ingredients_percent_analysis|ingredients_non_nutritive_sweeteners_n|ingredients_n|ingredients_from_palm_oil_n|ingredients_from_or_that_may_be_from_palm_oil_n|additives_n|unique_scans_n|scans_n|rev|popularity_key|packagings_n|packagings_complete|nutrition_score_warning_no_fiber|nutrition_score_warning_fruits_vegetables_nuts_estimate|nutrition_score_beverage|nutriscore_score_opposite|nutriscore_score|environmental_score_score|      completeness|complete|\n",
      "+------------+--------------------+--------------------+------------------+------------------------+----------------------------+--------------------------------------+-------------+---------------------------+-----------------------------------------------+-----------+--------------+-------+---+--------------+------------+-------------------+--------------------------------+-------------------------------------------------------+------------------------+-------------------------+----------------+-------------------------+------------------+--------+\n",
      "|            |                NULL|                  {}|              NULL|                    NULL|                        NULL|                                  NULL|         NULL|                       NULL|                                           NULL|       NULL|             2|     10| 94|            14|        NULL|               NULL|                               1|                                                   NULL|                       0|                     NULL|            NULL|                     NULL|              0.05|       0|\n",
      "|    00000000|           erytritol|{potassium_servin...|          150 gram|                       0|                           1|                                     0|            2|                       NULL|                                           NULL|          1|             1|      1|478|            13|           2|               NULL|                            NULL|                                                   NULL|                       0|                      -23|              23|                     NULL|0.9999999999999999|       0|\n",
      "|000000000054|Limonade artisana...|                  {}|              NULL|                    NULL|                        NULL|                                  NULL|         NULL|                       NULL|                                           NULL|       NULL|          NULL|   NULL|  6|            10|        NULL|               NULL|                               1|                                                   NULL|                       0|                     NULL|            NULL|                     NULL|            0.1625|       0|\n",
      "|000000000063|Mozzarella Schnit...|{fat_100g -> 25, ...|              NULL|                       0|                           1|                                     0|           21|                       NULL|                                           NULL|          0|             1|      1| 14|            13|        NULL|               NULL|                               1|                                                   NULL|                       0|                     NULL|            NULL|                     NULL|            0.4625|       0|\n",
      "|000000000114|       Chocolate n 3|{fat_100g -> 44, ...|              80 g|                    NULL|                        NULL|                                  NULL|         NULL|                       NULL|                                           NULL|       NULL|             1|      1| 23|            13|        NULL|               NULL|                               1|                                                   NULL|                       0|                     NULL|            NULL|                     NULL|             0.475|       0|\n",
      "|    00000001|Wild Norwegian El...|{potassium_servin...|280gr. 320 Kapseln|                       0|                           1|                                     0|            8|                          0|                                              0|          3|             1|      1|303|            13|        NULL|               NULL|                               1|                                                   NULL|                       0|                     NULL|            NULL|                     NULL|0.8999999999999999|       0|\n",
      "|  0000000105|Paleta gran reser...|{fruits-vegetable...|             750ml|                       1|                           1|                                     1|           14|                       NULL|                                           NULL|          2|             1|      1| 23|            13|        NULL|               NULL|                               1|                                                   NULL|                       1|                     NULL|            NULL|                     NULL|0.6749999999999999|       0|\n",
      "|    00000002|Filets de poulet ...|{carbohydrates_10...|         240-400 g|                       0|                           1|                                     0|            5|                       NULL|                                           NULL|          0|             1|      1|124|            13|        NULL|               NULL|                            NULL|                                                   NULL|                       0|                       -3|               3|                       92|0.7999999999999999|       0|\n",
      "|    00000003|    Creatine Gummies|{proteins_unit ->...|             700ml|                       0|                           1|                                     0|            7|                       NULL|                                           NULL|          4|             1|      1| 96|            13|        NULL|               NULL|                               1|                                                   NULL|                       0|                     NULL|            NULL|                     NULL|0.7999999999999999|       0|\n",
      "|    00000004|               Oreos|{carbohydrates_10...|              500g|                       0|                           1|                                     0|            1|                          0|                                              0|          0|             1|      1|122|            13|        NULL|                  0|                            NULL|                                                   NULL|                       0|                      -11|              11|                     NULL|0.8874999999999998|       0|\n",
      "|  0000000475|Confiture extra c...|{fat_100g -> 0, p...|             230 g|                    NULL|                        NULL|                                  NULL|         NULL|                       NULL|                                           NULL|       NULL|             1|      1|  6|             4|        NULL|               NULL|                               1|                                                   NULL|                       0|                     NULL|            NULL|                     NULL|             0.375|       0|\n",
      "|    00000005|6K Protein White ...|{carbohydrates_10...|            1000ml|                       0|                           1|                                     0|            3|                          0|                                              0|          0|             1|      1| 64|            13|           1|                  0|                            NULL|                                                   NULL|                       0|                      -11|              11|                       38|0.8874999999999998|       0|\n",
      "|    00000006|                NULL|{alcohol_serving ...|              500g|                    NULL|                        NULL|                                  NULL|         NULL|                       NULL|                                           NULL|       NULL|             1|      1|132|            13|        NULL|               NULL|                            NULL|                                                   NULL|                       1|                       -4|               4|                     NULL|            0.4625|       0|\n",
      "| 00000006666|      Gemüse - Gurke|                  {}|              1pcs|                    NULL|                        NULL|                                  NULL|         NULL|                       NULL|                                           NULL|       NULL|             6|      6|  4|             7|        NULL|               NULL|                               1|                                                   NULL|                       0|                     NULL|            NULL|                     NULL|            0.2625|       0|\n",
      "|    00000007|  Ah Mini-maiswafels|{carbohydrates_10...|              450g|                       0|                           1|                                     0|            3|                          0|                                              0|          0|             2|      3| 35|            14|        NULL|               NULL|                            NULL|                                                   NULL|                       0|                       -4|               4|                     NULL|            0.6625|       0|\n",
      "|    00000008|                    |{potassium_servin...|             700ml|                       1|                           1|                                     1|           14|                       NULL|                                           NULL|          1|             1|      1| 49|            13|        NULL|               NULL|                            NULL|                                                   NULL|                       0|                       -6|               6|                     NULL|0.6874999999999999|       0|\n",
      "|    00000009|Mission Carb Bala...|{fat_100g -> 0.5,...|             700ml|                    NULL|                        NULL|                                  NULL|         NULL|                       NULL|                                           NULL|       NULL|             1|      1| 63|            13|           1|                  0|                            NULL|                                                   NULL|                       0|                        4|              -4|                     NULL|             0.575|       0|\n",
      "|    00000010| Natual Energy Boost|{magnesium_servin...|             700ml|                       0|                           1|                                     0|           16|                          0|                                              0|          3|             3|      3| 57|    1475163535|           2|                  0|                            NULL|                                                   NULL|                       1|                      -24|              24|                        7|0.8624999999999999|       0|\n",
      "|    00000011|                    |                  {}|              1pcs|                    NULL|                        NULL|                                  NULL|         NULL|                       NULL|                                           NULL|       NULL|             1|      1| 18|             9|        NULL|               NULL|                               1|                                                   NULL|                       0|                     NULL|            NULL|                     NULL|              0.25|       0|\n",
      "|    00000012|HIGH PROTEIN ICED...|{proteins_unit ->...|                  |                    NULL|                        NULL|                                  NULL|         NULL|                       NULL|                                           NULL|       NULL|             1|      2| 29|            11|        NULL|                  0|                               1|                                                   NULL|                       0|                     NULL|            NULL|                     NULL|0.7749999999999999|       0|\n",
      "+------------+--------------------+--------------------+------------------+------------------------+----------------------------+--------------------------------------+-------------+---------------------------+-----------------------------------------------+-----------+--------------+-------+---+--------------+------------+-------------------+--------------------------------+-------------------------------------------------------+------------------------+-------------------------+----------------+-------------------------+------------------+--------+\n",
      "only showing top 20 rows\n",
      "\n"
     ]
    }
   ],
   "execution_count": 4
  },
  {
   "cell_type": "code",
   "id": "593e4532f56fb43c",
   "metadata": {
    "ExecuteTime": {
     "end_time": "2025-04-22T15:53:33.139911Z",
     "start_time": "2025-04-22T15:53:33.137873Z"
    }
   },
   "source": "",
   "outputs": [],
   "execution_count": null
  },
  {
   "metadata": {
    "ExecuteTime": {
     "end_time": "2025-04-22T15:56:57.769860Z",
     "start_time": "2025-04-22T15:53:33.223121Z"
    }
   },
   "cell_type": "code",
   "source": [
    "from pyspark.ml.feature import VectorAssembler, StandardScaler\n",
    "\n",
    "spark = spark_app_generator('test_mongo_data_analysis')\n",
    "df = spark.read.schema(custom_schema).format(\"mongodb\") \\\n",
    "  .options(host=\"mongo:27017\", database=\"off\", collection='products').load()\n",
    "\n",
    "# Выбор числовых признаков\n",
    "numeric_features = [ 'popularity_key', 'popularity_key', \"rev\"]\n",
    "\n",
    "# Удаление строк с пропущенными значениями\n",
    "df_clean = df.select(numeric_features).dropna()\n",
    "\n",
    "# Сбор признаков в вектор\n",
    "assembler = VectorAssembler(inputCols=numeric_features, outputCol=\"features_assembled\")\n",
    "df_vector = assembler.transform(df_clean)\n",
    "\n",
    "# Масштабирование признаков\n",
    "scaler = StandardScaler(inputCol=\"features_assembled\", outputCol=\"features\")\n",
    "scaler_model = scaler.fit(df_vector)\n",
    "df_scaled = scaler_model.transform(df_vector)"
   ],
   "id": "ca3b1aa8c6b6f361",
   "outputs": [
    {
     "name": "stderr",
     "output_type": "stream",
     "text": [
      "25/04/22 15:53:33 WARN SparkSession: Using an existing Spark session; only runtime SQL configurations will take effect.\n",
      "                                                                                \r"
     ]
    }
   ],
   "execution_count": 5
  },
  {
   "metadata": {
    "ExecuteTime": {
     "end_time": "2025-04-22T16:07:26.838705Z",
     "start_time": "2025-04-22T15:56:58.442877Z"
    }
   },
   "cell_type": "code",
   "source": [
    "from pyspark.ml.clustering import KMeans\n",
    "from pyspark.ml.evaluation import ClusteringEvaluator\n",
    "\n",
    "\n",
    "# df_small = df_scaled.limit(100)\n",
    "# Обучение модели k-средних\n",
    "kmeans = KMeans().setK(4).setSeed(1).setFeaturesCol(\"features\")\n",
    "model = kmeans.fit(df_scaled)\n",
    "\n"
   ],
   "id": "c0b6b13c448b00de",
   "outputs": [
    {
     "name": "stderr",
     "output_type": "stream",
     "text": [
      "25/04/22 16:03:58 WARN InstanceBuilder: Failed to load implementation from:dev.ludovic.netlib.blas.JNIBLAS\n",
      "                                                                                \r"
     ]
    }
   ],
   "execution_count": 6
  },
  {
   "metadata": {
    "ExecuteTime": {
     "end_time": "2025-04-22T16:13:33.376846Z",
     "start_time": "2025-04-22T16:07:26.873558Z"
    }
   },
   "cell_type": "code",
   "source": [
    "# Предсказание кластеров\n",
    "predictions = model.transform(df_scaled)\n",
    "\n",
    "# Оценка модели\n",
    "evaluator = ClusteringEvaluator()\n",
    "silhouette = evaluator.evaluate(predictions)\n",
    "print(f\"Silhouette Score: {silhouette}\")\n",
    "\n",
    "# Центры кластеров\n",
    "centers = model.clusterCenters()\n",
    "for idx, center in enumerate(centers):\n",
    "    print(f\"Cluster {idx} center: {center}\")"
   ],
   "id": "2d049b60c3cb9d92",
   "outputs": [
    {
     "name": "stderr",
     "output_type": "stream",
     "text": [
      "[Stage 47:===================================================>(1016 + 1) / 1017]\r"
     ]
    },
    {
     "name": "stdout",
     "output_type": "stream",
     "text": [
      "Silhouette Score: 0.9747334431984966\n",
      "Cluster 0 center: [4.09751838 4.09751838 1.73215213]\n",
      "Cluster 1 center: [0.00162783 0.00162783 0.47424602]\n",
      "Cluster 2 center: [-4.76211024 -4.76211024  2.14917652]\n",
      "Cluster 3 center: [  0.43211761   0.43211761 353.37543358]\n"
     ]
    },
    {
     "name": "stderr",
     "output_type": "stream",
     "text": [
      "                                                                                \r"
     ]
    }
   ],
   "execution_count": 7
  },
  {
   "metadata": {
    "ExecuteTime": {
     "end_time": "2025-04-18T22:23:15.929468Z",
     "start_time": "2025-04-18T22:23:15.927191Z"
    }
   },
   "cell_type": "code",
   "source": "",
   "id": "ea93e75619243192",
   "outputs": [],
   "execution_count": null
  },
  {
   "metadata": {
    "ExecuteTime": {
     "end_time": "2025-04-22T16:13:41.558211Z",
     "start_time": "2025-04-22T16:13:40.513635Z"
    }
   },
   "cell_type": "code",
   "source": [
    "\n",
    "# weight_path = os.path.join(ROOT_DIR, 'neural', 'weights', 'lab_5', 'kmeans_3')\n",
    "# os.makedirs(weight_path, exist_ok=True)\n",
    "# model.save(\"/opt/bitnami/spark/work/labs/lab_5/kmeans_5\")\n",
    "model.save('/opt/bitnami/spark/work/labs/lab_5/kmeans_6')"
   ],
   "id": "9fcf6555e2b7a28e",
   "outputs": [],
   "execution_count": 8
  },
  {
   "metadata": {
    "ExecuteTime": {
     "end_time": "2025-04-22T14:33:22.057075Z",
     "start_time": "2025-04-22T14:33:21.984533Z"
    }
   },
   "cell_type": "code",
   "source": [
    "# Не забудьте остановить SparkSession по завершении работы\n",
    "spark.stop()"
   ],
   "id": "f1ad6ce7ea151e20",
   "outputs": [],
   "execution_count": 4
  },
  {
   "metadata": {
    "ExecuteTime": {
     "end_time": "2025-04-22T16:14:06.021755Z",
     "start_time": "2025-04-22T16:14:05.923383Z"
    }
   },
   "cell_type": "code",
   "source": [
    "from pyspark.ml.clustering import KMeansModel\n",
    "\n",
    "loaded_model = KMeansModel.load(\"/opt/bitnami/spark/work/labs/lab_5/kmeans_6\")\n"
   ],
   "id": "6c731cea4caa4c81",
   "outputs": [
    {
     "ename": "UnsupportedOperationException",
     "evalue": "empty collection",
     "output_type": "error",
     "traceback": [
      "\u001B[31m---------------------------------------------------------------------------\u001B[39m",
      "\u001B[31mUnsupportedOperationException\u001B[39m             Traceback (most recent call last)",
      "\u001B[36mCell\u001B[39m\u001B[36m \u001B[39m\u001B[32mIn[10]\u001B[39m\u001B[32m, line 3\u001B[39m\n\u001B[32m      1\u001B[39m \u001B[38;5;28;01mfrom\u001B[39;00m\u001B[38;5;250m \u001B[39m\u001B[34;01mpyspark\u001B[39;00m\u001B[34;01m.\u001B[39;00m\u001B[34;01mml\u001B[39;00m\u001B[34;01m.\u001B[39;00m\u001B[34;01mclustering\u001B[39;00m\u001B[38;5;250m \u001B[39m\u001B[38;5;28;01mimport\u001B[39;00m KMeansModel\n\u001B[32m----> \u001B[39m\u001B[32m3\u001B[39m loaded_model = \u001B[43mKMeans\u001B[49m\u001B[43m.\u001B[49m\u001B[43mload\u001B[49m\u001B[43m(\u001B[49m\u001B[33;43m\"\u001B[39;49m\u001B[33;43m/opt/bitnami/spark/work/labs/lab_5/kmeans_6\u001B[39;49m\u001B[33;43m\"\u001B[39;49m\u001B[43m)\u001B[49m\n",
      "\u001B[36mFile \u001B[39m\u001B[32m/usr/local/lib/python3.12/site-packages/pyspark/ml/util.py:369\u001B[39m, in \u001B[36mMLReadable.load\u001B[39m\u001B[34m(cls, path)\u001B[39m\n\u001B[32m    366\u001B[39m \u001B[38;5;129m@classmethod\u001B[39m\n\u001B[32m    367\u001B[39m \u001B[38;5;28;01mdef\u001B[39;00m\u001B[38;5;250m \u001B[39m\u001B[34mload\u001B[39m(\u001B[38;5;28mcls\u001B[39m, path: \u001B[38;5;28mstr\u001B[39m) -> RL:\n\u001B[32m    368\u001B[39m \u001B[38;5;250m    \u001B[39m\u001B[33;03m\"\"\"Reads an ML instance from the input path, a shortcut of `read().load(path)`.\"\"\"\u001B[39;00m\n\u001B[32m--> \u001B[39m\u001B[32m369\u001B[39m     \u001B[38;5;28;01mreturn\u001B[39;00m \u001B[38;5;28;43mcls\u001B[39;49m\u001B[43m.\u001B[49m\u001B[43mread\u001B[49m\u001B[43m(\u001B[49m\u001B[43m)\u001B[49m\u001B[43m.\u001B[49m\u001B[43mload\u001B[49m\u001B[43m(\u001B[49m\u001B[43mpath\u001B[49m\u001B[43m)\u001B[49m\n",
      "\u001B[36mFile \u001B[39m\u001B[32m/usr/local/lib/python3.12/site-packages/pyspark/ml/util.py:318\u001B[39m, in \u001B[36mJavaMLReader.load\u001B[39m\u001B[34m(self, path)\u001B[39m\n\u001B[32m    316\u001B[39m \u001B[38;5;28;01mif\u001B[39;00m \u001B[38;5;129;01mnot\u001B[39;00m \u001B[38;5;28misinstance\u001B[39m(path, \u001B[38;5;28mstr\u001B[39m):\n\u001B[32m    317\u001B[39m     \u001B[38;5;28;01mraise\u001B[39;00m \u001B[38;5;167;01mTypeError\u001B[39;00m(\u001B[33m\"\u001B[39m\u001B[33mpath should be a string, got type \u001B[39m\u001B[38;5;132;01m%s\u001B[39;00m\u001B[33m\"\u001B[39m % \u001B[38;5;28mtype\u001B[39m(path))\n\u001B[32m--> \u001B[39m\u001B[32m318\u001B[39m java_obj = \u001B[38;5;28;43mself\u001B[39;49m\u001B[43m.\u001B[49m\u001B[43m_jread\u001B[49m\u001B[43m.\u001B[49m\u001B[43mload\u001B[49m\u001B[43m(\u001B[49m\u001B[43mpath\u001B[49m\u001B[43m)\u001B[49m\n\u001B[32m    319\u001B[39m \u001B[38;5;28;01mif\u001B[39;00m \u001B[38;5;129;01mnot\u001B[39;00m \u001B[38;5;28mhasattr\u001B[39m(\u001B[38;5;28mself\u001B[39m._clazz, \u001B[33m\"\u001B[39m\u001B[33m_from_java\u001B[39m\u001B[33m\"\u001B[39m):\n\u001B[32m    320\u001B[39m     \u001B[38;5;28;01mraise\u001B[39;00m \u001B[38;5;167;01mNotImplementedError\u001B[39;00m(\n\u001B[32m    321\u001B[39m         \u001B[33m\"\u001B[39m\u001B[33mThis Java ML type cannot be loaded into Python currently: \u001B[39m\u001B[38;5;132;01m%r\u001B[39;00m\u001B[33m\"\u001B[39m % \u001B[38;5;28mself\u001B[39m._clazz\n\u001B[32m    322\u001B[39m     )\n",
      "\u001B[36mFile \u001B[39m\u001B[32m/usr/local/lib/python3.12/site-packages/py4j/java_gateway.py:1322\u001B[39m, in \u001B[36mJavaMember.__call__\u001B[39m\u001B[34m(self, *args)\u001B[39m\n\u001B[32m   1316\u001B[39m command = proto.CALL_COMMAND_NAME +\\\n\u001B[32m   1317\u001B[39m     \u001B[38;5;28mself\u001B[39m.command_header +\\\n\u001B[32m   1318\u001B[39m     args_command +\\\n\u001B[32m   1319\u001B[39m     proto.END_COMMAND_PART\n\u001B[32m   1321\u001B[39m answer = \u001B[38;5;28mself\u001B[39m.gateway_client.send_command(command)\n\u001B[32m-> \u001B[39m\u001B[32m1322\u001B[39m return_value = \u001B[43mget_return_value\u001B[49m\u001B[43m(\u001B[49m\n\u001B[32m   1323\u001B[39m \u001B[43m    \u001B[49m\u001B[43manswer\u001B[49m\u001B[43m,\u001B[49m\u001B[43m \u001B[49m\u001B[38;5;28;43mself\u001B[39;49m\u001B[43m.\u001B[49m\u001B[43mgateway_client\u001B[49m\u001B[43m,\u001B[49m\u001B[43m \u001B[49m\u001B[38;5;28;43mself\u001B[39;49m\u001B[43m.\u001B[49m\u001B[43mtarget_id\u001B[49m\u001B[43m,\u001B[49m\u001B[43m \u001B[49m\u001B[38;5;28;43mself\u001B[39;49m\u001B[43m.\u001B[49m\u001B[43mname\u001B[49m\u001B[43m)\u001B[49m\n\u001B[32m   1325\u001B[39m \u001B[38;5;28;01mfor\u001B[39;00m temp_arg \u001B[38;5;129;01min\u001B[39;00m temp_args:\n\u001B[32m   1326\u001B[39m     \u001B[38;5;28;01mif\u001B[39;00m \u001B[38;5;28mhasattr\u001B[39m(temp_arg, \u001B[33m\"\u001B[39m\u001B[33m_detach\u001B[39m\u001B[33m\"\u001B[39m):\n",
      "\u001B[36mFile \u001B[39m\u001B[32m/usr/local/lib/python3.12/site-packages/pyspark/errors/exceptions/captured.py:185\u001B[39m, in \u001B[36mcapture_sql_exception.<locals>.deco\u001B[39m\u001B[34m(*a, **kw)\u001B[39m\n\u001B[32m    181\u001B[39m converted = convert_exception(e.java_exception)\n\u001B[32m    182\u001B[39m \u001B[38;5;28;01mif\u001B[39;00m \u001B[38;5;129;01mnot\u001B[39;00m \u001B[38;5;28misinstance\u001B[39m(converted, UnknownException):\n\u001B[32m    183\u001B[39m     \u001B[38;5;66;03m# Hide where the exception came from that shows a non-Pythonic\u001B[39;00m\n\u001B[32m    184\u001B[39m     \u001B[38;5;66;03m# JVM exception message.\u001B[39;00m\n\u001B[32m--> \u001B[39m\u001B[32m185\u001B[39m     \u001B[38;5;28;01mraise\u001B[39;00m converted \u001B[38;5;28;01mfrom\u001B[39;00m\u001B[38;5;250m \u001B[39m\u001B[38;5;28;01mNone\u001B[39;00m\n\u001B[32m    186\u001B[39m \u001B[38;5;28;01melse\u001B[39;00m:\n\u001B[32m    187\u001B[39m     \u001B[38;5;28;01mraise\u001B[39;00m\n",
      "\u001B[31mUnsupportedOperationException\u001B[39m: empty collection"
     ]
    }
   ],
   "execution_count": 10
  },
  {
   "metadata": {
    "ExecuteTime": {
     "end_time": "2025-04-22T14:25:10.452339Z",
     "start_time": "2025-04-22T14:25:04.610166Z"
    }
   },
   "cell_type": "code",
   "source": [
    "from pyspark.ml.clustering import KMeans\n",
    "from pyspark.ml.feature import VectorAssembler\n",
    "from pyspark.sql import SparkSession\n",
    "\n",
    "# Инициализация SparkSession\n",
    "spark = SparkSession.builder \\\n",
    "    .appName(\"KMeansExample\") \\\n",
    "    .getOrCreate()\n",
    "\n",
    "# Пример данных\n",
    "data = [\n",
    "    (0.0, 0.0),\n",
    "    (1.0, 1.0),\n",
    "    (9.0, 8.0),\n",
    "    (8.0, 9.0)\n",
    "]\n",
    "columns = [\"x\", \"y\"]\n",
    "df = spark.createDataFrame(data, columns)\n",
    "\n",
    "# Преобразование признаков в вектор\n",
    "assembler = VectorAssembler(inputCols=[\"x\", \"y\"], outputCol=\"features\")\n",
    "dataset = assembler.transform(df)\n",
    "\n",
    "# Обучение модели KMeans\n",
    "kmeans = KMeans().setK(2).setSeed(1)\n",
    "model = kmeans.fit(dataset)\n",
    "\n",
    "# Сохранение модели\n",
    "model.save(\"/opt/bitnami/spark/work/labs/lab_5/kmeans_test\")\n",
    "\n",
    "# Загрузка модели\n",
    "from pyspark.ml.clustering import KMeansModel\n",
    "loaded_model = KMeansModel.load(\"/opt/bitnami/spark/work/labs/lab_5/kmeans_test\")\n",
    "\n",
    "# Применение загруженной модели\n",
    "predictions = loaded_model.transform(dataset)\n",
    "predictions.show()\n"
   ],
   "id": "57d97463a6ebd31a",
   "outputs": [
    {
     "name": "stderr",
     "output_type": "stream",
     "text": [
      "25/04/22 14:25:04 WARN SparkSession: Using an existing Spark session; only runtime SQL configurations will take effect.\n",
      "                                                                                \r"
     ]
    },
    {
     "ename": "UnsupportedOperationException",
     "evalue": "empty collection",
     "output_type": "error",
     "traceback": [
      "\u001B[31m---------------------------------------------------------------------------\u001B[39m",
      "\u001B[31mUnsupportedOperationException\u001B[39m             Traceback (most recent call last)",
      "\u001B[36mCell\u001B[39m\u001B[36m \u001B[39m\u001B[32mIn[12]\u001B[39m\u001B[32m, line 33\u001B[39m\n\u001B[32m     31\u001B[39m \u001B[38;5;66;03m# Загрузка модели\u001B[39;00m\n\u001B[32m     32\u001B[39m \u001B[38;5;28;01mfrom\u001B[39;00m\u001B[38;5;250m \u001B[39m\u001B[34;01mpyspark\u001B[39;00m\u001B[34;01m.\u001B[39;00m\u001B[34;01mml\u001B[39;00m\u001B[34;01m.\u001B[39;00m\u001B[34;01mclustering\u001B[39;00m\u001B[38;5;250m \u001B[39m\u001B[38;5;28;01mimport\u001B[39;00m KMeansModel\n\u001B[32m---> \u001B[39m\u001B[32m33\u001B[39m loaded_model = \u001B[43mKMeansModel\u001B[49m\u001B[43m.\u001B[49m\u001B[43mload\u001B[49m\u001B[43m(\u001B[49m\u001B[33;43m\"\u001B[39;49m\u001B[33;43m/opt/bitnami/spark/work/labs/lab_5/kmeans_test\u001B[39;49m\u001B[33;43m\"\u001B[39;49m\u001B[43m)\u001B[49m\n\u001B[32m     35\u001B[39m \u001B[38;5;66;03m# Применение загруженной модели\u001B[39;00m\n\u001B[32m     36\u001B[39m predictions = loaded_model.transform(dataset)\n",
      "\u001B[36mFile \u001B[39m\u001B[32m/usr/local/lib/python3.12/site-packages/pyspark/ml/util.py:369\u001B[39m, in \u001B[36mMLReadable.load\u001B[39m\u001B[34m(cls, path)\u001B[39m\n\u001B[32m    366\u001B[39m \u001B[38;5;129m@classmethod\u001B[39m\n\u001B[32m    367\u001B[39m \u001B[38;5;28;01mdef\u001B[39;00m\u001B[38;5;250m \u001B[39m\u001B[34mload\u001B[39m(\u001B[38;5;28mcls\u001B[39m, path: \u001B[38;5;28mstr\u001B[39m) -> RL:\n\u001B[32m    368\u001B[39m \u001B[38;5;250m    \u001B[39m\u001B[33;03m\"\"\"Reads an ML instance from the input path, a shortcut of `read().load(path)`.\"\"\"\u001B[39;00m\n\u001B[32m--> \u001B[39m\u001B[32m369\u001B[39m     \u001B[38;5;28;01mreturn\u001B[39;00m \u001B[38;5;28;43mcls\u001B[39;49m\u001B[43m.\u001B[49m\u001B[43mread\u001B[49m\u001B[43m(\u001B[49m\u001B[43m)\u001B[49m\u001B[43m.\u001B[49m\u001B[43mload\u001B[49m\u001B[43m(\u001B[49m\u001B[43mpath\u001B[49m\u001B[43m)\u001B[49m\n",
      "\u001B[36mFile \u001B[39m\u001B[32m/usr/local/lib/python3.12/site-packages/pyspark/ml/util.py:318\u001B[39m, in \u001B[36mJavaMLReader.load\u001B[39m\u001B[34m(self, path)\u001B[39m\n\u001B[32m    316\u001B[39m \u001B[38;5;28;01mif\u001B[39;00m \u001B[38;5;129;01mnot\u001B[39;00m \u001B[38;5;28misinstance\u001B[39m(path, \u001B[38;5;28mstr\u001B[39m):\n\u001B[32m    317\u001B[39m     \u001B[38;5;28;01mraise\u001B[39;00m \u001B[38;5;167;01mTypeError\u001B[39;00m(\u001B[33m\"\u001B[39m\u001B[33mpath should be a string, got type \u001B[39m\u001B[38;5;132;01m%s\u001B[39;00m\u001B[33m\"\u001B[39m % \u001B[38;5;28mtype\u001B[39m(path))\n\u001B[32m--> \u001B[39m\u001B[32m318\u001B[39m java_obj = \u001B[38;5;28;43mself\u001B[39;49m\u001B[43m.\u001B[49m\u001B[43m_jread\u001B[49m\u001B[43m.\u001B[49m\u001B[43mload\u001B[49m\u001B[43m(\u001B[49m\u001B[43mpath\u001B[49m\u001B[43m)\u001B[49m\n\u001B[32m    319\u001B[39m \u001B[38;5;28;01mif\u001B[39;00m \u001B[38;5;129;01mnot\u001B[39;00m \u001B[38;5;28mhasattr\u001B[39m(\u001B[38;5;28mself\u001B[39m._clazz, \u001B[33m\"\u001B[39m\u001B[33m_from_java\u001B[39m\u001B[33m\"\u001B[39m):\n\u001B[32m    320\u001B[39m     \u001B[38;5;28;01mraise\u001B[39;00m \u001B[38;5;167;01mNotImplementedError\u001B[39;00m(\n\u001B[32m    321\u001B[39m         \u001B[33m\"\u001B[39m\u001B[33mThis Java ML type cannot be loaded into Python currently: \u001B[39m\u001B[38;5;132;01m%r\u001B[39;00m\u001B[33m\"\u001B[39m % \u001B[38;5;28mself\u001B[39m._clazz\n\u001B[32m    322\u001B[39m     )\n",
      "\u001B[36mFile \u001B[39m\u001B[32m/usr/local/lib/python3.12/site-packages/py4j/java_gateway.py:1322\u001B[39m, in \u001B[36mJavaMember.__call__\u001B[39m\u001B[34m(self, *args)\u001B[39m\n\u001B[32m   1316\u001B[39m command = proto.CALL_COMMAND_NAME +\\\n\u001B[32m   1317\u001B[39m     \u001B[38;5;28mself\u001B[39m.command_header +\\\n\u001B[32m   1318\u001B[39m     args_command +\\\n\u001B[32m   1319\u001B[39m     proto.END_COMMAND_PART\n\u001B[32m   1321\u001B[39m answer = \u001B[38;5;28mself\u001B[39m.gateway_client.send_command(command)\n\u001B[32m-> \u001B[39m\u001B[32m1322\u001B[39m return_value = \u001B[43mget_return_value\u001B[49m\u001B[43m(\u001B[49m\n\u001B[32m   1323\u001B[39m \u001B[43m    \u001B[49m\u001B[43manswer\u001B[49m\u001B[43m,\u001B[49m\u001B[43m \u001B[49m\u001B[38;5;28;43mself\u001B[39;49m\u001B[43m.\u001B[49m\u001B[43mgateway_client\u001B[49m\u001B[43m,\u001B[49m\u001B[43m \u001B[49m\u001B[38;5;28;43mself\u001B[39;49m\u001B[43m.\u001B[49m\u001B[43mtarget_id\u001B[49m\u001B[43m,\u001B[49m\u001B[43m \u001B[49m\u001B[38;5;28;43mself\u001B[39;49m\u001B[43m.\u001B[49m\u001B[43mname\u001B[49m\u001B[43m)\u001B[49m\n\u001B[32m   1325\u001B[39m \u001B[38;5;28;01mfor\u001B[39;00m temp_arg \u001B[38;5;129;01min\u001B[39;00m temp_args:\n\u001B[32m   1326\u001B[39m     \u001B[38;5;28;01mif\u001B[39;00m \u001B[38;5;28mhasattr\u001B[39m(temp_arg, \u001B[33m\"\u001B[39m\u001B[33m_detach\u001B[39m\u001B[33m\"\u001B[39m):\n",
      "\u001B[36mFile \u001B[39m\u001B[32m/usr/local/lib/python3.12/site-packages/pyspark/errors/exceptions/captured.py:185\u001B[39m, in \u001B[36mcapture_sql_exception.<locals>.deco\u001B[39m\u001B[34m(*a, **kw)\u001B[39m\n\u001B[32m    181\u001B[39m converted = convert_exception(e.java_exception)\n\u001B[32m    182\u001B[39m \u001B[38;5;28;01mif\u001B[39;00m \u001B[38;5;129;01mnot\u001B[39;00m \u001B[38;5;28misinstance\u001B[39m(converted, UnknownException):\n\u001B[32m    183\u001B[39m     \u001B[38;5;66;03m# Hide where the exception came from that shows a non-Pythonic\u001B[39;00m\n\u001B[32m    184\u001B[39m     \u001B[38;5;66;03m# JVM exception message.\u001B[39;00m\n\u001B[32m--> \u001B[39m\u001B[32m185\u001B[39m     \u001B[38;5;28;01mraise\u001B[39;00m converted \u001B[38;5;28;01mfrom\u001B[39;00m\u001B[38;5;250m \u001B[39m\u001B[38;5;28;01mNone\u001B[39;00m\n\u001B[32m    186\u001B[39m \u001B[38;5;28;01melse\u001B[39;00m:\n\u001B[32m    187\u001B[39m     \u001B[38;5;28;01mraise\u001B[39;00m\n",
      "\u001B[31mUnsupportedOperationException\u001B[39m: empty collection"
     ]
    }
   ],
   "execution_count": 12
  },
  {
   "metadata": {},
   "cell_type": "code",
   "outputs": [],
   "execution_count": null,
   "source": "",
   "id": "103b04c96e6198ed"
  }
 ],
 "metadata": {
  "kernelspec": {
   "display_name": "Python 3 (ipykernel)",
   "language": "python",
   "name": "python3"
  },
  "language_info": {
   "codemirror_mode": {
    "name": "ipython",
    "version": 3
   },
   "file_extension": ".py",
   "mimetype": "text/x-python",
   "name": "python",
   "nbconvert_exporter": "python",
   "pygments_lexer": "ipython3",
   "version": "3.12.10"
  }
 },
 "nbformat": 4,
 "nbformat_minor": 5
}
