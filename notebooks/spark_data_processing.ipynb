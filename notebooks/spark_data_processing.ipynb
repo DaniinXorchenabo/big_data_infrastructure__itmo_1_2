{
 "cells": [
  {
   "cell_type": "code",
   "id": "initial_id",
   "metadata": {
    "ExecuteTime": {
     "end_time": "2025-04-15T19:32:01.703018Z",
     "start_time": "2025-04-15T19:32:00.304919Z"
    }
   },
   "source": [
    "# %load_ext autoreload\n",
    "# %autoreload 2\n",
    "# %reload_ext autoreload\n",
    "\n",
    "import os\n",
    "ROOT_DIR = '/workspace/NN'\n",
    "os.chdir(ROOT_DIR)\n",
    "\n",
    "import shutil\n",
    "import kagglehub\n",
    "import torch\n",
    "from pyspark.sql import SparkSession\n",
    "import socket\n",
    "\n",
    "dataset_path = os.path.join(ROOT_DIR, 'neural', 'datasets', 'spark', 'test_1')\n",
    "os.makedirs(dataset_path, exist_ok=True)\n",
    "device = torch.device('cuda' if torch.cuda.is_available() else 'cpu')\n",
    "\n",
    "\n",
    "\n",
    "print(socket.gethostbyname(\"spark-master\"))\n",
    "driver_host = socket.gethostbyname(socket.gethostname())\n",
    "print(driver_host)\n",
    "driver_host = socket.gethostbyname(\"spark-master\")\n",
    "print(driver_host)\n",
    "driver_host = \"producer\"\n",
    "os.environ[\"PYSPARK_SUBMIT_ARGS\"] = f\"\"\"\n",
    "--master spark://spark-master:7077\n",
    "--conf spark.driver.host={driver_host}\n",
    "--conf spark.driver.port=45555\n",
    "--conf spark.executor.memory=1G\n",
    "--conf spark.executor.cores=1\n",
    "pyspark-shell\n",
    "\"\"\"\n",
    "os.environ[\"JAVA_HOME\"] = \"/usr/lib/jvm/java-11-openjdk-amd64\"\n",
    "# os.environ['PYSPARK_PYTHON'] = '/usr/bin/python3'  # путь к Python в контейнере\n",
    "# os.environ['SPARK_HOME'] = '/opt/spark'            # путь к Spark, укажи реальный\n",
    "# os.environ['PYSPARK_DRIVER_PYTHON'] = 'jupyter'\n",
    "\n",
    "MONGO_USER = os.environ[\"MONGO_USER\"]\n",
    "MONGO_PASS = os.environ[\"MONGO_PASSWORD\"]\n",
    "MONGO_ADDR = f\"{MONGO_USER}:{MONGO_PASS}@mongodb:27017\"  # :27017\n",
    "\n",
    "def spark_app_generator(name):\n",
    "    spark = SparkSession.builder \\\n",
    "        .master(\"spark://spark-master:7077\") \\\n",
    "        .appName(name) \\\n",
    "         .config(\"spark.driver.bindAddress\", \"0.0.0.0\") \\\n",
    "        .config(\"spark.executor.memory\", \"1g\") \\\n",
    "        .config(\"spark.driver.memory\", \"1g\") \\\n",
    "    .config(\"spark.jars.packages\", \"org.mongodb.spark:mongo-spark-connector_2.12:10.3.0\") \\\n",
    "    .config(\"spark.mongodb.read.connection.uri\", f\"mongodb://{MONGO_ADDR}\") \\\n",
    "    .config(\"spark.mongodb.write.connection.uri\", f\"mongodb://{MONGO_ADDR}\") \\\n",
    "        .getOrCreate()\n",
    "    return spark  # /openfoodfacts.products\n"
   ],
   "outputs": [
    {
     "name": "stdout",
     "output_type": "stream",
     "text": [
      "172.21.0.2\n",
      "172.21.0.5\n",
      "172.21.0.2\n"
     ]
    }
   ],
   "execution_count": 2
  },
  {
   "cell_type": "code",
   "id": "8452b8cf4a07aad2",
   "metadata": {
    "scrolled": true,
    "ExecuteTime": {
     "end_time": "2025-04-15T19:35:54.704828Z",
     "start_time": "2025-04-15T19:35:47.723216Z"
    }
   },
   "source": [
    "from pyspark.sql.types import StructType, StructField, StringType, IntegerType, MapType\n",
    "\n",
    "# Пример определения схемы. Настройте схему под структуру ваших данных.\n",
    "custom_schema = StructType([\n",
    "    StructField(\"_id\", StringType(), True),\n",
    "    StructField(\"product_name\", StringType(), True),\n",
    "    # Если nutriments представляет собой динамические поля, лучше сохранить его как MapType.\n",
    "    StructField(\"nutriments\", MapType(StringType(), StringType()), True),\n",
    "    # Если есть другие поля, укажите их типы.\n",
    "    StructField(\"quantity\", StringType(), True)\n",
    "])\n",
    "\n",
    "spark = spark_app_generator('test_mongo_reading')\n",
    "df = spark.read.schema(custom_schema).format(\"mongodb\") \\\n",
    "  .options(host=\"mongo:27017\", database=\"off\", collection='products').load()  # , database=\"off\", collection='products'\n",
    "\n",
    "# Просмотр схемы и первых строк\n",
    "df.printSchema()\n",
    "df.show(50)\n"
   ],
   "outputs": [
    {
     "name": "stdout",
     "output_type": "stream",
     "text": [
      "root\n",
      " |-- _id: string (nullable = true)\n",
      " |-- product_name: string (nullable = true)\n",
      " |-- nutriments: map (nullable = true)\n",
      " |    |-- key: string\n",
      " |    |-- value: string (valueContainsNull = true)\n",
      " |-- quantity: string (nullable = true)\n",
      "\n",
      "+------------+--------------------+--------------------+--------------------+\n",
      "|         _id|        product_name|          nutriments|            quantity|\n",
      "+------------+--------------------+--------------------+--------------------+\n",
      "|            |                NULL|                  {}|                NULL|\n",
      "|    00000000|           erytritol|{potassium_servin...|            150 gram|\n",
      "|000000000054|Limonade artisana...|                  {}|                NULL|\n",
      "|000000000063|Mozzarella Schnit...|{fat_100g -> 25, ...|                NULL|\n",
      "|000000000114|       Chocolate n 3|{fat_100g -> 44, ...|                80 g|\n",
      "|    00000001|Wild Norwegian El...|{potassium_servin...|  280gr. 320 Kapseln|\n",
      "|  0000000105|Paleta gran reser...|{fruits-vegetable...|               750ml|\n",
      "|    00000002|Filets de poulet ...|{carbohydrates_10...|           240-400 g|\n",
      "|    00000003|    Creatine Gummies|{proteins_unit ->...|               700ml|\n",
      "|    00000004|               Oreos|{carbohydrates_10...|                500g|\n",
      "|  0000000475|Confiture extra c...|{fat_100g -> 0, p...|               230 g|\n",
      "|    00000005|6K Protein White ...|{carbohydrates_10...|              1000ml|\n",
      "|    00000006|                NULL|{alcohol_serving ...|                500g|\n",
      "| 00000006666|      Gemüse - Gurke|                  {}|                1pcs|\n",
      "|    00000007|  Ah Mini-maiswafels|{carbohydrates_10...|                450g|\n",
      "|    00000008|                    |{potassium_servin...|               700ml|\n",
      "|    00000009|Mission Carb Bala...|{fat_100g -> 0.5,...|               700ml|\n",
      "|    00000010| Natual Energy Boost|{magnesium_servin...|               700ml|\n",
      "|    00000011|                    |                  {}|                1pcs|\n",
      "|    00000012|HIGH PROTEIN ICED...|{proteins_unit ->...|                    |\n",
      "|    00000013|Powdered peanut b...|{fat_100g -> 13, ...|               300 g|\n",
      "|    00000015|Madeleines ChocoLait|{alcohol_serving ...|              1000 g|\n",
      "|    00000016|    Desiccated liver|{fruits-vegetable...|                NULL|\n",
      "|    00000017|    Collagen For Her|{carbohydrates_10...|              1.0 kg|\n",
      "|    00000018|Chocolate peanut ...|{fat_100g -> 5.36...|                NULL|\n",
      "|    00000019|           Erdbeeren|{fat_100g -> 6.9,...|                250g|\n",
      "|    00000020|  Peanut Butter Chip|{potassium_servin...|1080 g / 50 madel...|\n",
      "|    00000021|Inulin Prebiotic ...|{saturated-fat_va...|                NULL|\n",
      "|    00000022|Farandole de made...|{carbohydrates_10...|               590 g|\n",
      "|    00000023|           Mezzo Mix|{carbohydrates_10...|               260 g|\n",
      "|    00000024| Magnesium Glycinate|{fruits-vegetable...|                    |\n",
      "|    00000025|Frog Fuel Power P...|{energy_unit -> k...|               610 g|\n",
      "|    00000026| The Smartest Cookie|{carbohydrates_10...|                    |\n",
      "|    00000027|                    |{fruits-vegetable...|               700ml|\n",
      "|    00000028|trader Joe's Hemp...|{alcohol_serving ...|               700ml|\n",
      "|    00000029|Anthony's Organic...|{potassium_servin...|                NULL|\n",
      "|    00000030|   Valeriana System®|{fruits-vegetable...|               900 g|\n",
      "|    00000031|10 chicken stock ...|{carbohydrates_10...|                100g|\n",
      "|    00000032|Hydrolyzed Bone B...|{carbohydrates_10...|                0.5l|\n",
      "|    00000033|Vegan Protein 3k ...|{proteins_unit ->...|                    |\n",
      "|    00000034|     Graines de Chia|{saturated-fat_va...|                 1kg|\n",
      "|    00000035|         Cardiofitmd|{energy_unit -> k...|               600 g|\n",
      "|    00000036|                NULL|{carbohydrates_10...|               490 g|\n",
      "|    00000037|             seletor|{carbohydrates_10...|              1.5 kg|\n",
      "|    00000038|          Madeleines|                  {}|                NULL|\n",
      "|    00000039|          Yerba Mate|{proteins_unit ->...|                1 kg|\n",
      "|    00000040|        Greens blend|{proteins_unit ->...|                NULL|\n",
      "|    00000041|         Egg Noodles|{fat_100g -> 6.1,...|                    |\n",
      "|    00000042|Multivitamins & M...|{carbohydrates_10...|       180 comprimés|\n",
      "|    00000043|pão cereais e queijo|{salt_prepared ->...|        30 compresse|\n",
      "+------------+--------------------+--------------------+--------------------+\n",
      "only showing top 50 rows\n",
      "\n"
     ]
    }
   ],
   "execution_count": 6
  },
  {
   "cell_type": "code",
   "id": "593e4532f56fb43c",
   "metadata": {
    "ExecuteTime": {
     "end_time": "2025-04-15T19:39:17.833171Z",
     "start_time": "2025-04-15T19:39:17.771554Z"
    }
   },
   "source": [
    "# Не забудьте остановить SparkSession по завершении работы\n",
    "spark.stop()"
   ],
   "outputs": [],
   "execution_count": 7
  },
  {
   "metadata": {},
   "cell_type": "code",
   "outputs": [],
   "execution_count": null,
   "source": "",
   "id": "ca3b1aa8c6b6f361"
  }
 ],
 "metadata": {
  "kernelspec": {
   "display_name": "Python 3 (ipykernel)",
   "language": "python",
   "name": "python3"
  },
  "language_info": {
   "codemirror_mode": {
    "name": "ipython",
    "version": 3
   },
   "file_extension": ".py",
   "mimetype": "text/x-python",
   "name": "python",
   "nbconvert_exporter": "python",
   "pygments_lexer": "ipython3",
   "version": "3.12.10"
  }
 },
 "nbformat": 4,
 "nbformat_minor": 5
}
