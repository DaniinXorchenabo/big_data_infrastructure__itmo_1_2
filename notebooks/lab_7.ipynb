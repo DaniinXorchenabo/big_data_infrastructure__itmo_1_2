{
 "cells": [
  {
   "cell_type": "code",
   "execution_count": 1,
   "id": "7b9b6cb37ac18a19",
   "metadata": {
    "ExecuteTime": {
     "end_time": "2025-04-22T15:53:04.111993Z",
     "start_time": "2025-04-22T15:53:02.792005Z"
    }
   },
   "outputs": [
    {
     "name": "stdout",
     "output_type": "stream",
     "text": [
      "Requirement already satisfied: pyspark==3.5.5 in /usr/local/lib/python3.12/site-packages (3.5.5)\r\n",
      "Requirement already satisfied: py4j==0.10.9.7 in /usr/local/lib/python3.12/site-packages (from pyspark==3.5.5) (0.10.9.7)\r\n",
      "\u001b[33mWARNING: Running pip as the 'root' user can result in broken permissions and conflicting behaviour with the system package manager, possibly rendering your system unusable. It is recommended to use a virtual environment instead: https://pip.pypa.io/warnings/venv. Use the --root-user-action option if you know what you are doing and want to suppress this warning.\u001b[0m\u001b[33m\r\n",
      "\u001b[0m"
     ]
    }
   ],
   "source": [
    "!pip install pyspark==3.5.5"
   ]
  },
  {
   "cell_type": "code",
   "execution_count": 1,
   "id": "initial_id",
   "metadata": {
    "ExecuteTime": {
     "end_time": "2025-04-26T18:33:26.973155Z",
     "start_time": "2025-04-26T18:33:21.684438Z"
    }
   },
   "outputs": [
    {
     "name": "stdout",
     "output_type": "stream",
     "text": [
      "172.22.0.4\n",
      "172.22.0.5\n",
      "172.22.0.4\n"
     ]
    }
   ],
   "source": [
    "# %load_ext autoreload\n",
    "# %autoreload 2\n",
    "# %reload_ext autoreload\n",
    "\n",
    "import os\n",
    "ROOT_DIR = '/workspace/NN'\n",
    "os.chdir(ROOT_DIR)\n",
    "\n",
    "import shutil\n",
    "import kagglehub\n",
    "import torch\n",
    "from pyspark.sql import SparkSession\n",
    "import socket\n",
    "\n",
    "dataset_path = os.path.join(ROOT_DIR, 'neural', 'datasets', 'spark', 'test_1')\n",
    "weight_path = os.path.join(ROOT_DIR, 'neural', 'weights', 'lab_5', 'kmeans')\n",
    "os.makedirs(dataset_path, exist_ok=True)\n",
    "device = torch.device('cuda' if torch.cuda.is_available() else 'cpu')\n",
    "\n",
    "\n",
    "\n",
    "print(socket.gethostbyname(\"spark-master\"))\n",
    "driver_host = socket.gethostbyname(socket.gethostname())\n",
    "print(driver_host)\n",
    "driver_host = socket.gethostbyname(\"spark-master\")\n",
    "print(driver_host)\n",
    "driver_host = \"producer\"\n",
    "os.environ[\"PYSPARK_SUBMIT_ARGS\"] = f\"\"\"\n",
    "--master spark://spark-master:7077\n",
    "--conf spark.driver.host={driver_host}\n",
    "--conf spark.driver.port=45555\n",
    "--conf spark.executor.memory=1G\n",
    "--conf spark.executor.cores=1\n",
    "pyspark-shell\n",
    "\"\"\"\n",
    "os.environ[\"JAVA_HOME\"] = \"/usr/lib/jvm/java-11-openjdk-amd64\"\n",
    "# os.environ['PYSPARK_PYTHON'] = '/usr/bin/python3'  # путь к Python в контейнере\n",
    "# os.environ['SPARK_HOME'] = '/opt/spark'            # путь к Spark, укажи реальный\n",
    "# os.environ['PYSPARK_DRIVER_PYTHON'] = 'jupyter'\n",
    "neo4j_url  = 'bolt://neo4j:7687'\n",
    "neo4j_user = os.environ[\"NEO4J_USER\"]\n",
    "neo4j_pass = os.environ[\"NEO4J_PASSWORD\"]\n",
    "MONGO_USER = os.environ[\"MONGO_USER\"]\n",
    "MONGO_PASS = os.environ[\"MONGO_PASSWORD\"]\n",
    "MONGO_ADDR = f\"{MONGO_USER}:{MONGO_PASS}@mongodb:27017\"  # :27017\n",
    "\n",
    "def spark_app_generator(name):\n",
    "    spark = SparkSession.builder \\\n",
    "        .master(\"spark://spark-master:7077\") \\\n",
    "        .appName(name) \\\n",
    "         .config(\"spark.driver.bindAddress\", \"0.0.0.0\") \\\n",
    "        .config(\"spark.executor.memory\", \"1g\") \\\n",
    "        .config(\"spark.driver.memory\", \"1g\") \\\n",
    "    .config(\"spark.jars.packages\", \"org.mongodb.spark:mongo-spark-connector_2.12:10.3.0,org.neo4j:neo4j-connector-apache-spark_2.12:5.3.1_for_spark_3,com.redislabs:spark-redis_2.12:3.1.0\") \\\n",
    "    .config(\"spark.mongodb.read.connection.uri\", f\"mongodb://{MONGO_ADDR}\") \\\n",
    "    .config(\"spark.mongodb.write.connection.uri\", f\"mongodb://{MONGO_ADDR}\") \\\n",
    "    .config(\"spark.redis.host\", \"redis\") \\\n",
    "    .config(\"spark.redis.port\", \"6379\") \\\n",
    "    .config(\"spark.redis.db\", \"0\") \\\n",
    "    .config(\"spark.neo4j.bolt.url\", neo4j_url) \\\n",
    "    .config(\"spark.neo4j.bolt.user\", neo4j_user) \\\n",
    "    .config(\"spark.neo4j.bolt.password\", neo4j_pass) \\\n",
    "    .config(\"neo4j.url\", neo4j_url) \\\n",
    "    .config(\"neo4j.authentication.basic.username\", neo4j_user) \\\n",
    "    .config(\"neo4j.authentication.basic.password\", neo4j_pass) \\\n",
    "        .getOrCreate()\n",
    "\n",
    "        # .config(\"spark.hadoop.hadoop.home.dir\", \"/hadoop/dfs/name\") \\\n",
    "    # .config(\"spark.hadoop.fs.defaultFS\", \"hdfs://namenode:9000\") \\\n",
    "    # .config(\"spark.hadoop.dfs.client.use.namenode.hostname\", \"true\") \\\n",
    "    print(spark.sparkContext.getConf().get(\"spark.jars.packages\"))\n",
    "    return spark  # /openfoodfacts.products\n"
   ]
  },
  {
   "cell_type": "code",
   "execution_count": 2,
   "id": "4893b1c50680e696",
   "metadata": {
    "ExecuteTime": {
     "end_time": "2025-04-26T18:34:37.919610Z",
     "start_time": "2025-04-26T18:33:32.843419Z"
    }
   },
   "outputs": [
    {
     "name": "stderr",
     "output_type": "stream",
     "text": [
      "Warning: Ignoring non-Spark config property: neo4j.url\n",
      "Warning: Ignoring non-Spark config property: neo4j.authentication.basic.password\n",
      "Warning: Ignoring non-Spark config property: neo4j.authentication.basic.username\n"
     ]
    },
    {
     "name": "stdout",
     "output_type": "stream",
     "text": [
      ":: loading settings :: url = jar:file:/usr/local/lib/python3.12/site-packages/pyspark/jars/ivy-2.5.1.jar!/org/apache/ivy/core/settings/ivysettings.xml\n"
     ]
    },
    {
     "name": "stderr",
     "output_type": "stream",
     "text": [
      "Ivy Default Cache set to: /root/.ivy2/cache\n",
      "The jars for the packages stored in: /root/.ivy2/jars\n",
      "org.mongodb.spark#mongo-spark-connector_2.12 added as a dependency\n",
      "org.neo4j#neo4j-connector-apache-spark_2.12 added as a dependency\n",
      "com.redislabs#spark-redis_2.12 added as a dependency\n",
      ":: resolving dependencies :: org.apache.spark#spark-submit-parent-1df7e46a-3032-4ae5-b5fc-8df227feec1f;1.0\n",
      "\tconfs: [default]\n",
      "\tfound org.mongodb.spark#mongo-spark-connector_2.12;10.3.0 in central\n",
      "\tfound org.mongodb#mongodb-driver-sync;4.8.2 in central\n",
      "\t[4.8.2] org.mongodb#mongodb-driver-sync;[4.8.1,4.8.99)\n",
      "\tfound org.mongodb#bson;4.8.2 in central\n",
      "\tfound org.mongodb#mongodb-driver-core;4.8.2 in central\n",
      "\tfound org.mongodb#bson-record-codec;4.8.2 in central\n",
      "\tfound org.neo4j#neo4j-connector-apache-spark_2.12;5.3.1_for_spark_3 in central\n",
      "\tfound org.neo4j#neo4j-connector-apache-spark_2.12_common;5.3.1 in central\n",
      "\tfound org.neo4j.driver#neo4j-java-driver;4.4.17 in central\n",
      "\tfound org.reactivestreams#reactive-streams;1.0.4 in central\n",
      "\tfound org.apache.xbean#xbean-asm6-shaded;4.10 in central\n",
      "\tfound org.neo4j#neo4j-cypher-dsl;2022.9.2 in central\n",
      "\tfound org.apiguardian#apiguardian-api;1.1.2 in central\n",
      "\tfound com.redislabs#spark-redis_2.12;3.1.0 in central\n",
      "\tfound redis.clients#jedis;3.9.0 in central\n",
      "\tfound org.slf4j#slf4j-api;1.7.30 in central\n",
      "\tfound org.apache.commons#commons-pool2;2.11.1 in central\n",
      ":: resolution report :: resolve 1981ms :: artifacts dl 12ms\n",
      "\t:: modules in use:\n",
      "\tcom.redislabs#spark-redis_2.12;3.1.0 from central in [default]\n",
      "\torg.apache.commons#commons-pool2;2.11.1 from central in [default]\n",
      "\torg.apache.xbean#xbean-asm6-shaded;4.10 from central in [default]\n",
      "\torg.apiguardian#apiguardian-api;1.1.2 from central in [default]\n",
      "\torg.mongodb#bson;4.8.2 from central in [default]\n",
      "\torg.mongodb#bson-record-codec;4.8.2 from central in [default]\n",
      "\torg.mongodb#mongodb-driver-core;4.8.2 from central in [default]\n",
      "\torg.mongodb#mongodb-driver-sync;4.8.2 from central in [default]\n",
      "\torg.mongodb.spark#mongo-spark-connector_2.12;10.3.0 from central in [default]\n",
      "\torg.neo4j#neo4j-connector-apache-spark_2.12;5.3.1_for_spark_3 from central in [default]\n",
      "\torg.neo4j#neo4j-connector-apache-spark_2.12_common;5.3.1 from central in [default]\n",
      "\torg.neo4j#neo4j-cypher-dsl;2022.9.2 from central in [default]\n",
      "\torg.neo4j.driver#neo4j-java-driver;4.4.17 from central in [default]\n",
      "\torg.reactivestreams#reactive-streams;1.0.4 from central in [default]\n",
      "\torg.slf4j#slf4j-api;1.7.30 from central in [default]\n",
      "\tredis.clients#jedis;3.9.0 from central in [default]\n",
      "\t---------------------------------------------------------------------\n",
      "\t|                  |            modules            ||   artifacts   |\n",
      "\t|       conf       | number| search|dwnlded|evicted|| number|dwnlded|\n",
      "\t---------------------------------------------------------------------\n",
      "\t|      default     |   16  |   1   |   0   |   0   ||   16  |   0   |\n",
      "\t---------------------------------------------------------------------\n",
      ":: retrieving :: org.apache.spark#spark-submit-parent-1df7e46a-3032-4ae5-b5fc-8df227feec1f\n",
      "\tconfs: [default]\n",
      "\t0 artifacts copied, 16 already retrieved (0kB/7ms)\n",
      "25/04/26 20:03:22 WARN NativeCodeLoader: Unable to load native-hadoop library for your platform... using builtin-java classes where applicable\n",
      "Setting default log level to \"WARN\".\n",
      "To adjust logging level use sc.setLogLevel(newLevel). For SparkR, use setLogLevel(newLevel).\n"
     ]
    },
    {
     "name": "stdout",
     "output_type": "stream",
     "text": [
      "org.mongodb.spark:mongo-spark-connector_2.12:10.3.0,org.neo4j:neo4j-connector-apache-spark_2.12:5.3.1_for_spark_3,com.redislabs:spark-redis_2.12:3.1.0\n"
     ]
    },
    {
     "name": "stderr",
     "output_type": "stream",
     "text": [
      "25/04/26 20:03:25 WARN SchemaService: Switching to query schema resolution\n",
      "                                                                                "
     ]
    },
    {
     "name": "stdout",
     "output_type": "stream",
     "text": [
      "500435\n",
      "root\n",
      " |-- <id>: long (nullable = false)\n",
      " |-- <labels>: array (nullable = true)\n",
      " |    |-- element: string (containsNull = true)\n",
      " |-- scans_n: long (nullable = true)\n",
      " |-- product_name: string (nullable = true)\n",
      " |-- ingredients_sweeteners_n: long (nullable = true)\n",
      " |-- ingredients_n: long (nullable = true)\n",
      " |-- additives_n: long (nullable = true)\n",
      " |-- _id: string (nullable = true)\n",
      "\n"
     ]
    },
    {
     "name": "stderr",
     "output_type": "stream",
     "text": [
      "                                                                                "
     ]
    },
    {
     "name": "stdout",
     "output_type": "stream",
     "text": [
      "+----+----------------+-------+--------------------+------------------------+-------------+-----------+-------------+\n",
      "|<id>|        <labels>|scans_n|        product_name|ingredients_sweeteners_n|ingredients_n|additives_n|          _id|\n",
      "+----+----------------+-------+--------------------+------------------------+-------------+-----------+-------------+\n",
      "|   0|[CleanedProduct]|      1|      Genovese pesto|                       0|           17|          0|0011110899378|\n",
      "|   1|[CleanedProduct]|      2|        Marshmallows|                       0|            9|          3|0015400023931|\n",
      "|   2|[CleanedProduct]|      3|    Meatless Chorizo|                       0|           20|          1|0011110129345|\n",
      "|   3|[CleanedProduct]|      2|                Cola|                       0|            6|          2|0011110496805|\n",
      "|   4|[CleanedProduct]|      1|Wrap Poulet à la ...|                       0|           51|          5|     00099332|\n",
      "|   5|[CleanedProduct]|      1|        Berry Medley|                       0|            4|          0|0011150545341|\n",
      "|   6|[CleanedProduct]|      1|   100% Pure pumpkin|                       0|            1|          0|0011110899781|\n",
      "|   7|[CleanedProduct]|      1| Crunchy fish sticks|                       0|           18|          2|0011150570084|\n",
      "|   8|[CleanedProduct]|      8|          Sour Cream|                       0|            3|          0|0011110130105|\n",
      "|   9|[CleanedProduct]|      8|      Marinara sauce|                       0|           16|          0|     00099769|\n",
      "|  10|[CleanedProduct]|      1|         Sarsparilla|                       0|            6|          1|0011110500946|\n",
      "|  11|[CleanedProduct]|      2|   Mini Marshmallows|                       0|            9|          3|0015400023948|\n",
      "|  12|[CleanedProduct]|      1|     Tilapia Fillets|                       0|            1|          0|0011150572293|\n",
      "|  13|[CleanedProduct]|      5|West Country Luxu...|                       0|            8|          0|0009999645766|\n",
      "|  14|[CleanedProduct]|      1|       Vanilla Syrup|                       0|            6|          3|0011110130327|\n",
      "|  15|[CleanedProduct]|      2|Mango Peach Peppe...|                       0|           11|          2|0015400130592|\n",
      "|  16|[CleanedProduct]|      1|Finely Sharp Shre...|                       0|           13|          2|0011110501110|\n",
      "|  17|[CleanedProduct]|      2|Premium Chicken B...|                       0|            3|          0|0011110900920|\n",
      "|  18|[CleanedProduct]|      4|       Seed Cocktail|                       0|            5|          0|0009999996994|\n",
      "|  19|[CleanedProduct]|      1|Soft Baked Fruit ...|                       0|           56|         16|0011110130501|\n",
      "+----+----------------+-------+--------------------+------------------------+-------------+-----------+-------------+\n",
      "only showing top 20 rows\n",
      "\n"
     ]
    }
   ],
   "source": [
    "from pyspark.sql.types import (StructType, StructField,\n",
    "                               StringType, IntegerType, MapType,\n",
    "                               DoubleType\n",
    "                               )\n",
    "\n",
    "# Пример определения схемы. Настройте схему под структуру ваших данных.\n",
    "custom_schema = StructType([\n",
    "    StructField(\"_id\", StringType(), True),\n",
    "    StructField(\"product_name\", StringType(), True),\n",
    "    # Если nutriments представляет собой динамические поля, лучше сохранить его как MapType.\n",
    "    StructField(\"ingredients_n\", IntegerType(), nullable = True),\n",
    "      StructField(\"ingredients_sweeteners_n\", IntegerType(), nullable = True),\n",
    "      StructField(\"scans_n\", IntegerType(), nullable = True),\n",
    "      StructField(\"additives_n\", IntegerType(), nullable = True),\n",
    "\n",
    "\n",
    "])\n",
    "\n",
    "spark = spark_app_generator('lab_7')\n",
    "df = spark.read.format(\"org.neo4j.spark.DataSource\") \\\n",
    "    .option(\"labels\", \"CleanedProduct\") \\\n",
    "    .load()    # , database=\"off\", collection='products'\n",
    "\n",
    "# Просмотр схемы и первых строк\n",
    "print(df.count())\n",
    "df.printSchema()\n",
    "df.show(20)\n"
   ]
  },
  {
   "cell_type": "code",
   "execution_count": null,
   "id": "6130766a3f531a8c",
   "metadata": {
    "ExecuteTime": {
     "end_time": "2025-04-22T20:43:48.820948Z",
     "start_time": "2025-04-22T20:38:12.293064Z"
    }
   },
   "outputs": [],
   "source": []
  },
  {
   "cell_type": "code",
   "execution_count": 3,
   "id": "3da5112d48246634",
   "metadata": {
    "ExecuteTime": {
     "end_time": "2025-04-26T18:36:22.640976Z",
     "start_time": "2025-04-26T18:36:04.133454Z"
    }
   },
   "outputs": [
    {
     "name": "stderr",
     "output_type": "stream",
     "text": [
      "                                                                                "
     ]
    }
   ],
   "source": [
    "from pyspark.ml.feature import VectorAssembler, StandardScaler\n",
    "\n",
    "# Сбор признаков в вектор\n",
    "numeric_features_2 = ['ingredients_n', 'ingredients_sweeteners_n', 'scans_n', 'additives_n',]\n",
    "assembler = VectorAssembler(inputCols=numeric_features_2, outputCol=\"features_assembled\")\n",
    "df_vector = assembler.transform(df)\n",
    "\n",
    "# Масштабирование признаков\n",
    "scaler = StandardScaler(inputCol=\"features_assembled\", outputCol=\"features\")\n",
    "scaler_model = scaler.fit(df_vector)\n",
    "df_scaled = scaler_model.transform(df_vector)"
   ]
  },
  {
   "cell_type": "code",
   "execution_count": null,
   "id": "c0b6b13c448b00de",
   "metadata": {
    "ExecuteTime": {
     "start_time": "2025-04-26T18:36:22.690917Z"
    },
    "jupyter": {
     "is_executing": true
    }
   },
   "outputs": [
    {
     "name": "stderr",
     "output_type": "stream",
     "text": [
      "[Stage 10:>                                                         (0 + 1) / 1]"
     ]
    }
   ],
   "source": [
    "from pyspark.ml.clustering import KMeans\n",
    "from pyspark.ml.evaluation import ClusteringEvaluator\n",
    "\n",
    "\n",
    "# df_small = df_scaled.limit(100)\n",
    "# Обучение модели k-средних\n",
    "kmeans = KMeans().setK(4).setSeed(1).setFeaturesCol(\"features\")\n",
    "model = kmeans.fit(df_scaled)\n",
    "\n"
   ]
  },
  {
   "cell_type": "code",
   "execution_count": 6,
   "id": "a6c2d67e-4fa2-45f5-9c5a-1f7bab8a91ef",
   "metadata": {},
   "outputs": [
    {
     "data": {
      "text/plain": [
       "['ingredients_n', 'ingredients_sweeteners_n', 'scans_n', 'additives_n']"
      ]
     },
     "execution_count": 6,
     "metadata": {},
     "output_type": "execute_result"
    }
   ],
   "source": [
    "numeric_features_2"
   ]
  },
  {
   "cell_type": "code",
   "execution_count": null,
   "id": "2d049b60c3cb9d92",
   "metadata": {
    "ExecuteTime": {
     "end_time": "2025-04-24T18:35:04.726339Z",
     "start_time": "2025-04-24T18:28:50.924284Z"
    }
   },
   "outputs": [],
   "source": [
    "# Предсказание кластеров\n",
    "predictions = model.transform(df_scaled)\n",
    "result = predictions.select(\n",
    "    \"_id\",\n",
    "    \"product_name\",\n",
    "    'ingredients_n', 'ingredients_sweeteners_n', 'scans_n', 'additives_n',\n",
    "    \"features\", \"prediction\"\n",
    ")\n",
    "# result.show()\n",
    "# Оценка модели\n",
    "evaluator = ClusteringEvaluator()\n",
    "silhouette = evaluator.evaluate(predictions)\n",
    "print(f\"Silhouette Score: {silhouette}\")\n",
    "\n",
    "# Центры кластеров\n",
    "centers = model.clusterCenters()\n",
    "for idx, center in enumerate(centers):\n",
    "    print(f\"Cluster {idx} center: {center}\")"
   ]
  },
  {
   "cell_type": "code",
   "execution_count": null,
   "id": "ea93e75619243192",
   "metadata": {
    "ExecuteTime": {
     "end_time": "2025-04-24T18:35:08.836890Z",
     "start_time": "2025-04-24T18:35:04.775656Z"
    }
   },
   "outputs": [],
   "source": [
    "result.show(10)"
   ]
  },
  {
   "cell_type": "code",
   "execution_count": null,
   "id": "5a8dffd424816e51",
   "metadata": {
    "ExecuteTime": {
     "end_time": "2025-04-25T13:34:43.219605Z",
     "start_time": "2025-04-25T13:30:58.373334Z"
    }
   },
   "outputs": [],
   "source": [
    "\n",
    "result \\\n",
    " .write\\\n",
    " .format(\"org.apache.spark.sql.redis\")\\\n",
    " .option(\"table\", \"results_lab_7\")\\\n",
    " .option(\"key.column\", \"_id\")\\\n",
    " .mode(\"overwrite\")\\\n",
    " .save()"
   ]
  },
  {
   "cell_type": "code",
   "execution_count": 12,
   "id": "9fcf6555e2b7a28e",
   "metadata": {
    "ExecuteTime": {
     "end_time": "2025-04-22T16:30:26.409316Z",
     "start_time": "2025-04-22T16:30:25.520398Z"
    }
   },
   "outputs": [],
   "source": [
    "\n",
    "# weight_path = os.path.join(ROOT_DIR, 'neural', 'weights', 'lab_5', 'kmeans_3')\n",
    "# os.makedirs(weight_path, exist_ok=True)\n",
    "# model.save(\"/opt/bitnami/spark/work/labs/lab_5/kmeans_5\")\n",
    "model.save('/opt/bitnami/spark/work/labs/lab_5/kmeans_7')"
   ]
  },
  {
   "cell_type": "code",
   "execution_count": 6,
   "id": "f1ad6ce7ea151e20",
   "metadata": {
    "ExecuteTime": {
     "end_time": "2025-04-22T19:55:04.449580Z",
     "start_time": "2025-04-22T19:55:04.317165Z"
    }
   },
   "outputs": [],
   "source": [
    "# Не забудьте остановить SparkSession по завершении работы\n",
    "spark.stop()"
   ]
  },
  {
   "cell_type": "code",
   "execution_count": 13,
   "id": "6c731cea4caa4c81",
   "metadata": {
    "ExecuteTime": {
     "end_time": "2025-04-22T16:30:34.855153Z",
     "start_time": "2025-04-22T16:30:34.743096Z"
    }
   },
   "outputs": [
    {
     "ename": "UnsupportedOperationException",
     "evalue": "empty collection",
     "output_type": "error",
     "traceback": [
      "\u001b[31m---------------------------------------------------------------------------\u001b[39m",
      "\u001b[31mUnsupportedOperationException\u001b[39m             Traceback (most recent call last)",
      "\u001b[36mCell\u001b[39m\u001b[36m \u001b[39m\u001b[32mIn[13]\u001b[39m\u001b[32m, line 3\u001b[39m\n\u001b[32m      1\u001b[39m \u001b[38;5;28;01mfrom\u001b[39;00m\u001b[38;5;250m \u001b[39m\u001b[34;01mpyspark\u001b[39;00m\u001b[34;01m.\u001b[39;00m\u001b[34;01mml\u001b[39;00m\u001b[34;01m.\u001b[39;00m\u001b[34;01mclustering\u001b[39;00m\u001b[38;5;250m \u001b[39m\u001b[38;5;28;01mimport\u001b[39;00m KMeansModel\n\u001b[32m----> \u001b[39m\u001b[32m3\u001b[39m loaded_model = \u001b[43mKMeansModel\u001b[49m\u001b[43m.\u001b[49m\u001b[43mload\u001b[49m\u001b[43m(\u001b[49m\u001b[33;43m\"\u001b[39;49m\u001b[33;43m/opt/bitnami/spark/work/labs/lab_5/kmeans_7\u001b[39;49m\u001b[33;43m\"\u001b[39;49m\u001b[43m)\u001b[49m\n",
      "\u001b[36mFile \u001b[39m\u001b[32m/usr/local/lib/python3.12/site-packages/pyspark/ml/util.py:369\u001b[39m, in \u001b[36mMLReadable.load\u001b[39m\u001b[34m(cls, path)\u001b[39m\n\u001b[32m    366\u001b[39m \u001b[38;5;129m@classmethod\u001b[39m\n\u001b[32m    367\u001b[39m \u001b[38;5;28;01mdef\u001b[39;00m\u001b[38;5;250m \u001b[39m\u001b[34mload\u001b[39m(\u001b[38;5;28mcls\u001b[39m, path: \u001b[38;5;28mstr\u001b[39m) -> RL:\n\u001b[32m    368\u001b[39m \u001b[38;5;250m    \u001b[39m\u001b[33;03m\"\"\"Reads an ML instance from the input path, a shortcut of `read().load(path)`.\"\"\"\u001b[39;00m\n\u001b[32m--> \u001b[39m\u001b[32m369\u001b[39m     \u001b[38;5;28;01mreturn\u001b[39;00m \u001b[38;5;28;43mcls\u001b[39;49m\u001b[43m.\u001b[49m\u001b[43mread\u001b[49m\u001b[43m(\u001b[49m\u001b[43m)\u001b[49m\u001b[43m.\u001b[49m\u001b[43mload\u001b[49m\u001b[43m(\u001b[49m\u001b[43mpath\u001b[49m\u001b[43m)\u001b[49m\n",
      "\u001b[36mFile \u001b[39m\u001b[32m/usr/local/lib/python3.12/site-packages/pyspark/ml/util.py:318\u001b[39m, in \u001b[36mJavaMLReader.load\u001b[39m\u001b[34m(self, path)\u001b[39m\n\u001b[32m    316\u001b[39m \u001b[38;5;28;01mif\u001b[39;00m \u001b[38;5;129;01mnot\u001b[39;00m \u001b[38;5;28misinstance\u001b[39m(path, \u001b[38;5;28mstr\u001b[39m):\n\u001b[32m    317\u001b[39m     \u001b[38;5;28;01mraise\u001b[39;00m \u001b[38;5;167;01mTypeError\u001b[39;00m(\u001b[33m\"\u001b[39m\u001b[33mpath should be a string, got type \u001b[39m\u001b[38;5;132;01m%s\u001b[39;00m\u001b[33m\"\u001b[39m % \u001b[38;5;28mtype\u001b[39m(path))\n\u001b[32m--> \u001b[39m\u001b[32m318\u001b[39m java_obj = \u001b[38;5;28;43mself\u001b[39;49m\u001b[43m.\u001b[49m\u001b[43m_jread\u001b[49m\u001b[43m.\u001b[49m\u001b[43mload\u001b[49m\u001b[43m(\u001b[49m\u001b[43mpath\u001b[49m\u001b[43m)\u001b[49m\n\u001b[32m    319\u001b[39m \u001b[38;5;28;01mif\u001b[39;00m \u001b[38;5;129;01mnot\u001b[39;00m \u001b[38;5;28mhasattr\u001b[39m(\u001b[38;5;28mself\u001b[39m._clazz, \u001b[33m\"\u001b[39m\u001b[33m_from_java\u001b[39m\u001b[33m\"\u001b[39m):\n\u001b[32m    320\u001b[39m     \u001b[38;5;28;01mraise\u001b[39;00m \u001b[38;5;167;01mNotImplementedError\u001b[39;00m(\n\u001b[32m    321\u001b[39m         \u001b[33m\"\u001b[39m\u001b[33mThis Java ML type cannot be loaded into Python currently: \u001b[39m\u001b[38;5;132;01m%r\u001b[39;00m\u001b[33m\"\u001b[39m % \u001b[38;5;28mself\u001b[39m._clazz\n\u001b[32m    322\u001b[39m     )\n",
      "\u001b[36mFile \u001b[39m\u001b[32m/usr/local/lib/python3.12/site-packages/py4j/java_gateway.py:1322\u001b[39m, in \u001b[36mJavaMember.__call__\u001b[39m\u001b[34m(self, *args)\u001b[39m\n\u001b[32m   1316\u001b[39m command = proto.CALL_COMMAND_NAME +\\\n\u001b[32m   1317\u001b[39m     \u001b[38;5;28mself\u001b[39m.command_header +\\\n\u001b[32m   1318\u001b[39m     args_command +\\\n\u001b[32m   1319\u001b[39m     proto.END_COMMAND_PART\n\u001b[32m   1321\u001b[39m answer = \u001b[38;5;28mself\u001b[39m.gateway_client.send_command(command)\n\u001b[32m-> \u001b[39m\u001b[32m1322\u001b[39m return_value = \u001b[43mget_return_value\u001b[49m\u001b[43m(\u001b[49m\n\u001b[32m   1323\u001b[39m \u001b[43m    \u001b[49m\u001b[43manswer\u001b[49m\u001b[43m,\u001b[49m\u001b[43m \u001b[49m\u001b[38;5;28;43mself\u001b[39;49m\u001b[43m.\u001b[49m\u001b[43mgateway_client\u001b[49m\u001b[43m,\u001b[49m\u001b[43m \u001b[49m\u001b[38;5;28;43mself\u001b[39;49m\u001b[43m.\u001b[49m\u001b[43mtarget_id\u001b[49m\u001b[43m,\u001b[49m\u001b[43m \u001b[49m\u001b[38;5;28;43mself\u001b[39;49m\u001b[43m.\u001b[49m\u001b[43mname\u001b[49m\u001b[43m)\u001b[49m\n\u001b[32m   1325\u001b[39m \u001b[38;5;28;01mfor\u001b[39;00m temp_arg \u001b[38;5;129;01min\u001b[39;00m temp_args:\n\u001b[32m   1326\u001b[39m     \u001b[38;5;28;01mif\u001b[39;00m \u001b[38;5;28mhasattr\u001b[39m(temp_arg, \u001b[33m\"\u001b[39m\u001b[33m_detach\u001b[39m\u001b[33m\"\u001b[39m):\n",
      "\u001b[36mFile \u001b[39m\u001b[32m/usr/local/lib/python3.12/site-packages/pyspark/errors/exceptions/captured.py:185\u001b[39m, in \u001b[36mcapture_sql_exception.<locals>.deco\u001b[39m\u001b[34m(*a, **kw)\u001b[39m\n\u001b[32m    181\u001b[39m converted = convert_exception(e.java_exception)\n\u001b[32m    182\u001b[39m \u001b[38;5;28;01mif\u001b[39;00m \u001b[38;5;129;01mnot\u001b[39;00m \u001b[38;5;28misinstance\u001b[39m(converted, UnknownException):\n\u001b[32m    183\u001b[39m     \u001b[38;5;66;03m# Hide where the exception came from that shows a non-Pythonic\u001b[39;00m\n\u001b[32m    184\u001b[39m     \u001b[38;5;66;03m# JVM exception message.\u001b[39;00m\n\u001b[32m--> \u001b[39m\u001b[32m185\u001b[39m     \u001b[38;5;28;01mraise\u001b[39;00m converted \u001b[38;5;28;01mfrom\u001b[39;00m\u001b[38;5;250m \u001b[39m\u001b[38;5;28;01mNone\u001b[39;00m\n\u001b[32m    186\u001b[39m \u001b[38;5;28;01melse\u001b[39;00m:\n\u001b[32m    187\u001b[39m     \u001b[38;5;28;01mraise\u001b[39;00m\n",
      "\u001b[31mUnsupportedOperationException\u001b[39m: empty collection"
     ]
    }
   ],
   "source": [
    "from pyspark.ml.clustering import KMeansModel\n",
    "\n",
    "loaded_model = KMeansModel.load(\"/opt/bitnami/spark/work/labs/lab_5/kmeans_7\")\n"
   ]
  },
  {
   "cell_type": "code",
   "execution_count": 12,
   "id": "57d97463a6ebd31a",
   "metadata": {
    "ExecuteTime": {
     "end_time": "2025-04-22T14:25:10.452339Z",
     "start_time": "2025-04-22T14:25:04.610166Z"
    }
   },
   "outputs": [
    {
     "name": "stderr",
     "output_type": "stream",
     "text": [
      "25/04/22 14:25:04 WARN SparkSession: Using an existing Spark session; only runtime SQL configurations will take effect.\n",
      "                                                                                \r"
     ]
    },
    {
     "ename": "UnsupportedOperationException",
     "evalue": "empty collection",
     "output_type": "error",
     "traceback": [
      "\u001b[31m---------------------------------------------------------------------------\u001b[39m",
      "\u001b[31mUnsupportedOperationException\u001b[39m             Traceback (most recent call last)",
      "\u001b[36mCell\u001b[39m\u001b[36m \u001b[39m\u001b[32mIn[12]\u001b[39m\u001b[32m, line 33\u001b[39m\n\u001b[32m     31\u001b[39m \u001b[38;5;66;03m# Загрузка модели\u001b[39;00m\n\u001b[32m     32\u001b[39m \u001b[38;5;28;01mfrom\u001b[39;00m\u001b[38;5;250m \u001b[39m\u001b[34;01mpyspark\u001b[39;00m\u001b[34;01m.\u001b[39;00m\u001b[34;01mml\u001b[39;00m\u001b[34;01m.\u001b[39;00m\u001b[34;01mclustering\u001b[39;00m\u001b[38;5;250m \u001b[39m\u001b[38;5;28;01mimport\u001b[39;00m KMeansModel\n\u001b[32m---> \u001b[39m\u001b[32m33\u001b[39m loaded_model = \u001b[43mKMeansModel\u001b[49m\u001b[43m.\u001b[49m\u001b[43mload\u001b[49m\u001b[43m(\u001b[49m\u001b[33;43m\"\u001b[39;49m\u001b[33;43m/opt/bitnami/spark/work/labs/lab_5/kmeans_test\u001b[39;49m\u001b[33;43m\"\u001b[39;49m\u001b[43m)\u001b[49m\n\u001b[32m     35\u001b[39m \u001b[38;5;66;03m# Применение загруженной модели\u001b[39;00m\n\u001b[32m     36\u001b[39m predictions = loaded_model.transform(dataset)\n",
      "\u001b[36mFile \u001b[39m\u001b[32m/usr/local/lib/python3.12/site-packages/pyspark/ml/util.py:369\u001b[39m, in \u001b[36mMLReadable.load\u001b[39m\u001b[34m(cls, path)\u001b[39m\n\u001b[32m    366\u001b[39m \u001b[38;5;129m@classmethod\u001b[39m\n\u001b[32m    367\u001b[39m \u001b[38;5;28;01mdef\u001b[39;00m\u001b[38;5;250m \u001b[39m\u001b[34mload\u001b[39m(\u001b[38;5;28mcls\u001b[39m, path: \u001b[38;5;28mstr\u001b[39m) -> RL:\n\u001b[32m    368\u001b[39m \u001b[38;5;250m    \u001b[39m\u001b[33;03m\"\"\"Reads an ML instance from the input path, a shortcut of `read().load(path)`.\"\"\"\u001b[39;00m\n\u001b[32m--> \u001b[39m\u001b[32m369\u001b[39m     \u001b[38;5;28;01mreturn\u001b[39;00m \u001b[38;5;28;43mcls\u001b[39;49m\u001b[43m.\u001b[49m\u001b[43mread\u001b[49m\u001b[43m(\u001b[49m\u001b[43m)\u001b[49m\u001b[43m.\u001b[49m\u001b[43mload\u001b[49m\u001b[43m(\u001b[49m\u001b[43mpath\u001b[49m\u001b[43m)\u001b[49m\n",
      "\u001b[36mFile \u001b[39m\u001b[32m/usr/local/lib/python3.12/site-packages/pyspark/ml/util.py:318\u001b[39m, in \u001b[36mJavaMLReader.load\u001b[39m\u001b[34m(self, path)\u001b[39m\n\u001b[32m    316\u001b[39m \u001b[38;5;28;01mif\u001b[39;00m \u001b[38;5;129;01mnot\u001b[39;00m \u001b[38;5;28misinstance\u001b[39m(path, \u001b[38;5;28mstr\u001b[39m):\n\u001b[32m    317\u001b[39m     \u001b[38;5;28;01mraise\u001b[39;00m \u001b[38;5;167;01mTypeError\u001b[39;00m(\u001b[33m\"\u001b[39m\u001b[33mpath should be a string, got type \u001b[39m\u001b[38;5;132;01m%s\u001b[39;00m\u001b[33m\"\u001b[39m % \u001b[38;5;28mtype\u001b[39m(path))\n\u001b[32m--> \u001b[39m\u001b[32m318\u001b[39m java_obj = \u001b[38;5;28;43mself\u001b[39;49m\u001b[43m.\u001b[49m\u001b[43m_jread\u001b[49m\u001b[43m.\u001b[49m\u001b[43mload\u001b[49m\u001b[43m(\u001b[49m\u001b[43mpath\u001b[49m\u001b[43m)\u001b[49m\n\u001b[32m    319\u001b[39m \u001b[38;5;28;01mif\u001b[39;00m \u001b[38;5;129;01mnot\u001b[39;00m \u001b[38;5;28mhasattr\u001b[39m(\u001b[38;5;28mself\u001b[39m._clazz, \u001b[33m\"\u001b[39m\u001b[33m_from_java\u001b[39m\u001b[33m\"\u001b[39m):\n\u001b[32m    320\u001b[39m     \u001b[38;5;28;01mraise\u001b[39;00m \u001b[38;5;167;01mNotImplementedError\u001b[39;00m(\n\u001b[32m    321\u001b[39m         \u001b[33m\"\u001b[39m\u001b[33mThis Java ML type cannot be loaded into Python currently: \u001b[39m\u001b[38;5;132;01m%r\u001b[39;00m\u001b[33m\"\u001b[39m % \u001b[38;5;28mself\u001b[39m._clazz\n\u001b[32m    322\u001b[39m     )\n",
      "\u001b[36mFile \u001b[39m\u001b[32m/usr/local/lib/python3.12/site-packages/py4j/java_gateway.py:1322\u001b[39m, in \u001b[36mJavaMember.__call__\u001b[39m\u001b[34m(self, *args)\u001b[39m\n\u001b[32m   1316\u001b[39m command = proto.CALL_COMMAND_NAME +\\\n\u001b[32m   1317\u001b[39m     \u001b[38;5;28mself\u001b[39m.command_header +\\\n\u001b[32m   1318\u001b[39m     args_command +\\\n\u001b[32m   1319\u001b[39m     proto.END_COMMAND_PART\n\u001b[32m   1321\u001b[39m answer = \u001b[38;5;28mself\u001b[39m.gateway_client.send_command(command)\n\u001b[32m-> \u001b[39m\u001b[32m1322\u001b[39m return_value = \u001b[43mget_return_value\u001b[49m\u001b[43m(\u001b[49m\n\u001b[32m   1323\u001b[39m \u001b[43m    \u001b[49m\u001b[43manswer\u001b[49m\u001b[43m,\u001b[49m\u001b[43m \u001b[49m\u001b[38;5;28;43mself\u001b[39;49m\u001b[43m.\u001b[49m\u001b[43mgateway_client\u001b[49m\u001b[43m,\u001b[49m\u001b[43m \u001b[49m\u001b[38;5;28;43mself\u001b[39;49m\u001b[43m.\u001b[49m\u001b[43mtarget_id\u001b[49m\u001b[43m,\u001b[49m\u001b[43m \u001b[49m\u001b[38;5;28;43mself\u001b[39;49m\u001b[43m.\u001b[49m\u001b[43mname\u001b[49m\u001b[43m)\u001b[49m\n\u001b[32m   1325\u001b[39m \u001b[38;5;28;01mfor\u001b[39;00m temp_arg \u001b[38;5;129;01min\u001b[39;00m temp_args:\n\u001b[32m   1326\u001b[39m     \u001b[38;5;28;01mif\u001b[39;00m \u001b[38;5;28mhasattr\u001b[39m(temp_arg, \u001b[33m\"\u001b[39m\u001b[33m_detach\u001b[39m\u001b[33m\"\u001b[39m):\n",
      "\u001b[36mFile \u001b[39m\u001b[32m/usr/local/lib/python3.12/site-packages/pyspark/errors/exceptions/captured.py:185\u001b[39m, in \u001b[36mcapture_sql_exception.<locals>.deco\u001b[39m\u001b[34m(*a, **kw)\u001b[39m\n\u001b[32m    181\u001b[39m converted = convert_exception(e.java_exception)\n\u001b[32m    182\u001b[39m \u001b[38;5;28;01mif\u001b[39;00m \u001b[38;5;129;01mnot\u001b[39;00m \u001b[38;5;28misinstance\u001b[39m(converted, UnknownException):\n\u001b[32m    183\u001b[39m     \u001b[38;5;66;03m# Hide where the exception came from that shows a non-Pythonic\u001b[39;00m\n\u001b[32m    184\u001b[39m     \u001b[38;5;66;03m# JVM exception message.\u001b[39;00m\n\u001b[32m--> \u001b[39m\u001b[32m185\u001b[39m     \u001b[38;5;28;01mraise\u001b[39;00m converted \u001b[38;5;28;01mfrom\u001b[39;00m\u001b[38;5;250m \u001b[39m\u001b[38;5;28;01mNone\u001b[39;00m\n\u001b[32m    186\u001b[39m \u001b[38;5;28;01melse\u001b[39;00m:\n\u001b[32m    187\u001b[39m     \u001b[38;5;28;01mraise\u001b[39;00m\n",
      "\u001b[31mUnsupportedOperationException\u001b[39m: empty collection"
     ]
    }
   ],
   "source": [
    "from pyspark.ml.clustering import KMeans\n",
    "from pyspark.ml.feature import VectorAssembler\n",
    "from pyspark.sql import SparkSession\n",
    "\n",
    "# Инициализация SparkSession\n",
    "spark = SparkSession.builder \\\n",
    "    .appName(\"KMeansExample\") \\\n",
    "    .getOrCreate()\n",
    "\n",
    "# Пример данных\n",
    "data = [\n",
    "    (0.0, 0.0),\n",
    "    (1.0, 1.0),\n",
    "    (9.0, 8.0),\n",
    "    (8.0, 9.0)\n",
    "]\n",
    "columns = [\"x\", \"y\"]\n",
    "df = spark.createDataFrame(data, columns)\n",
    "\n",
    "# Преобразование признаков в вектор\n",
    "assembler = VectorAssembler(inputCols=[\"x\", \"y\"], outputCol=\"features\")\n",
    "dataset = assembler.transform(df)\n",
    "\n",
    "# Обучение модели KMeans\n",
    "kmeans = KMeans().setK(2).setSeed(1)\n",
    "model = kmeans.fit(dataset)\n",
    "\n",
    "# Сохранение модели\n",
    "model.save(\"/opt/bitnami/spark/work/labs/lab_5/kmeans_test\")\n",
    "\n",
    "# Загрузка модели\n",
    "from pyspark.ml.clustering import KMeansModel\n",
    "loaded_model = KMeansModel.load(\"/opt/bitnami/spark/work/labs/lab_5/kmeans_test\")\n",
    "\n",
    "# Применение загруженной модели\n",
    "predictions = loaded_model.transform(dataset)\n",
    "predictions.show()\n"
   ]
  },
  {
   "cell_type": "code",
   "execution_count": null,
   "id": "103b04c96e6198ed",
   "metadata": {},
   "outputs": [],
   "source": []
  }
 ],
 "metadata": {
  "kernelspec": {
   "display_name": "Python 3 (ipykernel)",
   "language": "python",
   "name": "python3"
  },
  "language_info": {
   "codemirror_mode": {
    "name": "ipython",
    "version": 3
   },
   "file_extension": ".py",
   "mimetype": "text/x-python",
   "name": "python",
   "nbconvert_exporter": "python",
   "pygments_lexer": "ipython3",
   "version": "3.12.10"
  }
 },
 "nbformat": 4,
 "nbformat_minor": 5
}
