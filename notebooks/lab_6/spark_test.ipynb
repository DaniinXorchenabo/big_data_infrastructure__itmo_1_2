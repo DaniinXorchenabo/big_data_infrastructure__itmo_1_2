{
 "cells": [
  {
   "cell_type": "code",
   "id": "initial_id",
   "metadata": {
    "collapsed": true,
    "ExecuteTime": {
     "end_time": "2025-04-15T17:32:16.711600Z",
     "start_time": "2025-04-15T17:32:16.688803Z"
    }
   },
   "source": [
    "# %load_ext autoreload\n",
    "# %autoreload 2\n",
    "# %reload_ext autoreload\n",
    "\n",
    "import os\n",
    "ROOT_DIR = '/workspace/NN'\n",
    "os.chdir(ROOT_DIR)\n",
    "\n",
    "import shutil\n",
    "import kagglehub\n",
    "import torch\n",
    "from pyspark.sql import SparkSession\n",
    "\n",
    "dataset_path = os.path.join(ROOT_DIR, 'neural', 'datasets', 'spark', 'test_1')\n",
    "os.makedirs(dataset_path, exist_ok=True)\n",
    "device = torch.device('cuda' if torch.cuda.is_available() else 'cpu')\n",
    "\n",
    "import socket\n",
    "\n",
    "driver_host = socket.gethostbyname(socket.gethostname())\n",
    "print(driver_host)\n",
    "driver_host = socket.gethostbyname(\"spark-master\")\n",
    "print(driver_host)\n",
    "driver_host = \"producer\"\n",
    "os.environ[\"PYSPARK_SUBMIT_ARGS\"] = f\"\"\"\n",
    "--master spark://spark-master:7077\n",
    "--conf spark.driver.host={driver_host}\n",
    "--conf spark.driver.port=45555\n",
    "--conf spark.executor.memory=1G\n",
    "--conf spark.executor.cores=1\n",
    "pyspark-shell\n",
    "\"\"\"\n",
    "os.environ[\"JAVA_HOME\"] = \"/usr/lib/jvm/java-11-openjdk-amd64\"\n",
    "# os.environ['PYSPARK_PYTHON'] = '/usr/bin/python3'  # путь к Python в контейнере\n",
    "# os.environ['SPARK_HOME'] = '/opt/spark'            # путь к Spark, укажи реальный\n",
    "# os.environ['PYSPARK_DRIVER_PYTHON'] = 'jupyter'\n",
    "import socket\n",
    "socket.gethostbyname(\"spark-master\")"
   ],
   "outputs": [
    {
     "name": "stdout",
     "output_type": "stream",
     "text": [
      "172.20.0.2\n",
      "192.168.32.2\n"
     ]
    },
    {
     "data": {
      "text/plain": [
       "'192.168.32.2'"
      ]
     },
     "execution_count": 5,
     "metadata": {},
     "output_type": "execute_result"
    }
   ],
   "execution_count": 5
  },
  {
   "metadata": {
    "ExecuteTime": {
     "end_time": "2025-04-15T17:32:17.763324Z",
     "start_time": "2025-04-15T17:32:17.743974Z"
    }
   },
   "cell_type": "code",
   "source": [
    "def spark_app_generator(name):\n",
    "    spark = SparkSession.builder \\\n",
    "        .master(\"spark://spark-master:7077\") \\\n",
    "        .appName(name) \\\n",
    "         .config(\"spark.driver.bindAddress\", \"0.0.0.0\") \\\n",
    "        .config(\"spark.executor.memory\", \"1g\") \\\n",
    "        .config(\"spark.driver.memory\", \"1g\") \\\n",
    "        .getOrCreate()\n",
    "    return spark\n",
    "spark = spark_app_generator(\"test_counting\")"
   ],
   "id": "2016eeb417939bf9",
   "outputs": [
    {
     "data": {
      "text/plain": [
       "<pyspark.sql.session.SparkSession at 0x7f52ebb4b3b0>"
      ],
      "text/html": [
       "\n",
       "            <div>\n",
       "                <p><b>SparkSession - in-memory</b></p>\n",
       "                \n",
       "        <div>\n",
       "            <p><b>SparkContext</b></p>\n",
       "\n",
       "            <p><a href=\"http://producer:4040\">Spark UI</a></p>\n",
       "\n",
       "            <dl>\n",
       "              <dt>Version</dt>\n",
       "                <dd><code>v3.5.5</code></dd>\n",
       "              <dt>Master</dt>\n",
       "                <dd><code>spark://spark-master:7077</code></dd>\n",
       "              <dt>AppName</dt>\n",
       "                <dd><code>JupyterToSpark_2</code></dd>\n",
       "            </dl>\n",
       "        </div>\n",
       "        \n",
       "            </div>\n",
       "        "
      ]
     },
     "execution_count": 6,
     "metadata": {},
     "output_type": "execute_result"
    }
   ],
   "execution_count": 6
  },
  {
   "metadata": {
    "ExecuteTime": {
     "end_time": "2025-04-15T17:32:19.820148Z",
     "start_time": "2025-04-15T17:32:19.153591Z"
    }
   },
   "cell_type": "code",
   "source": [
    "df = spark.range(100).toDF(\"number\")\n",
    "df.show()"
   ],
   "id": "f66957ab6de6bf59",
   "outputs": [
    {
     "name": "stdout",
     "output_type": "stream",
     "text": [
      "+------+\n",
      "|number|\n",
      "+------+\n",
      "|     0|\n",
      "|     1|\n",
      "|     2|\n",
      "|     3|\n",
      "|     4|\n",
      "|     5|\n",
      "|     6|\n",
      "|     7|\n",
      "|     8|\n",
      "|     9|\n",
      "|    10|\n",
      "|    11|\n",
      "|    12|\n",
      "|    13|\n",
      "|    14|\n",
      "|    15|\n",
      "|    16|\n",
      "|    17|\n",
      "|    18|\n",
      "|    19|\n",
      "+------+\n",
      "only showing top 20 rows\n",
      "\n"
     ]
    },
    {
     "name": "stderr",
     "output_type": "stream",
     "text": [
      "                                                                                \r"
     ]
    }
   ],
   "execution_count": 8
  },
  {
   "metadata": {
    "ExecuteTime": {
     "end_time": "2025-04-15T16:48:54.403726Z",
     "start_time": "2025-04-15T16:48:52.795044Z"
    }
   },
   "cell_type": "code",
   "source": [
    "spark = spark_app_generator(\"test_square\")\n",
    "\n",
    "# Запускаем простую задачу\n",
    "rdd = spark.sparkContext.parallelize([1, 2, 3, 4])\n",
    "\n",
    "print(rdd.map(lambda x: x * x).collect())"
   ],
   "id": "4176b90bd114c721",
   "outputs": [
    {
     "name": "stderr",
     "output_type": "stream",
     "text": [
      "[Stage 1:>                                                          (0 + 4) / 4]\r"
     ]
    },
    {
     "name": "stdout",
     "output_type": "stream",
     "text": [
      "[1, 4, 9, 16]\n"
     ]
    },
    {
     "name": "stderr",
     "output_type": "stream",
     "text": [
      "                                                                                \r"
     ]
    }
   ],
   "execution_count": 5
  },
  {
   "metadata": {
    "ExecuteTime": {
     "end_time": "2025-04-15T16:49:06.751138Z",
     "start_time": "2025-04-15T16:49:05.690946Z"
    }
   },
   "cell_type": "code",
   "outputs": [
    {
     "name": "stderr",
     "output_type": "stream",
     "text": [
      "25/04/15 16:49:05 WARN SparkSession: Using an existing Spark session; only runtime SQL configurations will take effect.\n"
     ]
    },
    {
     "data": {
      "text/plain": [
       "[('hello', 6),\n",
       " ('world', 2),\n",
       " ('spark3', 1),\n",
       " ('docker5', 1),\n",
       " ('spark', 1),\n",
       " ('docker', 1)]"
      ]
     },
     "execution_count": 6,
     "metadata": {},
     "output_type": "execute_result"
    }
   ],
   "execution_count": 6,
   "source": [
    "from pyspark.sql import SparkSession\n",
    "\n",
    "spark = spark_app_generator(\"test_WordCountTest\")\n",
    "rdd = spark.sparkContext.textFile(\"file:////\" + os.path.abspath(os.path.join(dataset_path, 'test.txt')))\n",
    "\n",
    "counts = rdd.flatMap(lambda line: line.split(\" \")) \\\n",
    "            .map(lambda word: (word, 1)) \\\n",
    "            .reduceByKey(lambda a, b: a + b)\n",
    "result = counts.collect()\n",
    "result\n"
   ],
   "id": "edaff805fa02ec80"
  },
  {
   "metadata": {},
   "cell_type": "markdown",
   "source": "## MONGO",
   "id": "1e2d3ccaabe26a21"
  },
  {
   "metadata": {
    "ExecuteTime": {
     "end_time": "2025-04-15T20:20:55.555646Z",
     "start_time": "2025-04-15T20:20:46.999139Z"
    }
   },
   "cell_type": "code",
   "source": "!pip install pymongo pymongo-schema",
   "id": "4c0ef90a19915c36",
   "outputs": [
    {
     "name": "stdout",
     "output_type": "stream",
     "text": [
      "Collecting pymongo\r\n",
      "  Downloading pymongo-4.12.0-cp312-cp312-manylinux_2_17_x86_64.manylinux2014_x86_64.whl.metadata (22 kB)\r\n",
      "Collecting pymongo-schema\r\n",
      "  Downloading pymongo_schema-0.4.1-py3-none-any.whl.metadata (16 kB)\r\n",
      "Collecting dnspython<3.0.0,>=1.16.0 (from pymongo)\r\n",
      "  Downloading dnspython-2.7.0-py3-none-any.whl.metadata (5.8 kB)\r\n",
      "Requirement already satisfied: pyyaml in /usr/local/lib/python3.12/site-packages (from pymongo-schema) (6.0.2)\r\n",
      "Collecting docopt (from pymongo-schema)\r\n",
      "  Downloading docopt-0.6.2.tar.gz (25 kB)\r\n",
      "  Preparing metadata (setup.py) ... \u001B[?25ldone\r\n",
      "\u001B[?25hCollecting ete3 (from pymongo-schema)\r\n",
      "  Downloading ete3-3.1.3.tar.gz (4.8 MB)\r\n",
      "\u001B[2K     \u001B[90m━━━━━━━━━━━━━━━━━━━━━━━━━━━━━━━━━━━━━━━━\u001B[0m \u001B[32m4.8/4.8 MB\u001B[0m \u001B[31m17.4 MB/s\u001B[0m eta \u001B[36m0:00:00\u001B[0m \u001B[36m0:00:01\u001B[0m\r\n",
      "\u001B[?25h  Preparing metadata (setup.py) ... \u001B[?25ldone\r\n",
      "\u001B[?25hRequirement already satisfied: pandas in /usr/local/lib/python3.12/site-packages (from pymongo-schema) (2.2.3)\r\n",
      "Collecting xlwt (from pymongo-schema)\r\n",
      "  Downloading xlwt-1.3.0-py2.py3-none-any.whl.metadata (3.5 kB)\r\n",
      "Collecting xlsxwriter (from pymongo-schema)\r\n",
      "  Downloading XlsxWriter-3.2.2-py3-none-any.whl.metadata (2.8 kB)\r\n",
      "Collecting openpyxl (from pymongo-schema)\r\n",
      "  Downloading openpyxl-3.1.5-py2.py3-none-any.whl.metadata (2.5 kB)\r\n",
      "Requirement already satisfied: jinja2 in /usr/local/lib/python3.12/site-packages (from pymongo-schema) (3.1.6)\r\n",
      "Collecting future>=0.18.0 (from pymongo-schema)\r\n",
      "  Downloading future-1.0.0-py3-none-any.whl.metadata (4.0 kB)\r\n",
      "Requirement already satisfied: scipy in /usr/local/lib/python3.12/site-packages (from pymongo-schema) (1.15.2)\r\n",
      "Requirement already satisfied: MarkupSafe>=2.0 in /usr/local/lib/python3.12/site-packages (from jinja2->pymongo-schema) (3.0.2)\r\n",
      "Collecting et-xmlfile (from openpyxl->pymongo-schema)\r\n",
      "  Downloading et_xmlfile-2.0.0-py3-none-any.whl.metadata (2.7 kB)\r\n",
      "Requirement already satisfied: numpy>=1.26.0 in /usr/local/lib/python3.12/site-packages (from pandas->pymongo-schema) (1.26.4)\r\n",
      "Requirement already satisfied: python-dateutil>=2.8.2 in /usr/local/lib/python3.12/site-packages (from pandas->pymongo-schema) (2.9.0.post0)\r\n",
      "Requirement already satisfied: pytz>=2020.1 in /usr/local/lib/python3.12/site-packages (from pandas->pymongo-schema) (2025.2)\r\n",
      "Requirement already satisfied: tzdata>=2022.7 in /usr/local/lib/python3.12/site-packages (from pandas->pymongo-schema) (2025.2)\r\n",
      "Requirement already satisfied: six>=1.5 in /usr/local/lib/python3.12/site-packages (from python-dateutil>=2.8.2->pandas->pymongo-schema) (1.17.0)\r\n",
      "Downloading pymongo-4.12.0-cp312-cp312-manylinux_2_17_x86_64.manylinux2014_x86_64.whl (1.7 MB)\r\n",
      "\u001B[2K   \u001B[90m━━━━━━━━━━━━━━━━━━━━━━━━━━━━━━━━━━━━━━━━\u001B[0m \u001B[32m1.7/1.7 MB\u001B[0m \u001B[31m13.7 MB/s\u001B[0m eta \u001B[36m0:00:00\u001B[0m\r\n",
      "\u001B[?25hDownloading pymongo_schema-0.4.1-py3-none-any.whl (29 kB)\r\n",
      "Downloading dnspython-2.7.0-py3-none-any.whl (313 kB)\r\n",
      "Downloading future-1.0.0-py3-none-any.whl (491 kB)\r\n",
      "Downloading openpyxl-3.1.5-py2.py3-none-any.whl (250 kB)\r\n",
      "Downloading XlsxWriter-3.2.2-py3-none-any.whl (165 kB)\r\n",
      "Downloading xlwt-1.3.0-py2.py3-none-any.whl (99 kB)\r\n",
      "Downloading et_xmlfile-2.0.0-py3-none-any.whl (18 kB)\r\n",
      "Building wheels for collected packages: docopt, ete3\r\n",
      "  Building wheel for docopt (setup.py) ... \u001B[?25ldone\r\n",
      "\u001B[?25h  Created wheel for docopt: filename=docopt-0.6.2-py2.py3-none-any.whl size=13781 sha256=229c80c0e74252cd4e75a56ca36f4c000b25f8560f8a83adfa2e6b7c63ab71e1\r\n",
      "  Stored in directory: /root/.cache/pip/wheels/1a/bf/a1/4cee4f7678c68c5875ca89eaccf460593539805c3906722228\r\n",
      "  Building wheel for ete3 (setup.py) ... \u001B[?25ldone\r\n",
      "\u001B[?25h  Created wheel for ete3: filename=ete3-3.1.3-py3-none-any.whl size=2273900 sha256=72f6188a9f1f3c197defeda80795d1484d5e74db7d015084df3c82c7aa9b630d\r\n",
      "  Stored in directory: /root/.cache/pip/wheels/4f/18/8d/3800b8b1dc7a8c1954eaa48424f639b2cfc760922cc3cee479\r\n",
      "Successfully built docopt ete3\r\n",
      "Installing collected packages: xlwt, ete3, docopt, xlsxwriter, future, et-xmlfile, dnspython, pymongo, openpyxl, pymongo-schema\r\n",
      "Successfully installed dnspython-2.7.0 docopt-0.6.2 et-xmlfile-2.0.0 ete3-3.1.3 future-1.0.0 openpyxl-3.1.5 pymongo-4.12.0 pymongo-schema-0.4.1 xlsxwriter-3.2.2 xlwt-1.3.0\r\n",
      "\u001B[33mWARNING: Running pip as the 'root' user can result in broken permissions and conflicting behaviour with the system package manager, possibly rendering your system unusable. It is recommended to use a virtual environment instead: https://pip.pypa.io/warnings/venv. Use the --root-user-action option if you know what you are doing and want to suppress this warning.\u001B[0m\u001B[33m\r\n",
      "\u001B[0m"
     ]
    }
   ],
   "execution_count": 1
  },
  {
   "metadata": {
    "ExecuteTime": {
     "end_time": "2025-04-15T20:37:33.414475Z",
     "start_time": "2025-04-15T20:37:32.784126Z"
    }
   },
   "cell_type": "code",
   "source": [
    "import pymongo\n",
    "\n",
    "MONGO_USER = os.environ[\"MONGO_USER\"]\n",
    "MONGO_PASS = os.environ[\"MONGO_PASSWORD\"]\n",
    "MONGO_ADDR = f\"{MONGO_USER}:{MONGO_PASS}@mongodb:27017\"  # :27017\n",
    "\n",
    "maxSevSelDelay = 1 # Assume 1ms maximum server selection\n",
    "client = pymongo.MongoClient(f\"mongodb://{MONGO_ADDR}\",\n",
    "                                 serverSelectionTimeoutMS=maxSevSelDelay)\n",
    "\n",
    "print(client.server_info())\n",
    "print(client.list_database_names())\n",
    "print(client.off.list_collection_names())"
   ],
   "id": "be4d6dafe9a25ebc",
   "outputs": [
    {
     "ename": "ServerSelectionTimeoutError",
     "evalue": "No servers found yet, Timeout: 0.001s, Topology Description: <TopologyDescription id: 67fec38c9e55c6e4c2615c7f, topology_type: Unknown, servers: [<ServerDescription ('xorze.keenetic.pro', 36026) server_type: Unknown, rtt: None>]>",
     "output_type": "error",
     "traceback": [
      "\u001B[31m---------------------------------------------------------------------------\u001B[39m",
      "\u001B[31mServerSelectionTimeoutError\u001B[39m               Traceback (most recent call last)",
      "\u001B[36mCell\u001B[39m\u001B[36m \u001B[39m\u001B[32mIn[7]\u001B[39m\u001B[32m, line 12\u001B[39m\n\u001B[32m      8\u001B[39m maxSevSelDelay = \u001B[32m1\u001B[39m \u001B[38;5;66;03m# Assume 1ms maximum server selection\u001B[39;00m\n\u001B[32m      9\u001B[39m client = pymongo.MongoClient(\u001B[33mf\u001B[39m\u001B[33m\"\u001B[39m\u001B[33mmongodb://\u001B[39m\u001B[38;5;132;01m{\u001B[39;00mMONGO_ADDR\u001B[38;5;132;01m}\u001B[39;00m\u001B[33m\"\u001B[39m,\n\u001B[32m     10\u001B[39m                                  serverSelectionTimeoutMS=maxSevSelDelay)\n\u001B[32m---> \u001B[39m\u001B[32m12\u001B[39m \u001B[38;5;28mprint\u001B[39m(\u001B[43mclient\u001B[49m\u001B[43m.\u001B[49m\u001B[43mserver_info\u001B[49m\u001B[43m(\u001B[49m\u001B[43m)\u001B[49m)\n\u001B[32m     13\u001B[39m \u001B[38;5;28mprint\u001B[39m(client.list_database_names())\n\u001B[32m     14\u001B[39m \u001B[38;5;28mprint\u001B[39m(client.off.list_collection_names())\n",
      "\u001B[36mFile \u001B[39m\u001B[32m/usr/local/lib/python3.12/site-packages/pymongo/synchronous/mongo_client.py:2269\u001B[39m, in \u001B[36mMongoClient.server_info\u001B[39m\u001B[34m(self, session)\u001B[39m\n\u001B[32m   2258\u001B[39m \u001B[38;5;28;01mdef\u001B[39;00m\u001B[38;5;250m \u001B[39m\u001B[34mserver_info\u001B[39m(\u001B[38;5;28mself\u001B[39m, session: Optional[client_session.ClientSession] = \u001B[38;5;28;01mNone\u001B[39;00m) -> \u001B[38;5;28mdict\u001B[39m[\u001B[38;5;28mstr\u001B[39m, Any]:\n\u001B[32m   2259\u001B[39m \u001B[38;5;250m    \u001B[39m\u001B[33;03m\"\"\"Get information about the MongoDB server we're connected to.\u001B[39;00m\n\u001B[32m   2260\u001B[39m \n\u001B[32m   2261\u001B[39m \u001B[33;03m    :param session: a\u001B[39;00m\n\u001B[32m   (...)\u001B[39m\u001B[32m   2265\u001B[39m \u001B[33;03m       Added ``session`` parameter.\u001B[39;00m\n\u001B[32m   2266\u001B[39m \u001B[33;03m    \"\"\"\u001B[39;00m\n\u001B[32m   2267\u001B[39m     \u001B[38;5;28;01mreturn\u001B[39;00m cast(\n\u001B[32m   2268\u001B[39m         \u001B[38;5;28mdict\u001B[39m,\n\u001B[32m-> \u001B[39m\u001B[32m2269\u001B[39m         \u001B[38;5;28;43mself\u001B[39;49m\u001B[43m.\u001B[49m\u001B[43madmin\u001B[49m\u001B[43m.\u001B[49m\u001B[43mcommand\u001B[49m\u001B[43m(\u001B[49m\n\u001B[32m   2270\u001B[39m \u001B[43m            \u001B[49m\u001B[33;43m\"\u001B[39;49m\u001B[33;43mbuildinfo\u001B[39;49m\u001B[33;43m\"\u001B[39;49m\u001B[43m,\u001B[49m\u001B[43m \u001B[49m\u001B[43mread_preference\u001B[49m\u001B[43m=\u001B[49m\u001B[43mReadPreference\u001B[49m\u001B[43m.\u001B[49m\u001B[43mPRIMARY\u001B[49m\u001B[43m,\u001B[49m\u001B[43m \u001B[49m\u001B[43msession\u001B[49m\u001B[43m=\u001B[49m\u001B[43msession\u001B[49m\n\u001B[32m   2271\u001B[39m \u001B[43m        \u001B[49m\u001B[43m)\u001B[49m,\n\u001B[32m   2272\u001B[39m     )\n",
      "\u001B[36mFile \u001B[39m\u001B[32m/usr/local/lib/python3.12/site-packages/pymongo/_csot.py:119\u001B[39m, in \u001B[36mapply.<locals>.csot_wrapper\u001B[39m\u001B[34m(self, *args, **kwargs)\u001B[39m\n\u001B[32m    117\u001B[39m         \u001B[38;5;28;01mwith\u001B[39;00m _TimeoutContext(timeout):\n\u001B[32m    118\u001B[39m             \u001B[38;5;28;01mreturn\u001B[39;00m func(\u001B[38;5;28mself\u001B[39m, *args, **kwargs)\n\u001B[32m--> \u001B[39m\u001B[32m119\u001B[39m \u001B[38;5;28;01mreturn\u001B[39;00m \u001B[43mfunc\u001B[49m\u001B[43m(\u001B[49m\u001B[38;5;28;43mself\u001B[39;49m\u001B[43m,\u001B[49m\u001B[43m \u001B[49m\u001B[43m*\u001B[49m\u001B[43margs\u001B[49m\u001B[43m,\u001B[49m\u001B[43m \u001B[49m\u001B[43m*\u001B[49m\u001B[43m*\u001B[49m\u001B[43mkwargs\u001B[49m\u001B[43m)\u001B[49m\n",
      "\u001B[36mFile \u001B[39m\u001B[32m/usr/local/lib/python3.12/site-packages/pymongo/synchronous/database.py:926\u001B[39m, in \u001B[36mDatabase.command\u001B[39m\u001B[34m(self, command, value, check, allowable_errors, read_preference, codec_options, session, comment, **kwargs)\u001B[39m\n\u001B[32m    924\u001B[39m \u001B[38;5;28;01mif\u001B[39;00m read_preference \u001B[38;5;129;01mis\u001B[39;00m \u001B[38;5;28;01mNone\u001B[39;00m:\n\u001B[32m    925\u001B[39m     read_preference = (session \u001B[38;5;129;01mand\u001B[39;00m session._txn_read_preference()) \u001B[38;5;129;01mor\u001B[39;00m ReadPreference.PRIMARY\n\u001B[32m--> \u001B[39m\u001B[32m926\u001B[39m \u001B[38;5;28;01mwith\u001B[39;00m \u001B[38;5;28;43mself\u001B[39;49m\u001B[43m.\u001B[49m\u001B[43m_client\u001B[49m\u001B[43m.\u001B[49m\u001B[43m_conn_for_reads\u001B[49m\u001B[43m(\u001B[49m\u001B[43mread_preference\u001B[49m\u001B[43m,\u001B[49m\u001B[43m \u001B[49m\u001B[43msession\u001B[49m\u001B[43m,\u001B[49m\u001B[43m \u001B[49m\u001B[43moperation\u001B[49m\u001B[43m=\u001B[49m\u001B[43mcommand_name\u001B[49m\u001B[43m)\u001B[49m \u001B[38;5;28;01mas\u001B[39;00m (\n\u001B[32m    927\u001B[39m     connection,\n\u001B[32m    928\u001B[39m     read_preference,\n\u001B[32m    929\u001B[39m ):\n\u001B[32m    930\u001B[39m     \u001B[38;5;28;01mreturn\u001B[39;00m \u001B[38;5;28mself\u001B[39m._command(\n\u001B[32m    931\u001B[39m         connection,\n\u001B[32m    932\u001B[39m         command,\n\u001B[32m   (...)\u001B[39m\u001B[32m    939\u001B[39m         **kwargs,\n\u001B[32m    940\u001B[39m     )\n",
      "\u001B[36mFile \u001B[39m\u001B[32m/usr/local/lib/python3.12/site-packages/pymongo/synchronous/mongo_client.py:1843\u001B[39m, in \u001B[36mMongoClient._conn_for_reads\u001B[39m\u001B[34m(self, read_preference, session, operation)\u001B[39m\n\u001B[32m   1836\u001B[39m \u001B[38;5;28;01mdef\u001B[39;00m\u001B[38;5;250m \u001B[39m\u001B[34m_conn_for_reads\u001B[39m(\n\u001B[32m   1837\u001B[39m     \u001B[38;5;28mself\u001B[39m,\n\u001B[32m   1838\u001B[39m     read_preference: _ServerMode,\n\u001B[32m   1839\u001B[39m     session: Optional[ClientSession],\n\u001B[32m   1840\u001B[39m     operation: \u001B[38;5;28mstr\u001B[39m,\n\u001B[32m   1841\u001B[39m ) -> ContextManager[\u001B[38;5;28mtuple\u001B[39m[Connection, _ServerMode]]:\n\u001B[32m   1842\u001B[39m     \u001B[38;5;28;01massert\u001B[39;00m read_preference \u001B[38;5;129;01mis\u001B[39;00m \u001B[38;5;129;01mnot\u001B[39;00m \u001B[38;5;28;01mNone\u001B[39;00m, \u001B[33m\"\u001B[39m\u001B[33mread_preference must not be None\u001B[39m\u001B[33m\"\u001B[39m\n\u001B[32m-> \u001B[39m\u001B[32m1843\u001B[39m     server = \u001B[38;5;28;43mself\u001B[39;49m\u001B[43m.\u001B[49m\u001B[43m_select_server\u001B[49m\u001B[43m(\u001B[49m\u001B[43mread_preference\u001B[49m\u001B[43m,\u001B[49m\u001B[43m \u001B[49m\u001B[43msession\u001B[49m\u001B[43m,\u001B[49m\u001B[43m \u001B[49m\u001B[43moperation\u001B[49m\u001B[43m)\u001B[49m\n\u001B[32m   1844\u001B[39m     \u001B[38;5;28;01mreturn\u001B[39;00m \u001B[38;5;28mself\u001B[39m._conn_from_server(read_preference, server, session)\n",
      "\u001B[36mFile \u001B[39m\u001B[32m/usr/local/lib/python3.12/site-packages/pymongo/synchronous/mongo_client.py:1791\u001B[39m, in \u001B[36mMongoClient._select_server\u001B[39m\u001B[34m(self, server_selector, session, operation, address, deprioritized_servers, operation_id)\u001B[39m\n\u001B[32m   1789\u001B[39m             \u001B[38;5;28;01mraise\u001B[39;00m AutoReconnect(\u001B[33m\"\u001B[39m\u001B[33mserver \u001B[39m\u001B[38;5;132;01m%s\u001B[39;00m\u001B[33m:\u001B[39m\u001B[38;5;132;01m%s\u001B[39;00m\u001B[33m no longer available\u001B[39m\u001B[33m\"\u001B[39m % address)  \u001B[38;5;66;03m# noqa: UP031\u001B[39;00m\n\u001B[32m   1790\u001B[39m     \u001B[38;5;28;01melse\u001B[39;00m:\n\u001B[32m-> \u001B[39m\u001B[32m1791\u001B[39m         server = \u001B[43mtopology\u001B[49m\u001B[43m.\u001B[49m\u001B[43mselect_server\u001B[49m\u001B[43m(\u001B[49m\n\u001B[32m   1792\u001B[39m \u001B[43m            \u001B[49m\u001B[43mserver_selector\u001B[49m\u001B[43m,\u001B[49m\n\u001B[32m   1793\u001B[39m \u001B[43m            \u001B[49m\u001B[43moperation\u001B[49m\u001B[43m,\u001B[49m\n\u001B[32m   1794\u001B[39m \u001B[43m            \u001B[49m\u001B[43mdeprioritized_servers\u001B[49m\u001B[43m=\u001B[49m\u001B[43mdeprioritized_servers\u001B[49m\u001B[43m,\u001B[49m\n\u001B[32m   1795\u001B[39m \u001B[43m            \u001B[49m\u001B[43moperation_id\u001B[49m\u001B[43m=\u001B[49m\u001B[43moperation_id\u001B[49m\u001B[43m,\u001B[49m\n\u001B[32m   1796\u001B[39m \u001B[43m        \u001B[49m\u001B[43m)\u001B[49m\n\u001B[32m   1797\u001B[39m     \u001B[38;5;28;01mreturn\u001B[39;00m server\n\u001B[32m   1798\u001B[39m \u001B[38;5;28;01mexcept\u001B[39;00m PyMongoError \u001B[38;5;28;01mas\u001B[39;00m exc:\n\u001B[32m   1799\u001B[39m     \u001B[38;5;66;03m# Server selection errors in a transaction are transient.\u001B[39;00m\n",
      "\u001B[36mFile \u001B[39m\u001B[32m/usr/local/lib/python3.12/site-packages/pymongo/synchronous/topology.py:409\u001B[39m, in \u001B[36mTopology.select_server\u001B[39m\u001B[34m(self, selector, operation, server_selection_timeout, address, deprioritized_servers, operation_id)\u001B[39m\n\u001B[32m    399\u001B[39m \u001B[38;5;28;01mdef\u001B[39;00m\u001B[38;5;250m \u001B[39m\u001B[34mselect_server\u001B[39m(\n\u001B[32m    400\u001B[39m     \u001B[38;5;28mself\u001B[39m,\n\u001B[32m    401\u001B[39m     selector: Callable[[Selection], Selection],\n\u001B[32m   (...)\u001B[39m\u001B[32m    406\u001B[39m     operation_id: Optional[\u001B[38;5;28mint\u001B[39m] = \u001B[38;5;28;01mNone\u001B[39;00m,\n\u001B[32m    407\u001B[39m ) -> Server:\n\u001B[32m    408\u001B[39m \u001B[38;5;250m    \u001B[39m\u001B[33;03m\"\"\"Like select_servers, but choose a random server if several match.\"\"\"\u001B[39;00m\n\u001B[32m--> \u001B[39m\u001B[32m409\u001B[39m     server = \u001B[38;5;28;43mself\u001B[39;49m\u001B[43m.\u001B[49m\u001B[43m_select_server\u001B[49m\u001B[43m(\u001B[49m\n\u001B[32m    410\u001B[39m \u001B[43m        \u001B[49m\u001B[43mselector\u001B[49m\u001B[43m,\u001B[49m\n\u001B[32m    411\u001B[39m \u001B[43m        \u001B[49m\u001B[43moperation\u001B[49m\u001B[43m,\u001B[49m\n\u001B[32m    412\u001B[39m \u001B[43m        \u001B[49m\u001B[43mserver_selection_timeout\u001B[49m\u001B[43m,\u001B[49m\n\u001B[32m    413\u001B[39m \u001B[43m        \u001B[49m\u001B[43maddress\u001B[49m\u001B[43m,\u001B[49m\n\u001B[32m    414\u001B[39m \u001B[43m        \u001B[49m\u001B[43mdeprioritized_servers\u001B[49m\u001B[43m,\u001B[49m\n\u001B[32m    415\u001B[39m \u001B[43m        \u001B[49m\u001B[43moperation_id\u001B[49m\u001B[43m=\u001B[49m\u001B[43moperation_id\u001B[49m\u001B[43m,\u001B[49m\n\u001B[32m    416\u001B[39m \u001B[43m    \u001B[49m\u001B[43m)\u001B[49m\n\u001B[32m    417\u001B[39m     \u001B[38;5;28;01mif\u001B[39;00m _csot.get_timeout():\n\u001B[32m    418\u001B[39m         _csot.set_rtt(server.description.min_round_trip_time)\n",
      "\u001B[36mFile \u001B[39m\u001B[32m/usr/local/lib/python3.12/site-packages/pymongo/synchronous/topology.py:387\u001B[39m, in \u001B[36mTopology._select_server\u001B[39m\u001B[34m(self, selector, operation, server_selection_timeout, address, deprioritized_servers, operation_id)\u001B[39m\n\u001B[32m    378\u001B[39m \u001B[38;5;28;01mdef\u001B[39;00m\u001B[38;5;250m \u001B[39m\u001B[34m_select_server\u001B[39m(\n\u001B[32m    379\u001B[39m     \u001B[38;5;28mself\u001B[39m,\n\u001B[32m    380\u001B[39m     selector: Callable[[Selection], Selection],\n\u001B[32m   (...)\u001B[39m\u001B[32m    385\u001B[39m     operation_id: Optional[\u001B[38;5;28mint\u001B[39m] = \u001B[38;5;28;01mNone\u001B[39;00m,\n\u001B[32m    386\u001B[39m ) -> Server:\n\u001B[32m--> \u001B[39m\u001B[32m387\u001B[39m     servers = \u001B[38;5;28;43mself\u001B[39;49m\u001B[43m.\u001B[49m\u001B[43mselect_servers\u001B[49m\u001B[43m(\u001B[49m\n\u001B[32m    388\u001B[39m \u001B[43m        \u001B[49m\u001B[43mselector\u001B[49m\u001B[43m,\u001B[49m\u001B[43m \u001B[49m\u001B[43moperation\u001B[49m\u001B[43m,\u001B[49m\u001B[43m \u001B[49m\u001B[43mserver_selection_timeout\u001B[49m\u001B[43m,\u001B[49m\u001B[43m \u001B[49m\u001B[43maddress\u001B[49m\u001B[43m,\u001B[49m\u001B[43m \u001B[49m\u001B[43moperation_id\u001B[49m\n\u001B[32m    389\u001B[39m \u001B[43m    \u001B[49m\u001B[43m)\u001B[49m\n\u001B[32m    390\u001B[39m     servers = _filter_servers(servers, deprioritized_servers)\n\u001B[32m    391\u001B[39m     \u001B[38;5;28;01mif\u001B[39;00m \u001B[38;5;28mlen\u001B[39m(servers) == \u001B[32m1\u001B[39m:\n",
      "\u001B[36mFile \u001B[39m\u001B[32m/usr/local/lib/python3.12/site-packages/pymongo/synchronous/topology.py:294\u001B[39m, in \u001B[36mTopology.select_servers\u001B[39m\u001B[34m(self, selector, operation, server_selection_timeout, address, operation_id)\u001B[39m\n\u001B[32m    291\u001B[39m     \u001B[38;5;28mself\u001B[39m.cleanup_monitors()\n\u001B[32m    293\u001B[39m \u001B[38;5;28;01mwith\u001B[39;00m \u001B[38;5;28mself\u001B[39m._lock:\n\u001B[32m--> \u001B[39m\u001B[32m294\u001B[39m     server_descriptions = \u001B[38;5;28;43mself\u001B[39;49m\u001B[43m.\u001B[49m\u001B[43m_select_servers_loop\u001B[49m\u001B[43m(\u001B[49m\n\u001B[32m    295\u001B[39m \u001B[43m        \u001B[49m\u001B[43mselector\u001B[49m\u001B[43m,\u001B[49m\u001B[43m \u001B[49m\u001B[43mserver_timeout\u001B[49m\u001B[43m,\u001B[49m\u001B[43m \u001B[49m\u001B[43moperation\u001B[49m\u001B[43m,\u001B[49m\u001B[43m \u001B[49m\u001B[43moperation_id\u001B[49m\u001B[43m,\u001B[49m\u001B[43m \u001B[49m\u001B[43maddress\u001B[49m\n\u001B[32m    296\u001B[39m \u001B[43m    \u001B[49m\u001B[43m)\u001B[49m\n\u001B[32m    298\u001B[39m     \u001B[38;5;28;01mreturn\u001B[39;00m [\n\u001B[32m    299\u001B[39m         cast(Server, \u001B[38;5;28mself\u001B[39m.get_server_by_address(sd.address)) \u001B[38;5;28;01mfor\u001B[39;00m sd \u001B[38;5;129;01min\u001B[39;00m server_descriptions\n\u001B[32m    300\u001B[39m     ]\n",
      "\u001B[36mFile \u001B[39m\u001B[32m/usr/local/lib/python3.12/site-packages/pymongo/synchronous/topology.py:344\u001B[39m, in \u001B[36mTopology._select_servers_loop\u001B[39m\u001B[34m(self, selector, timeout, operation, operation_id, address)\u001B[39m\n\u001B[32m    333\u001B[39m     \u001B[38;5;28;01mif\u001B[39;00m _SERVER_SELECTION_LOGGER.isEnabledFor(logging.DEBUG):\n\u001B[32m    334\u001B[39m         _debug_log(\n\u001B[32m    335\u001B[39m             _SERVER_SELECTION_LOGGER,\n\u001B[32m    336\u001B[39m             message=_ServerSelectionStatusMessage.FAILED,\n\u001B[32m   (...)\u001B[39m\u001B[32m    342\u001B[39m             failure=\u001B[38;5;28mself\u001B[39m._error_message(selector),\n\u001B[32m    343\u001B[39m         )\n\u001B[32m--> \u001B[39m\u001B[32m344\u001B[39m     \u001B[38;5;28;01mraise\u001B[39;00m ServerSelectionTimeoutError(\n\u001B[32m    345\u001B[39m         \u001B[33mf\u001B[39m\u001B[33m\"\u001B[39m\u001B[38;5;132;01m{\u001B[39;00m\u001B[38;5;28mself\u001B[39m._error_message(selector)\u001B[38;5;132;01m}\u001B[39;00m\u001B[33m, Timeout: \u001B[39m\u001B[38;5;132;01m{\u001B[39;00mtimeout\u001B[38;5;132;01m}\u001B[39;00m\u001B[33ms, Topology Description: \u001B[39m\u001B[38;5;132;01m{\u001B[39;00m\u001B[38;5;28mself\u001B[39m.description\u001B[38;5;132;01m!r}\u001B[39;00m\u001B[33m\"\u001B[39m\n\u001B[32m    346\u001B[39m     )\n\u001B[32m    348\u001B[39m \u001B[38;5;28;01mif\u001B[39;00m \u001B[38;5;129;01mnot\u001B[39;00m logged_waiting:\n\u001B[32m    349\u001B[39m     _debug_log(\n\u001B[32m    350\u001B[39m         _SERVER_SELECTION_LOGGER,\n\u001B[32m    351\u001B[39m         message=_ServerSelectionStatusMessage.WAITING,\n\u001B[32m   (...)\u001B[39m\u001B[32m    357\u001B[39m         remainingTimeMS=\u001B[38;5;28mint\u001B[39m(\u001B[32m1000\u001B[39m * (end_time - time.monotonic())),\n\u001B[32m    358\u001B[39m     )\n",
      "\u001B[31mServerSelectionTimeoutError\u001B[39m: No servers found yet, Timeout: 0.001s, Topology Description: <TopologyDescription id: 67fec38c9e55c6e4c2615c7f, topology_type: Unknown, servers: [<ServerDescription ('xorze.keenetic.pro', 36026) server_type: Unknown, rtt: None>]>"
     ]
    }
   ],
   "execution_count": 7
  }
 ],
 "metadata": {
  "kernelspec": {
   "display_name": "Python 3",
   "language": "python",
   "name": "python3"
  },
  "language_info": {
   "codemirror_mode": {
    "name": "ipython",
    "version": 2
   },
   "file_extension": ".py",
   "mimetype": "text/x-python",
   "name": "python",
   "nbconvert_exporter": "python",
   "pygments_lexer": "ipython2",
   "version": "2.7.6"
  }
 },
 "nbformat": 4,
 "nbformat_minor": 5
}
