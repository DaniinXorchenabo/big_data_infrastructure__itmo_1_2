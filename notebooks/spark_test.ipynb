{
 "cells": [
  {
   "cell_type": "code",
   "id": "initial_id",
   "metadata": {
    "collapsed": true,
    "ExecuteTime": {
     "end_time": "2025-04-15T17:32:16.711600Z",
     "start_time": "2025-04-15T17:32:16.688803Z"
    }
   },
   "source": [
    "# %load_ext autoreload\n",
    "# %autoreload 2\n",
    "# %reload_ext autoreload\n",
    "\n",
    "import os\n",
    "ROOT_DIR = '/workspace/NN'\n",
    "os.chdir(ROOT_DIR)\n",
    "\n",
    "import shutil\n",
    "import kagglehub\n",
    "import torch\n",
    "from pyspark.sql import SparkSession\n",
    "\n",
    "dataset_path = os.path.join(ROOT_DIR, 'neural', 'datasets', 'spark', 'test_1')\n",
    "os.makedirs(dataset_path, exist_ok=True)\n",
    "device = torch.device('cuda' if torch.cuda.is_available() else 'cpu')\n",
    "\n",
    "import socket\n",
    "\n",
    "driver_host = socket.gethostbyname(socket.gethostname())\n",
    "print(driver_host)\n",
    "driver_host = socket.gethostbyname(\"spark-master\")\n",
    "print(driver_host)\n",
    "driver_host = \"producer\"\n",
    "os.environ[\"PYSPARK_SUBMIT_ARGS\"] = f\"\"\"\n",
    "--master spark://spark-master:7077\n",
    "--conf spark.driver.host={driver_host}\n",
    "--conf spark.driver.port=45555\n",
    "--conf spark.executor.memory=1G\n",
    "--conf spark.executor.cores=1\n",
    "pyspark-shell\n",
    "\"\"\"\n",
    "os.environ[\"JAVA_HOME\"] = \"/usr/lib/jvm/java-11-openjdk-amd64\"\n",
    "# os.environ['PYSPARK_PYTHON'] = '/usr/bin/python3'  # путь к Python в контейнере\n",
    "# os.environ['SPARK_HOME'] = '/opt/spark'            # путь к Spark, укажи реальный\n",
    "# os.environ['PYSPARK_DRIVER_PYTHON'] = 'jupyter'\n",
    "import socket\n",
    "socket.gethostbyname(\"spark-master\")"
   ],
   "outputs": [
    {
     "name": "stdout",
     "output_type": "stream",
     "text": [
      "172.20.0.2\n",
      "192.168.32.2\n"
     ]
    },
    {
     "data": {
      "text/plain": [
       "'192.168.32.2'"
      ]
     },
     "execution_count": 5,
     "metadata": {},
     "output_type": "execute_result"
    }
   ],
   "execution_count": 5
  },
  {
   "metadata": {
    "ExecuteTime": {
     "end_time": "2025-04-15T17:32:17.763324Z",
     "start_time": "2025-04-15T17:32:17.743974Z"
    }
   },
   "cell_type": "code",
   "source": [
    "def spark_app_generator(name):\n",
    "    spark = SparkSession.builder \\\n",
    "        .master(\"spark://spark-master:7077\") \\\n",
    "        .appName(name) \\\n",
    "         .config(\"spark.driver.bindAddress\", \"0.0.0.0\") \\\n",
    "        .config(\"spark.executor.memory\", \"1g\") \\\n",
    "        .config(\"spark.driver.memory\", \"1g\") \\\n",
    "        .getOrCreate()\n",
    "    return spark\n",
    "spark = spark_app_generator(\"test_counting\")"
   ],
   "id": "2016eeb417939bf9",
   "outputs": [
    {
     "data": {
      "text/plain": [
       "<pyspark.sql.session.SparkSession at 0x7f52ebb4b3b0>"
      ],
      "text/html": [
       "\n",
       "            <div>\n",
       "                <p><b>SparkSession - in-memory</b></p>\n",
       "                \n",
       "        <div>\n",
       "            <p><b>SparkContext</b></p>\n",
       "\n",
       "            <p><a href=\"http://producer:4040\">Spark UI</a></p>\n",
       "\n",
       "            <dl>\n",
       "              <dt>Version</dt>\n",
       "                <dd><code>v3.5.5</code></dd>\n",
       "              <dt>Master</dt>\n",
       "                <dd><code>spark://spark-master:7077</code></dd>\n",
       "              <dt>AppName</dt>\n",
       "                <dd><code>JupyterToSpark_2</code></dd>\n",
       "            </dl>\n",
       "        </div>\n",
       "        \n",
       "            </div>\n",
       "        "
      ]
     },
     "execution_count": 6,
     "metadata": {},
     "output_type": "execute_result"
    }
   ],
   "execution_count": 6
  },
  {
   "metadata": {
    "ExecuteTime": {
     "end_time": "2025-04-15T17:32:19.820148Z",
     "start_time": "2025-04-15T17:32:19.153591Z"
    }
   },
   "cell_type": "code",
   "source": [
    "df = spark.range(100).toDF(\"number\")\n",
    "df.show()"
   ],
   "id": "f66957ab6de6bf59",
   "outputs": [
    {
     "name": "stdout",
     "output_type": "stream",
     "text": [
      "+------+\n",
      "|number|\n",
      "+------+\n",
      "|     0|\n",
      "|     1|\n",
      "|     2|\n",
      "|     3|\n",
      "|     4|\n",
      "|     5|\n",
      "|     6|\n",
      "|     7|\n",
      "|     8|\n",
      "|     9|\n",
      "|    10|\n",
      "|    11|\n",
      "|    12|\n",
      "|    13|\n",
      "|    14|\n",
      "|    15|\n",
      "|    16|\n",
      "|    17|\n",
      "|    18|\n",
      "|    19|\n",
      "+------+\n",
      "only showing top 20 rows\n",
      "\n"
     ]
    },
    {
     "name": "stderr",
     "output_type": "stream",
     "text": [
      "                                                                                \r"
     ]
    }
   ],
   "execution_count": 8
  },
  {
   "metadata": {
    "ExecuteTime": {
     "end_time": "2025-04-15T16:48:54.403726Z",
     "start_time": "2025-04-15T16:48:52.795044Z"
    }
   },
   "cell_type": "code",
   "source": [
    "spark = spark_app_generator(\"test_square\")\n",
    "\n",
    "# Запускаем простую задачу\n",
    "rdd = spark.sparkContext.parallelize([1, 2, 3, 4])\n",
    "\n",
    "print(rdd.map(lambda x: x * x).collect())"
   ],
   "id": "4176b90bd114c721",
   "outputs": [
    {
     "name": "stderr",
     "output_type": "stream",
     "text": [
      "[Stage 1:>                                                          (0 + 4) / 4]\r"
     ]
    },
    {
     "name": "stdout",
     "output_type": "stream",
     "text": [
      "[1, 4, 9, 16]\n"
     ]
    },
    {
     "name": "stderr",
     "output_type": "stream",
     "text": [
      "                                                                                \r"
     ]
    }
   ],
   "execution_count": 5
  },
  {
   "metadata": {
    "ExecuteTime": {
     "end_time": "2025-04-15T16:49:06.751138Z",
     "start_time": "2025-04-15T16:49:05.690946Z"
    }
   },
   "cell_type": "code",
   "outputs": [
    {
     "name": "stderr",
     "output_type": "stream",
     "text": [
      "25/04/15 16:49:05 WARN SparkSession: Using an existing Spark session; only runtime SQL configurations will take effect.\n"
     ]
    },
    {
     "data": {
      "text/plain": [
       "[('hello', 6),\n",
       " ('world', 2),\n",
       " ('spark3', 1),\n",
       " ('docker5', 1),\n",
       " ('spark', 1),\n",
       " ('docker', 1)]"
      ]
     },
     "execution_count": 6,
     "metadata": {},
     "output_type": "execute_result"
    }
   ],
   "execution_count": 6,
   "source": [
    "from pyspark.sql import SparkSession\n",
    "\n",
    "spark = spark_app_generator(\"test_WordCountTest\")\n",
    "rdd = spark.sparkContext.textFile(\"file:////\" + os.path.abspath(os.path.join(dataset_path, 'test.txt')))\n",
    "\n",
    "counts = rdd.flatMap(lambda line: line.split(\" \")) \\\n",
    "            .map(lambda word: (word, 1)) \\\n",
    "            .reduceByKey(lambda a, b: a + b)\n",
    "result = counts.collect()\n",
    "result\n"
   ],
   "id": "edaff805fa02ec80"
  },
  {
   "metadata": {},
   "cell_type": "markdown",
   "source": "## MONGO",
   "id": "1e2d3ccaabe26a21"
  },
  {
   "metadata": {},
   "cell_type": "code",
   "outputs": [],
   "execution_count": null,
   "source": "!pip install pymongo pymongo-schema",
   "id": "4c0ef90a19915c36"
  },
  {
   "metadata": {},
   "cell_type": "code",
   "outputs": [],
   "execution_count": null,
   "source": [
    "import pymongo\n",
    "\n",
    "MONGO_USER = os.environ[\"MONGO_USER\"]\n",
    "MONGO_PASS = os.environ[\"MONGO_PASSWORD\"]\n",
    "MONGO_ADDR = f\"{MONGO_USER}:{MONGO_PASS}@mongodb:27017\"  # :27017\n",
    "\n",
    "maxSevSelDelay = 1 # Assume 1ms maximum server selection\n",
    "client = pymongo.MongoClient(f\"mongodb://{MONGO_ADDR}\",\n",
    "                                 serverSelectionTimeoutMS=maxSevSelDelay)\n",
    "\n",
    "print(client.server_info())\n",
    "print(client.list_database_names())\n",
    "print(client.off.list_collection_names())"
   ],
   "id": "be4d6dafe9a25ebc"
  }
 ],
 "metadata": {
  "kernelspec": {
   "display_name": "Python 3",
   "language": "python",
   "name": "python3"
  },
  "language_info": {
   "codemirror_mode": {
    "name": "ipython",
    "version": 2
   },
   "file_extension": ".py",
   "mimetype": "text/x-python",
   "name": "python",
   "nbconvert_exporter": "python",
   "pygments_lexer": "ipython2",
   "version": "2.7.6"
  }
 },
 "nbformat": 4,
 "nbformat_minor": 5
}
