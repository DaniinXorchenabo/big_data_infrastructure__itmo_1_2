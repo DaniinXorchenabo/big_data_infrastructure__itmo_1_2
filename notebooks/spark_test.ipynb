{
 "cells": [
  {
   "metadata": {
    "ExecuteTime": {
     "end_time": "2025-04-14T20:30:27.483278Z",
     "start_time": "2025-04-14T20:30:27.191917Z"
    }
   },
   "cell_type": "code",
   "source": "!python -V\n",
   "id": "76f72538ee3aa7de",
   "outputs": [
    {
     "name": "stdout",
     "output_type": "stream",
     "text": [
      "Python 3.12.10\r\n"
     ]
    }
   ],
   "execution_count": 1
  },
  {
   "cell_type": "code",
   "id": "initial_id",
   "metadata": {
    "collapsed": true,
    "ExecuteTime": {
     "end_time": "2025-04-15T17:05:31.135992Z",
     "start_time": "2025-04-15T17:05:29.866458Z"
    }
   },
   "source": [
    "# %load_ext autoreload\n",
    "# %autoreload 2\n",
    "# %reload_ext autoreload\n",
    "\n",
    "import os\n",
    "ROOT_DIR = '/workspace/NN'\n",
    "os.chdir(ROOT_DIR)\n",
    "\n",
    "import shutil\n",
    "import kagglehub\n",
    "import torch\n",
    "from pyspark.sql import SparkSession\n",
    "\n",
    "dataset_path = os.path.join(ROOT_DIR, 'neural', 'datasets', 'spark', 'test_1')\n",
    "os.makedirs(dataset_path, exist_ok=True)\n",
    "device = torch.device('cuda' if torch.cuda.is_available() else 'cpu')\n",
    "\n",
    "import socket\n",
    "\n",
    "driver_host = socket.gethostbyname(socket.gethostname())\n",
    "print(driver_host)\n",
    "driver_host = socket.gethostbyname(\"spark-master\")\n",
    "print(driver_host)\n",
    "driver_host = \"producer\"\n",
    "os.environ[\"PYSPARK_SUBMIT_ARGS\"] = f\"\"\"\n",
    "--master spark://spark-master:7077\n",
    "--conf spark.driver.host={driver_host}\n",
    "--conf spark.driver.port=45555\n",
    "--conf spark.executor.memory=1G\n",
    "--conf spark.executor.cores=1\n",
    "pyspark-shell\n",
    "\"\"\"\n",
    "os.environ[\"JAVA_HOME\"] = \"/usr/lib/jvm/java-11-openjdk-amd64\"\n",
    "# os.environ['PYSPARK_PYTHON'] = '/usr/bin/python3'  # путь к Python в контейнере\n",
    "# os.environ['SPARK_HOME'] = '/opt/spark'            # путь к Spark, укажи реальный\n",
    "# os.environ['PYSPARK_DRIVER_PYTHON'] = 'jupyter'\n",
    "import socket\n",
    "socket.gethostbyname(\"spark-master\")"
   ],
   "outputs": [
    {
     "name": "stdout",
     "output_type": "stream",
     "text": [
      "172.20.0.2\n",
      "192.168.32.2\n"
     ]
    },
    {
     "data": {
      "text/plain": [
       "'192.168.32.2'"
      ]
     },
     "execution_count": 1,
     "metadata": {},
     "output_type": "execute_result"
    }
   ],
   "execution_count": 1
  },
  {
   "metadata": {
    "ExecuteTime": {
     "end_time": "2025-04-15T17:05:36.151238Z",
     "start_time": "2025-04-15T17:05:32.213080Z"
    }
   },
   "cell_type": "code",
   "source": [
    "spark = SparkSession.builder \\\n",
    "    .master(\"spark://spark-master:7077\") \\\n",
    "    .appName(\"JupyterToSpark_2\") \\\n",
    "     .config(\"spark.driver.bindAddress\", \"0.0.0.0\") \\\n",
    "    .config(\"spark.executor.memory\", \"1g\") \\\n",
    "    .config(\"spark.driver.memory\", \"1g\") \\\n",
    "    .getOrCreate()\n",
    "spark"
   ],
   "id": "2016eeb417939bf9",
   "outputs": [
    {
     "name": "stderr",
     "output_type": "stream",
     "text": [
      "Setting default log level to \"WARN\".\n",
      "To adjust logging level use sc.setLogLevel(newLevel). For SparkR, use setLogLevel(newLevel).\n",
      "25/04/15 17:05:33 WARN NativeCodeLoader: Unable to load native-hadoop library for your platform... using builtin-java classes where applicable\n"
     ]
    },
    {
     "data": {
      "text/plain": [
       "<pyspark.sql.session.SparkSession at 0x7f52ebb4b3b0>"
      ],
      "text/html": [
       "\n",
       "            <div>\n",
       "                <p><b>SparkSession - in-memory</b></p>\n",
       "                \n",
       "        <div>\n",
       "            <p><b>SparkContext</b></p>\n",
       "\n",
       "            <p><a href=\"http://producer:4040\">Spark UI</a></p>\n",
       "\n",
       "            <dl>\n",
       "              <dt>Version</dt>\n",
       "                <dd><code>v3.5.5</code></dd>\n",
       "              <dt>Master</dt>\n",
       "                <dd><code>spark://spark-master:7077</code></dd>\n",
       "              <dt>AppName</dt>\n",
       "                <dd><code>JupyterToSpark_2</code></dd>\n",
       "            </dl>\n",
       "        </div>\n",
       "        \n",
       "            </div>\n",
       "        "
      ]
     },
     "execution_count": 2,
     "metadata": {},
     "output_type": "execute_result"
    }
   ],
   "execution_count": 2
  },
  {
   "metadata": {
    "ExecuteTime": {
     "end_time": "2025-04-15T17:05:37.900653Z",
     "start_time": "2025-04-15T17:05:37.896734Z"
    }
   },
   "cell_type": "code",
   "source": "# print(spark.sparkContext._conf.getAll())",
   "id": "c8e7757e410d37c4",
   "outputs": [],
   "execution_count": 3
  },
  {
   "metadata": {
    "ExecuteTime": {
     "end_time": "2025-04-15T17:05:40.972204Z",
     "start_time": "2025-04-15T17:05:38.503790Z"
    }
   },
   "cell_type": "code",
   "source": [
    "df = spark.range(100).toDF(\"number\")\n",
    "df.show()"
   ],
   "id": "f66957ab6de6bf59",
   "outputs": [
    {
     "name": "stdout",
     "output_type": "stream",
     "text": [
      "+------+\n",
      "|number|\n",
      "+------+\n",
      "|     0|\n",
      "|     1|\n",
      "|     2|\n",
      "|     3|\n",
      "|     4|\n",
      "|     5|\n",
      "|     6|\n",
      "|     7|\n",
      "|     8|\n",
      "|     9|\n",
      "|    10|\n",
      "|    11|\n",
      "|    12|\n",
      "|    13|\n",
      "|    14|\n",
      "|    15|\n",
      "|    16|\n",
      "|    17|\n",
      "|    18|\n",
      "|    19|\n",
      "+------+\n",
      "only showing top 20 rows\n",
      "\n"
     ]
    },
    {
     "name": "stderr",
     "output_type": "stream",
     "text": [
      "                                                                                \r"
     ]
    }
   ],
   "execution_count": 4
  },
  {
   "metadata": {
    "ExecuteTime": {
     "end_time": "2025-04-15T16:48:54.403726Z",
     "start_time": "2025-04-15T16:48:52.795044Z"
    }
   },
   "cell_type": "code",
   "source": [
    "\n",
    "\n",
    "# spark = (SparkSession.builder\n",
    "#          .appName(\"TestJob_5\")\n",
    "#     .master(\"spark://spark-master:7077\")\n",
    "#     .config(\"spark.driver.host\", \"producer\")\n",
    "#     .config(\"spark.driver.port\", \"45555\")\n",
    "#     .config(\"spark.executor.memory\", \"2g\")\n",
    "#     .config(\"spark.driver.memory\", \"1g\")\n",
    "#          .getOrCreate())\n",
    "# print(spark.sparkContext._conf.getAll())\n",
    "\n",
    "# Запускаем простую задачу\n",
    "rdd = spark.sparkContext.parallelize([1, 2, 3, 4])\n",
    "\n",
    "\n",
    "\"\"\"\n",
    "work:\n",
    "[('spark.driver.extraJavaOptions', '-Djava.net.preferIPv6Addresses=false -XX:+IgnoreUnrecognizedVMOptions --add-opens=java.base/java.lang=ALL-UNNAMED --add-opens=java.base/java.lang.invoke=ALL-UNNAMED --add-opens=java.base/java.lang.reflect=ALL-UNNAMED --add-opens=java.base/java.io=ALL-UNNAMED --add-opens=java.base/java.net=ALL-UNNAMED --add-opens=java.base/java.nio=ALL-UNNAMED --add-opens=java.base/java.util=ALL-UNNAMED --add-opens=java.base/java.util.concurrent=ALL-UNNAMED --add-opens=java.base/java.util.concurrent.atomic=ALL-UNNAMED --add-opens=java.base/jdk.internal.ref=ALL-UNNAMED --add-opens=java.base/sun.nio.ch=ALL-UNNAMED --add-opens=java.base/sun.nio.cs=ALL-UNNAMED --add-opens=java.base/sun.security.action=ALL-UNNAMED --add-opens=java.base/sun.util.calendar=ALL-UNNAMED --add-opens=java.security.jgss/sun.security.krb5=ALL-UNNAMED -Djdk.reflect.useDirectMethodHandle=false'), ('spark.app.startTime', '1744664465326'), ('spark.executor.id', 'driver'), ('spark.driver.host', '98d66276b038'), ('spark.app.id', 'local-1744664465957'), ('spark.app.submitTime', '1744664465220'), ('spark.app.name', 'TestJob_4'), ('spark.driver.port', '34171'), ('spark.rdd.compress', 'True'), ('spark.executor.extraJavaOptions', '-Djava.net.preferIPv6Addresses=false -XX:+IgnoreUnrecognizedVMOptions --add-opens=java.base/java.lang=ALL-UNNAMED --add-opens=java.base/java.lang.invoke=ALL-UNNAMED --add-opens=java.base/java.lang.reflect=ALL-UNNAMED --add-opens=java.base/java.io=ALL-UNNAMED --add-opens=java.base/java.net=ALL-UNNAMED --add-opens=java.base/java.nio=ALL-UNNAMED --add-opens=java.base/java.util=ALL-UNNAMED --add-opens=java.base/java.util.concurrent=ALL-UNNAMED --add-opens=java.base/java.util.concurrent.atomic=ALL-UNNAMED --add-opens=java.base/jdk.internal.ref=ALL-UNNAMED --add-opens=java.base/sun.nio.ch=ALL-UNNAMED --add-opens=java.base/sun.nio.cs=ALL-UNNAMED --add-opens=java.base/sun.security.action=ALL-UNNAMED --add-opens=java.base/sun.util.calendar=ALL-UNNAMED --add-opens=java.security.jgss/sun.security.krb5=ALL-UNNAMED -Djdk.reflect.useDirectMethodHandle=false'), ('spark.sql.warehouse.dir', 'file:/workspace/NN/spark-warehouse'), ('spark.serializer.objectStreamReset', '100'), ('spark.master', 'local[*]'), ('spark.submit.pyFiles', ''), ('spark.submit.deployMode', 'client'), ('spark.ui.showConsoleProgress', 'true')]\n",
    "\n",
    "not work:\n",
    "[('spark.app.startTime', '1744664678919'), ('spark.driver.extraJavaOptions', '-Djava.net.preferIPv6Addresses=false -XX:+IgnoreUnrecognizedVMOptions --add-opens=java.base/java.lang=ALL-UNNAMED --add-opens=java.base/java.lang.invoke=ALL-UNNAMED --add-opens=java.base/java.lang.reflect=ALL-UNNAMED --add-opens=java.base/java.io=ALL-UNNAMED --add-opens=java.base/java.net=ALL-UNNAMED --add-opens=java.base/java.nio=ALL-UNNAMED --add-opens=java.base/java.util=ALL-UNNAMED --add-opens=java.base/java.util.concurrent=ALL-UNNAMED --add-opens=java.base/java.util.concurrent.atomic=ALL-UNNAMED --add-opens=java.base/jdk.internal.ref=ALL-UNNAMED --add-opens=java.base/sun.nio.ch=ALL-UNNAMED --add-opens=java.base/sun.nio.cs=ALL-UNNAMED --add-opens=java.base/sun.security.action=ALL-UNNAMED --add-opens=java.base/sun.util.calendar=ALL-UNNAMED --add-opens=java.security.jgss/sun.security.krb5=ALL-UNNAMED -Djdk.reflect.useDirectMethodHandle=false'), ('spark.executor.id', 'driver'), ('spark.executor.memory', '1G'), ('spark.driver.host', '192.168.0.2'), ('spark.app.name', 'TestJob_4'), ('spark.rdd.compress', 'True'), ('spark.executor.extraJavaOptions', '-Djava.net.preferIPv6Addresses=false -XX:+IgnoreUnrecognizedVMOptions --add-opens=java.base/java.lang=ALL-UNNAMED --add-opens=java.base/java.lang.invoke=ALL-UNNAMED --add-opens=java.base/java.lang.reflect=ALL-UNNAMED --add-opens=java.base/java.io=ALL-UNNAMED --add-opens=java.base/java.net=ALL-UNNAMED --add-opens=java.base/java.nio=ALL-UNNAMED --add-opens=java.base/java.util=ALL-UNNAMED --add-opens=java.base/java.util.concurrent=ALL-UNNAMED --add-opens=java.base/java.util.concurrent.atomic=ALL-UNNAMED --add-opens=java.base/jdk.internal.ref=ALL-UNNAMED --add-opens=java.base/sun.nio.ch=ALL-UNNAMED --add-opens=java.base/sun.nio.cs=ALL-UNNAMED --add-opens=java.base/sun.security.action=ALL-UNNAMED --add-opens=java.base/sun.util.calendar=ALL-UNNAMED --add-opens=java.security.jgss/sun.security.krb5=ALL-UNNAMED -Djdk.reflect.useDirectMethodHandle=false'), ('spark.master', 'spark://spark-master:7077'), ('spark.serializer.objectStreamReset', '100'), ('spark.submit.pyFiles', ''), ('spark.executor.cores', '1'), ('spark.submit.deployMode', 'client'), ('spark.app.submitTime', '1744664678755'), ('spark.ui.showConsoleProgress', 'true'), ('spark.driver.port', '33357'), ('spark.app.id', 'app-20250414210439-0001')]\n",
    "\"\"\"\n",
    "print(rdd.map(lambda x: x * x).collect())"
   ],
   "id": "4176b90bd114c721",
   "outputs": [
    {
     "name": "stderr",
     "output_type": "stream",
     "text": [
      "[Stage 1:>                                                          (0 + 4) / 4]\r"
     ]
    },
    {
     "name": "stdout",
     "output_type": "stream",
     "text": [
      "[1, 4, 9, 16]\n"
     ]
    },
    {
     "name": "stderr",
     "output_type": "stream",
     "text": [
      "                                                                                \r"
     ]
    }
   ],
   "execution_count": 5
  },
  {
   "metadata": {
    "ExecuteTime": {
     "end_time": "2025-04-15T16:49:06.751138Z",
     "start_time": "2025-04-15T16:49:05.690946Z"
    }
   },
   "cell_type": "code",
   "source": [
    "from pyspark.sql import SparkSession\n",
    "\n",
    "spark = SparkSession.builder \\\n",
    "    .appName(\"WordCountTest_2\") \\\n",
    "    .getOrCreate()\n",
    "\n",
    "# rdd = spark.sparkContext.textFile(os.path.join(dataset_path, 'test.txt'))\n",
    "rdd = spark.sparkContext.textFile(\"file:////\" + os.path.abspath(os.path.join(dataset_path, 'test.txt')))\n",
    "\n",
    "counts = rdd.flatMap(lambda line: line.split(\" \")) \\\n",
    "            .map(lambda word: (word, 1)) \\\n",
    "            .reduceByKey(lambda a, b: a + b)\n",
    "result = counts.collect()\n",
    "result\n",
    "# from threading import Thread\n",
    "#\n",
    "# def run_job():\n",
    "#     result = counts.collect()\n",
    "#     print(result)\n",
    "#\n",
    "# t = Thread(target=run_job)\n",
    "# t.start()\n",
    "# # Код продолжает работать, пока Spark job выполняется в фоне\n",
    "# print(\"Spark job is running in the background...\")\n"
   ],
   "id": "edaff805fa02ec80",
   "outputs": [
    {
     "name": "stderr",
     "output_type": "stream",
     "text": [
      "25/04/15 16:49:05 WARN SparkSession: Using an existing Spark session; only runtime SQL configurations will take effect.\n"
     ]
    },
    {
     "data": {
      "text/plain": [
       "[('hello', 6),\n",
       " ('world', 2),\n",
       " ('spark3', 1),\n",
       " ('docker5', 1),\n",
       " ('spark', 1),\n",
       " ('docker', 1)]"
      ]
     },
     "execution_count": 6,
     "metadata": {},
     "output_type": "execute_result"
    }
   ],
   "execution_count": 6
  },
  {
   "metadata": {
    "ExecuteTime": {
     "end_time": "2025-04-14T21:01:29.549992Z",
     "start_time": "2025-04-14T21:01:29.544029Z"
    }
   },
   "cell_type": "code",
   "source": "result",
   "id": "16fc0cc284723d1c",
   "outputs": [
    {
     "data": {
      "text/plain": [
       "[('hello', 6),\n",
       " ('world', 2),\n",
       " ('spark', 1),\n",
       " ('docker', 1),\n",
       " ('spark3', 1),\n",
       " ('docker5', 1)]"
      ]
     },
     "execution_count": 4,
     "metadata": {},
     "output_type": "execute_result"
    }
   ],
   "execution_count": 4
  },
  {
   "metadata": {
    "ExecuteTime": {
     "end_time": "2025-04-14T21:01:37.932566Z",
     "start_time": "2025-04-14T21:01:37.703037Z"
    }
   },
   "cell_type": "code",
   "source": [
    "rdd = spark.sparkContext.parallelize([1, 2, 3, 4])\n",
    "rdd.map(lambda x: x * x).collect()"
   ],
   "id": "3bf58b84c7b779c1",
   "outputs": [
    {
     "data": {
      "text/plain": [
       "[1, 4, 9, 16]"
      ]
     },
     "execution_count": 5,
     "metadata": {},
     "output_type": "execute_result"
    }
   ],
   "execution_count": 5
  },
  {
   "metadata": {
    "ExecuteTime": {
     "end_time": "2025-04-14T19:38:29.184600Z",
     "start_time": "2025-04-14T19:38:29.180180Z"
    }
   },
   "cell_type": "code",
   "source": "os.environ[\"JAVA_HOME\"] = \"/usr/lib/jvm/java-11-openjdk-amd64\"",
   "id": "67e9f8928234d138",
   "outputs": [],
   "execution_count": 5
  },
  {
   "metadata": {},
   "cell_type": "code",
   "outputs": [],
   "execution_count": null,
   "source": "",
   "id": "327f43093260b08b"
  }
 ],
 "metadata": {
  "kernelspec": {
   "display_name": "Python 3",
   "language": "python",
   "name": "python3"
  },
  "language_info": {
   "codemirror_mode": {
    "name": "ipython",
    "version": 2
   },
   "file_extension": ".py",
   "mimetype": "text/x-python",
   "name": "python",
   "nbconvert_exporter": "python",
   "pygments_lexer": "ipython2",
   "version": "2.7.6"
  }
 },
 "nbformat": 4,
 "nbformat_minor": 5
}
