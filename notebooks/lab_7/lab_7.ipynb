{
 "cells": [
  {
   "cell_type": "code",
   "execution_count": 1,
   "id": "7b9b6cb37ac18a19",
   "metadata": {
    "ExecuteTime": {
     "end_time": "2025-04-22T15:53:04.111993Z",
     "start_time": "2025-04-22T15:53:02.792005Z"
    }
   },
   "outputs": [
    {
     "name": "stdout",
     "output_type": "stream",
     "text": [
      "Requirement already satisfied: pyspark==3.5.5 in /usr/local/lib/python3.12/site-packages (3.5.5)\r\n",
      "Requirement already satisfied: py4j==0.10.9.7 in /usr/local/lib/python3.12/site-packages (from pyspark==3.5.5) (0.10.9.7)\r\n",
      "\u001B[33mWARNING: Running pip as the 'root' user can result in broken permissions and conflicting behaviour with the system package manager, possibly rendering your system unusable. It is recommended to use a virtual environment instead: https://pip.pypa.io/warnings/venv. Use the --root-user-action option if you know what you are doing and want to suppress this warning.\u001B[0m\u001B[33m\r\n",
      "\u001B[0m"
     ]
    }
   ],
   "source": [
    "!pip install pyspark==3.5.5"
   ]
  },
  {
   "metadata": {},
   "cell_type": "markdown",
   "source": "# Run nested containers",
   "id": "b166f36d612cf656"
  },
  {
   "metadata": {},
   "cell_type": "markdown",
   "source": [
    "```bash\n",
    " docker-compose \\\n",
    "  -f .\\docker\\entrypoint.docker-compose.yml \\\n",
    "  -f .\\docker\\spark\\spark.docker-compose.yml \\\n",
    "  --env-file=./env/.env  \\\n",
    "  up  \\\n",
    "      spark-master \\\n",
    "      spark-worker-1 \\\n",
    "      spark-worker-2 \\\n",
    "      producer \\\n",
    "      mongodb \\\n",
    "      redis \\\n",
    "      neo4j \\\n",
    "      --build\n",
    "```"
   ],
   "id": "1b60f41da70ad755"
  },
  {
   "metadata": {},
   "cell_type": "markdown",
   "source": "# Spark driver init",
   "id": "2ae4d16ff8b4e0b6"
  },
  {
   "cell_type": "code",
   "execution_count": 1,
   "id": "initial_id",
   "metadata": {
    "ExecuteTime": {
     "end_time": "2025-04-26T18:33:26.973155Z",
     "start_time": "2025-04-26T18:33:21.684438Z"
    }
   },
   "outputs": [
    {
     "name": "stdout",
     "output_type": "stream",
     "text": [
      "172.22.0.4\n",
      "172.22.0.5\n",
      "172.22.0.4\n"
     ]
    }
   ],
   "source": [
    "# %load_ext autoreload\n",
    "# %autoreload 2\n",
    "# %reload_ext autoreload\n",
    "\n",
    "import os\n",
    "\n",
    "ROOT_DIR = '/workspace/NN'\n",
    "os.chdir(ROOT_DIR)\n",
    "\n",
    "import torch\n",
    "from pyspark.sql import SparkSession\n",
    "import socket\n",
    "\n",
    "dataset_path = os.path.join(ROOT_DIR, 'neural', 'datasets', 'spark', 'test_1')\n",
    "weight_path = os.path.join(ROOT_DIR, 'neural', 'weights', 'lab_5', 'kmeans')\n",
    "os.makedirs(dataset_path, exist_ok=True)\n",
    "device = torch.device('cuda' if torch.cuda.is_available() else 'cpu')\n",
    "\n",
    "driver_host = \"producer\"\n",
    "os.environ[\"JAVA_HOME\"] = os.environ[\"K8S_JAVA_HOME\"]\n",
    "os.environ[\"PYSPARK_SUBMIT_ARGS\"] = f\"\"\"\n",
    "--conf spark.executor.memory={os.environ['SPARK_EXECUTOR_MEMORY']}\n",
    "--conf spark.executor.cores={os.environ['SPARK_EXECUTOR_CORES']}\n",
    "pyspark-shell\n",
    "\"\"\"\n",
    "\n",
    "neo4j_url = f'bolt://{os.environ[\"NEO4J_HOST\"]}:{os.environ[\"NEO4J_PORT\"]}'\n",
    "neo4j_user = os.environ[\"NEO4J_USER\"]\n",
    "neo4j_pass = os.environ[\"NEO4J_PASSWORD\"]\n",
    "MONGO_USER = os.environ[\"MONGO_USER\"]\n",
    "MONGO_PASS = os.environ[\"MONGO_PASSWORD\"]\n",
    "MONGO_ADDR = f\"{MONGO_USER}:{MONGO_PASS}@mongodb:27017\"  # :27017\n",
    "\n",
    "REDIS_HOST = os.environ[\"REDIS_HOST\"]\n",
    "REDIS_PORT = os.environ[\"REDIS_PORT\"]\n",
    "REDIS_DB = os.environ[\"REDIS_DB\"]\n",
    "\n",
    "\n",
    "def spark_app_generator(name):\n",
    "    spark = SparkSession.builder \\\n",
    "        .master(os.environ[\"SPARK_MASTER\"]) \\\n",
    "        .appName(name) \\\n",
    "        .config(\"spark.driver.bindAddress\", os.environ['SPARK_DRIVER_BINDADDRES']) \\\n",
    "        .config(\"spark.executor.memory\", os.environ['SPARK_EXECUTOR_MEMORY']) \\\n",
    "        .config(\"spark.driver.memory\", os.environ['SPARK_DRIVER_MEMORY']) \\\n",
    "        .config(\"spark.jars.packages\", \"org.mongodb.spark:mongo-spark-connector_2.12:10.3.0,\"\n",
    "                                       \"org.neo4j:neo4j-connector-apache-spark_2.12:5.3.1_for_spark_3,\"\n",
    "                                       \"com.redislabs:spark-redis_2.12:3.1.0\") \\\n",
    "        .config(\"spark.mongodb.read.connection.uri\", f\"mongodb://{MONGO_ADDR}\") \\\n",
    "        .config(\"spark.mongodb.write.connection.uri\", f\"mongodb://{MONGO_ADDR}\") \\\n",
    "        .config(\"spark.redis.host\", REDIS_HOST) \\\n",
    "        .config(\"spark.redis.port\", REDIS_PORT) \\\n",
    "        .config(\"spark.redis.db\", REDIS_DB) \\\n",
    "        .config(\"spark.neo4j.bolt.url\", neo4j_url) \\\n",
    "        .config(\"spark.neo4j.bolt.user\", neo4j_user) \\\n",
    "        .config(\"spark.neo4j.bolt.password\", neo4j_pass) \\\n",
    "        .config(\"neo4j.url\", neo4j_url) \\\n",
    "        .config(\"neo4j.authentication.basic.username\", neo4j_user) \\\n",
    "        .config(\"neo4j.authentication.basic.password\", neo4j_pass) \\\n",
    "        .getOrCreate()\n",
    "\n",
    "    # .config(\"spark.hadoop.hadoop.home.dir\", \"/hadoop/dfs/name\") \\\n",
    "    # .config(\"spark.hadoop.fs.defaultFS\", \"hdfs://namenode:9000\") \\\n",
    "    # .config(\"spark.hadoop.dfs.client.use.namenode.hostname\", \"true\") \\\n",
    "    print(spark.sparkContext.getConf().get(\"spark.jars.packages\"))\n",
    "    return spark  # /openfoodfacts.products\n"
   ]
  },
  {
   "metadata": {},
   "cell_type": "markdown",
   "source": "## Create dataframe schema",
   "id": "2f63c3d5b97c7fb9"
  },
  {
   "metadata": {},
   "cell_type": "code",
   "outputs": [],
   "execution_count": null,
   "source": [
    "from pyspark.sql.types import (StructType, StructField,\n",
    "                               StringType, IntegerType, MapType,\n",
    "                               DoubleType\n",
    "                               )\n",
    "\n",
    "# Пример определения схемы. Настройте схему под структуру ваших данных.\n",
    "custom_schema = StructType([\n",
    "    StructField(\"_id\", StringType(), True),\n",
    "    StructField(\"product_name\", StringType(), True),\n",
    "    # Если nutriments представляет собой динамические поля, лучше сохранить его как MapType.\n",
    "    StructField(\"ingredients_n\", IntegerType(), nullable=True),\n",
    "    StructField(\"ingredients_sweeteners_n\", IntegerType(), nullable=True),\n",
    "    StructField(\"scans_n\", IntegerType(), nullable=True),\n",
    "    StructField(\"additives_n\", IntegerType(), nullable=True),\n",
    "\n",
    "])\n",
    "\n",
    "spark = spark_app_generator('lab_7')"
   ],
   "id": "a537b1582f308027"
  },
  {
   "metadata": {},
   "cell_type": "markdown",
   "source": [
    "---\n",
    "## This code running in the data mart service\n",
    "\n",
    "```scala\n",
    "package com.example.datamart.transform\n",
    "\n",
    "import org.apache.spark.ml.feature.{StandardScaler, VectorAssembler}\n",
    "import org.apache.spark.sql.{DataFrame, functions => F}\n",
    "\n",
    "object Preprocessing {\n",
    "  def transform(df: DataFrame): DataFrame = {\n",
    "    val selected = df.select(\"ingredients_n\",\"ingredients_sweeteners_n\",\"scans_n\",\"additives_n\")\n",
    "      .na.drop()\n",
    "\n",
    "    val assembler = new VectorAssembler()\n",
    "      .setInputCols(Array(\"ingredients_n\",\"ingredients_sweeteners_n\",\"scans_n\",\"additives_n\"))\n",
    "      .setOutputCol(\"features_assembled\")\n",
    "\n",
    "    val assembled = assembler.transform(selected)\n",
    "\n",
    "    val scaler = new StandardScaler()\n",
    "      .setInputCol(\"features_assembled\")\n",
    "      .setOutputCol(\"features\")\n",
    "      .fit(assembled)\n",
    "\n",
    "    scaler.transform(assembled).select(\"features\")            # :contentReference[oaicite:11]{index=11}\n",
    "  }\n",
    "}\n",
    "```\n",
    "\n",
    "```scala\n",
    "package com.example.datamart\n",
    "\n",
    "import org.apache.spark.sql.types._\n",
    "\n",
    "import com.typesafe.config.ConfigFactory\n",
    "import org.apache.spark.sql.{SaveMode, SparkSession}\n",
    "\n",
    "object DataMartApp {\n",
    "  def main(args: Array[String]): Unit = {\n",
    "    // Load configuration from environment or application.conf\n",
    "    val mongoUri = sys.env(\"MONGO_URI\")\n",
    "    val neo4jUrl = sys.env(\"NEO4J_URL\")\n",
    "    val neo4jUser = sys.env(\"NEO4J_USER\")\n",
    "    val neo4jPass = sys.env(\"NEO4J_PASS\")\n",
    "\n",
    "    // Initialize SparkSession with MongoDB and Neo4j settings\n",
    "    val spark = SparkSession.builder()\n",
    "      .appName(\"DataMartApp\")\n",
    "      .config(\"spark.jars.packages\", \"org.neo4j:neo4j-connector-apache-spark_2.12:5.3.1_for_spark_3\")\n",
    "      .config(\"neo4j.url\", neo4jUrl) // Замените на ваш адрес Neo4j\n",
    "      .config(\"neo4j.authentication.basic.username\", neo4jUser)\n",
    "      .config(\"neo4j.authentication.basic.password\", neo4jPass)\n",
    "      .config(\"spark.mongodb.read.connection.uri\", mongoUri)\n",
    "      .config(\"spark.neo4j.bolt.url\", neo4jUrl)\n",
    "      .config(\"spark.neo4j.bolt.user\", neo4jUser)\n",
    "      .config(\"spark.neo4j.bolt.password\", neo4jPass)\n",
    "      .getOrCreate()\n",
    "\n",
    "\n",
    "    val customSchema = StructType(Seq(\n",
    "      StructField(\"_id\", StringType, true),\n",
    "      StructField(\"product_name\", StringType, true),\n",
    "      StructField(\"ingredients_n\", IntegerType, nullable = true),\n",
    "      StructField(\"ingredients_sweeteners_n\", IntegerType, nullable = true),\n",
    "      StructField(\"scans_n\", IntegerType, nullable = true),\n",
    "      StructField(\"additives_n\", IntegerType, nullable = true),\n",
    "    ))\n",
    "\n",
    "    // Read raw data from MongoDB\n",
    "    val rawDF = spark.read.format(\"mongodb\").schema(customSchema).option(\"database\", \"off\").option(\"collection\", \"products\").option(\"uri\", \"mongodb://mongo:27017\").option(\"sql.inferSchema.mapTypes.enabled\", \"true\").option(\"sql.inferSchema.mapTypes.minimum.key.size\", \"10\").load()\n",
    "\n",
    "    // Data preprocessing: select and drop nulls\n",
    "    val cleanDF = rawDF\n",
    "      .select(\n",
    "        rawDF(\"_id\"),\n",
    "        rawDF(\"product_name\"),\n",
    "        rawDF(\"ingredients_n\"),\n",
    "        rawDF(\"ingredients_sweeteners_n\"),\n",
    "        rawDF(\"scans_n\"),\n",
    "        rawDF(\"additives_n\")\n",
    "      )\n",
    "      .na.drop()\n",
    "\n",
    "    // Write cleaned data as Neo4j nodes labeled 'CleanedProduct'\n",
    "    cleanDF.write\n",
    "      .format(\"org.neo4j.spark.DataSource\")\n",
    "      .mode(SaveMode.Overwrite)\n",
    "      .option(\"labels\", \"CleanedProduct\")\n",
    "      .option(\"node.keys\", \"_id\")\n",
    "      .save()\n",
    "\n",
    "    spark.stop()\n",
    "  }\n",
    "}\n",
    "```"
   ],
   "id": "1fa8d0756e934c94"
  },
  {
   "metadata": {},
   "cell_type": "markdown",
   "source": "## Load clean data from data-mart (middle) db",
   "id": "e912e0c6dc9911c7"
  },
  {
   "cell_type": "code",
   "execution_count": 2,
   "id": "4893b1c50680e696",
   "metadata": {
    "ExecuteTime": {
     "end_time": "2025-04-26T18:34:37.919610Z",
     "start_time": "2025-04-26T18:33:32.843419Z"
    }
   },
   "outputs": [
    {
     "name": "stderr",
     "output_type": "stream",
     "text": [
      "Warning: Ignoring non-Spark config property: neo4j.url\n",
      "Warning: Ignoring non-Spark config property: neo4j.authentication.basic.password\n",
      "Warning: Ignoring non-Spark config property: neo4j.authentication.basic.username\n"
     ]
    },
    {
     "name": "stdout",
     "output_type": "stream",
     "text": [
      ":: loading settings :: url = jar:file:/usr/local/lib/python3.12/site-packages/pyspark/jars/ivy-2.5.1.jar!/org/apache/ivy/core/settings/ivysettings.xml\n"
     ]
    },
    {
     "name": "stderr",
     "output_type": "stream",
     "text": [
      "Ivy Default Cache set to: /root/.ivy2/cache\n",
      "The jars for the packages stored in: /root/.ivy2/jars\n",
      "org.mongodb.spark#mongo-spark-connector_2.12 added as a dependency\n",
      "org.neo4j#neo4j-connector-apache-spark_2.12 added as a dependency\n",
      "com.redislabs#spark-redis_2.12 added as a dependency\n",
      ":: resolving dependencies :: org.apache.spark#spark-submit-parent-1df7e46a-3032-4ae5-b5fc-8df227feec1f;1.0\n",
      "\tconfs: [default]\n",
      "\tfound org.mongodb.spark#mongo-spark-connector_2.12;10.3.0 in central\n",
      "\tfound org.mongodb#mongodb-driver-sync;4.8.2 in central\n",
      "\t[4.8.2] org.mongodb#mongodb-driver-sync;[4.8.1,4.8.99)\n",
      "\tfound org.mongodb#bson;4.8.2 in central\n",
      "\tfound org.mongodb#mongodb-driver-core;4.8.2 in central\n",
      "\tfound org.mongodb#bson-record-codec;4.8.2 in central\n",
      "\tfound org.neo4j#neo4j-connector-apache-spark_2.12;5.3.1_for_spark_3 in central\n",
      "\tfound org.neo4j#neo4j-connector-apache-spark_2.12_common;5.3.1 in central\n",
      "\tfound org.neo4j.driver#neo4j-java-driver;4.4.17 in central\n",
      "\tfound org.reactivestreams#reactive-streams;1.0.4 in central\n",
      "\tfound org.apache.xbean#xbean-asm6-shaded;4.10 in central\n",
      "\tfound org.neo4j#neo4j-cypher-dsl;2022.9.2 in central\n",
      "\tfound org.apiguardian#apiguardian-api;1.1.2 in central\n",
      "\tfound com.redislabs#spark-redis_2.12;3.1.0 in central\n",
      "\tfound redis.clients#jedis;3.9.0 in central\n",
      "\tfound org.slf4j#slf4j-api;1.7.30 in central\n",
      "\tfound org.apache.commons#commons-pool2;2.11.1 in central\n",
      ":: resolution report :: resolve 1981ms :: artifacts dl 12ms\n",
      "\t:: modules in use:\n",
      "\tcom.redislabs#spark-redis_2.12;3.1.0 from central in [default]\n",
      "\torg.apache.commons#commons-pool2;2.11.1 from central in [default]\n",
      "\torg.apache.xbean#xbean-asm6-shaded;4.10 from central in [default]\n",
      "\torg.apiguardian#apiguardian-api;1.1.2 from central in [default]\n",
      "\torg.mongodb#bson;4.8.2 from central in [default]\n",
      "\torg.mongodb#bson-record-codec;4.8.2 from central in [default]\n",
      "\torg.mongodb#mongodb-driver-core;4.8.2 from central in [default]\n",
      "\torg.mongodb#mongodb-driver-sync;4.8.2 from central in [default]\n",
      "\torg.mongodb.spark#mongo-spark-connector_2.12;10.3.0 from central in [default]\n",
      "\torg.neo4j#neo4j-connector-apache-spark_2.12;5.3.1_for_spark_3 from central in [default]\n",
      "\torg.neo4j#neo4j-connector-apache-spark_2.12_common;5.3.1 from central in [default]\n",
      "\torg.neo4j#neo4j-cypher-dsl;2022.9.2 from central in [default]\n",
      "\torg.neo4j.driver#neo4j-java-driver;4.4.17 from central in [default]\n",
      "\torg.reactivestreams#reactive-streams;1.0.4 from central in [default]\n",
      "\torg.slf4j#slf4j-api;1.7.30 from central in [default]\n",
      "\tredis.clients#jedis;3.9.0 from central in [default]\n",
      "\t---------------------------------------------------------------------\n",
      "\t|                  |            modules            ||   artifacts   |\n",
      "\t|       conf       | number| search|dwnlded|evicted|| number|dwnlded|\n",
      "\t---------------------------------------------------------------------\n",
      "\t|      default     |   16  |   1   |   0   |   0   ||   16  |   0   |\n",
      "\t---------------------------------------------------------------------\n",
      ":: retrieving :: org.apache.spark#spark-submit-parent-1df7e46a-3032-4ae5-b5fc-8df227feec1f\n",
      "\tconfs: [default]\n",
      "\t0 artifacts copied, 16 already retrieved (0kB/7ms)\n",
      "25/04/26 20:03:22 WARN NativeCodeLoader: Unable to load native-hadoop library for your platform... using builtin-java classes where applicable\n",
      "Setting default log level to \"WARN\".\n",
      "To adjust logging level use sc.setLogLevel(newLevel). For SparkR, use setLogLevel(newLevel).\n"
     ]
    },
    {
     "name": "stdout",
     "output_type": "stream",
     "text": [
      "org.mongodb.spark:mongo-spark-connector_2.12:10.3.0,org.neo4j:neo4j-connector-apache-spark_2.12:5.3.1_for_spark_3,com.redislabs:spark-redis_2.12:3.1.0\n"
     ]
    },
    {
     "name": "stderr",
     "output_type": "stream",
     "text": [
      "25/04/26 20:03:25 WARN SchemaService: Switching to query schema resolution\n",
      "                                                                                "
     ]
    },
    {
     "name": "stdout",
     "output_type": "stream",
     "text": [
      "500435\n",
      "root\n",
      " |-- <id>: long (nullable = false)\n",
      " |-- <labels>: array (nullable = true)\n",
      " |    |-- element: string (containsNull = true)\n",
      " |-- scans_n: long (nullable = true)\n",
      " |-- product_name: string (nullable = true)\n",
      " |-- ingredients_sweeteners_n: long (nullable = true)\n",
      " |-- ingredients_n: long (nullable = true)\n",
      " |-- additives_n: long (nullable = true)\n",
      " |-- _id: string (nullable = true)\n",
      "\n"
     ]
    },
    {
     "name": "stderr",
     "output_type": "stream",
     "text": [
      "                                                                                "
     ]
    },
    {
     "name": "stdout",
     "output_type": "stream",
     "text": [
      "+----+----------------+-------+--------------------+------------------------+-------------+-----------+-------------+\n",
      "|<id>|        <labels>|scans_n|        product_name|ingredients_sweeteners_n|ingredients_n|additives_n|          _id|\n",
      "+----+----------------+-------+--------------------+------------------------+-------------+-----------+-------------+\n",
      "|   0|[CleanedProduct]|      1|      Genovese pesto|                       0|           17|          0|0011110899378|\n",
      "|   1|[CleanedProduct]|      2|        Marshmallows|                       0|            9|          3|0015400023931|\n",
      "|   2|[CleanedProduct]|      3|    Meatless Chorizo|                       0|           20|          1|0011110129345|\n",
      "|   3|[CleanedProduct]|      2|                Cola|                       0|            6|          2|0011110496805|\n",
      "|   4|[CleanedProduct]|      1|Wrap Poulet à la ...|                       0|           51|          5|     00099332|\n",
      "|   5|[CleanedProduct]|      1|        Berry Medley|                       0|            4|          0|0011150545341|\n",
      "|   6|[CleanedProduct]|      1|   100% Pure pumpkin|                       0|            1|          0|0011110899781|\n",
      "|   7|[CleanedProduct]|      1| Crunchy fish sticks|                       0|           18|          2|0011150570084|\n",
      "|   8|[CleanedProduct]|      8|          Sour Cream|                       0|            3|          0|0011110130105|\n",
      "|   9|[CleanedProduct]|      8|      Marinara sauce|                       0|           16|          0|     00099769|\n",
      "|  10|[CleanedProduct]|      1|         Sarsparilla|                       0|            6|          1|0011110500946|\n",
      "|  11|[CleanedProduct]|      2|   Mini Marshmallows|                       0|            9|          3|0015400023948|\n",
      "|  12|[CleanedProduct]|      1|     Tilapia Fillets|                       0|            1|          0|0011150572293|\n",
      "|  13|[CleanedProduct]|      5|West Country Luxu...|                       0|            8|          0|0009999645766|\n",
      "|  14|[CleanedProduct]|      1|       Vanilla Syrup|                       0|            6|          3|0011110130327|\n",
      "|  15|[CleanedProduct]|      2|Mango Peach Peppe...|                       0|           11|          2|0015400130592|\n",
      "|  16|[CleanedProduct]|      1|Finely Sharp Shre...|                       0|           13|          2|0011110501110|\n",
      "|  17|[CleanedProduct]|      2|Premium Chicken B...|                       0|            3|          0|0011110900920|\n",
      "|  18|[CleanedProduct]|      4|       Seed Cocktail|                       0|            5|          0|0009999996994|\n",
      "|  19|[CleanedProduct]|      1|Soft Baked Fruit ...|                       0|           56|         16|0011110130501|\n",
      "+----+----------------+-------+--------------------+------------------------+-------------+-----------+-------------+\n",
      "only showing top 20 rows\n",
      "\n"
     ]
    }
   ],
   "source": [
    "\n",
    "df = spark.read.format(\"org.neo4j.spark.DataSource\") \\\n",
    "    .option(\"labels\", \"CleanedProduct\") \\\n",
    "    .load()  # , database=\"off\", collection='products'\n",
    "\n",
    "# Просмотр схемы и первых строк\n",
    "print(df.count())\n",
    "df.printSchema()\n",
    "df.show(20)\n"
   ]
  },
  {
   "metadata": {},
   "cell_type": "markdown",
   "source": "## Learn KMean",
   "id": "1cd501d915926058"
  },
  {
   "metadata": {},
   "cell_type": "code",
   "outputs": [],
   "execution_count": null,
   "source": [
    "from pyspark.ml.feature import VectorAssembler, StandardScaler\n",
    "\n",
    "# Сбор признаков в вектор\n",
    "numeric_features_2 = ['ingredients_n', 'ingredients_sweeteners_n', 'scans_n', 'additives_n', ]\n",
    "assembler = VectorAssembler(inputCols=numeric_features_2, outputCol=\"features_assembled\")\n",
    "df_vector = assembler.transform(df)\n",
    "\n",
    "# Масштабирование признаков\n",
    "scaler = StandardScaler(inputCol=\"features_assembled\", outputCol=\"features\")\n",
    "scaler_model = scaler.fit(df_vector)\n",
    "df_scaled = scaler_model.transform(df_vector)"
   ],
   "id": "c02b8fcaed7039d"
  },
  {
   "cell_type": "code",
   "execution_count": null,
   "id": "c0b6b13c448b00de",
   "metadata": {
    "ExecuteTime": {
     "start_time": "2025-04-26T18:36:22.690917Z"
    },
    "jupyter": {
     "is_executing": true
    }
   },
   "outputs": [
    {
     "name": "stderr",
     "output_type": "stream",
     "text": [
      "[Stage 10:>                                                         (0 + 1) / 1]"
     ]
    }
   ],
   "source": [
    "from pyspark.ml.clustering import KMeans\n",
    "from pyspark.ml.evaluation import ClusteringEvaluator\n",
    "\n",
    "# df_small = df_scaled.limit(100)\n",
    "# Обучение модели k-средних\n",
    "kmeans = KMeans().setK(4).setSeed(1).setFeaturesCol(\"features\")\n",
    "model = kmeans.fit(df_scaled)\n",
    "\n"
   ]
  },
  {
   "metadata": {},
   "cell_type": "markdown",
   "source": "## Get cluster center",
   "id": "ae4b8a212a1ae63a"
  },
  {
   "cell_type": "code",
   "execution_count": null,
   "id": "2d049b60c3cb9d92",
   "metadata": {
    "ExecuteTime": {
     "end_time": "2025-04-24T18:35:04.726339Z",
     "start_time": "2025-04-24T18:28:50.924284Z"
    }
   },
   "outputs": [],
   "source": [
    "# Предсказание кластеров\n",
    "predictions = model.transform(df_scaled)\n",
    "result = predictions.select(\n",
    "    \"_id\",\n",
    "    \"product_name\",\n",
    "    'ingredients_n', 'ingredients_sweeteners_n', 'scans_n', 'additives_n',\n",
    "    \"features\", \"prediction\"\n",
    ")\n",
    "# result.show()\n",
    "# Оценка модели\n",
    "evaluator = ClusteringEvaluator()\n",
    "silhouette = evaluator.evaluate(predictions)\n",
    "print(f\"Silhouette Score: {silhouette}\")\n",
    "\n",
    "# Центры кластеров\n",
    "centers = model.clusterCenters()\n",
    "for idx, center in enumerate(centers):\n",
    "    print(f\"Cluster {idx} center: {center}\")"
   ]
  },
  {
   "cell_type": "code",
   "execution_count": null,
   "id": "ea93e75619243192",
   "metadata": {
    "ExecuteTime": {
     "end_time": "2025-04-24T18:35:08.836890Z",
     "start_time": "2025-04-24T18:35:04.775656Z"
    }
   },
   "outputs": [],
   "source": [
    "result.show(10)"
   ]
  },
  {
   "metadata": {},
   "cell_type": "markdown",
   "source": "## Save results",
   "id": "c508cf816563c74d"
  },
  {
   "cell_type": "code",
   "execution_count": null,
   "id": "5a8dffd424816e51",
   "metadata": {
    "ExecuteTime": {
     "end_time": "2025-04-25T13:34:43.219605Z",
     "start_time": "2025-04-25T13:30:58.373334Z"
    }
   },
   "outputs": [],
   "source": [
    "\n",
    "result \\\n",
    "    .write \\\n",
    "    .format(\"org.apache.spark.sql.redis\") \\\n",
    "    .option(\"table\", \"results_lab_7\") \\\n",
    "    .option(\"key.column\", \"_id\") \\\n",
    "    .mode(\"overwrite\") \\\n",
    "    .save()"
   ]
  },
  {
   "cell_type": "code",
   "execution_count": 6,
   "id": "f1ad6ce7ea151e20",
   "metadata": {
    "ExecuteTime": {
     "end_time": "2025-04-22T19:55:04.449580Z",
     "start_time": "2025-04-22T19:55:04.317165Z"
    }
   },
   "outputs": [],
   "source": [
    "# Не забудьте остановить SparkSession по завершении работы\n",
    "spark.stop()"
   ]
  }
 ],
 "metadata": {
  "kernelspec": {
   "display_name": "Python 3 (ipykernel)",
   "language": "python",
   "name": "python3"
  },
  "language_info": {
   "codemirror_mode": {
    "name": "ipython",
    "version": 3
   },
   "file_extension": ".py",
   "mimetype": "text/x-python",
   "name": "python",
   "nbconvert_exporter": "python",
   "pygments_lexer": "ipython3",
   "version": "3.12.10"
  }
 },
 "nbformat": 4,
 "nbformat_minor": 5
}
